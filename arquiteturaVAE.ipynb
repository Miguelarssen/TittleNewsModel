{
 "cells": [
  {
   "cell_type": "code",
   "execution_count": 51,
   "metadata": {},
   "outputs": [],
   "source": [
    "import pandas as pd\n",
    "import matplotlib.pyplot as plt \n",
    "import numpy as np\n",
    "import json"
   ]
  },
  {
   "cell_type": "code",
   "execution_count": 52,
   "metadata": {},
   "outputs": [],
   "source": [
    "import tensorflow as tf\n",
    "\n",
    "from tensorflow.keras.layers import Embedding, Dense, Conv1D, GlobalMaxPooling1D, MaxPool1D\n",
    "from tensorflow.keras.preprocessing.text import Tokenizer\n",
    "from tensorflow.keras.preprocessing.sequence import pad_sequences\n",
    "from tensorflow.keras.models import Sequential\n",
    "from tensorflow.keras.optimizers import Adam\n",
    "from tensorflow import keras\n",
    "from tensorflow.keras import layers"
   ]
  },
  {
   "cell_type": "code",
   "execution_count": 53,
   "metadata": {},
   "outputs": [],
   "source": [
    "with open(\"tokenizer.json\", \"r\") as jsonfile:\n",
    "    tokenizer = json.load(jsonfile)\n",
    "\n",
    "tokenizer = tf.keras.preprocessing.text.tokenizer_from_json(tokenizer)"
   ]
  },
  {
   "cell_type": "code",
   "execution_count": 54,
   "metadata": {},
   "outputs": [],
   "source": [
    "with open(\"dados/tituloTratado.csv\", \"r\") as csvfile:\n",
    "    titulos = np.genfromtxt(csvfile, delimiter=\",\")\n",
    "    titulos = titulos.astype(np.int32)"
   ]
  },
  {
   "cell_type": "code",
   "execution_count": 55,
   "metadata": {},
   "outputs": [],
   "source": [
    "with open(\"dados/conteudoTratado.csv\", \"r\") as csvfile:\n",
    "    conteudos = np.genfromtxt(csvfile, delimiter=\",\")\n",
    "    conteudos = conteudos.astype(np.int32)"
   ]
  },
  {
   "cell_type": "code",
   "execution_count": 56,
   "metadata": {},
   "outputs": [],
   "source": [
    "size = len(conteudos)\n",
    "\n",
    "xTrain = conteudos[0:int(size*0.8)]\n",
    "xTest = conteudos[int(size*0.8):]\n",
    "\n",
    "yTrain = titulos[0:int(size*0.8)]\n",
    "yTest = titulos[int(size*0.8):]"
   ]
  },
  {
   "cell_type": "code",
   "execution_count": 57,
   "metadata": {},
   "outputs": [],
   "source": [
    "vocab = len(tokenizer.word_index)"
   ]
  },
  {
   "cell_type": "code",
   "execution_count": 58,
   "metadata": {},
   "outputs": [],
   "source": [
    "maxTitle = max(len(tokens) for tokens in titulos)\n",
    "maxContent = max(len(tokens) for tokens in conteudos)"
   ]
  },
  {
   "cell_type": "code",
   "execution_count": 59,
   "metadata": {},
   "outputs": [],
   "source": [
    "class SamplingLayer(layers.Layer):\n",
    "  \"\"\"Reparameterization Trick z = mu + sigma * epsilon\"\"\"\n",
    "\n",
    "  def call(self, inputs):\n",
    "    zMean, zLogVar = inputs\n",
    "    batch = tf.shape(zMean)[0]\n",
    "    dim = tf.shape(zMean)[1]\n",
    "    epsilon = tf.keras.backend.random_normal(shape=(batch, dim))\n",
    "    return zMean + tf.exp(0.5 * zLogVar) * epsilon"
   ]
  },
  {
   "cell_type": "code",
   "execution_count": 63,
   "metadata": {},
   "outputs": [
    {
     "name": "stdout",
     "output_type": "stream",
     "text": [
      "Model: \"encoder\"\n",
      "__________________________________________________________________________________________________\n",
      " Layer (type)                Output Shape                 Param #   Connected to                  \n",
      "==================================================================================================\n",
      " input_33 (InputLayer)       [(None, 2141, 1)]            0         []                            \n",
      "                                                                                                  \n",
      " sequential_27 (Sequential)  (None, 256)                  71232     ['input_33[0][0]']            \n",
      "                                                                                                  \n",
      " z_mean (Dense)              (None, 1)                    257       ['sequential_27[0][0]']       \n",
      "                                                                                                  \n",
      " z_log_var (Dense)           (None, 1)                    257       ['sequential_27[0][0]']       \n",
      "                                                                                                  \n",
      " sampling_layer_8 (Sampling  (None, 1)                    0         ['z_mean[0][0]',              \n",
      " Layer)                                                              'z_log_var[0][0]']           \n",
      "                                                                                                  \n",
      "==================================================================================================\n",
      "Total params: 71746 (280.26 KB)\n",
      "Trainable params: 71746 (280.26 KB)\n",
      "Non-trainable params: 0 (0.00 Byte)\n",
      "__________________________________________________________________________________________________\n"
     ]
    }
   ],
   "source": [
    "def Encoder(latentDim, encoderInputs):\n",
    "    \n",
    "  l1 = keras.models.Sequential([\n",
    "    layers.Conv1D(128, 3, activation=\"relu\", strides=2, padding=\"same\"),\n",
    "    MaxPool1D(3),\n",
    "    layers.Conv1D(64, 3, activation=\"relu\", strides=2, padding=\"same\"),\n",
    "    GlobalMaxPooling1D(data_format=\"channels_first\"),\n",
    "    layers.Dense(256, activation=\"relu\")\n",
    "  ])\n",
    "\n",
    "  x = l1(encoderInputs)\n",
    "\n",
    "  zMean = layers.Dense(latentDim, name=\"z_mean\")(x)\n",
    "  zLogVar = layers.Dense(latentDim, name=\"z_log_var\")(x)\n",
    "\n",
    "  z = SamplingLayer()([zMean, zLogVar])\n",
    "\n",
    "  return keras.Model(encoderInputs, [zMean, zLogVar, z], name=\"encoder\")\n",
    "\n",
    "encoderInputs = keras.Input(shape=(maxContent, 1))\n",
    "encoder = Encoder(1, encoderInputs)\n",
    "encoder.summary()"
   ]
  }
 ],
 "metadata": {
  "kernelspec": {
   "display_name": "Python 3",
   "language": "python",
   "name": "python3"
  },
  "language_info": {
   "codemirror_mode": {
    "name": "ipython",
    "version": 3
   },
   "file_extension": ".py",
   "mimetype": "text/x-python",
   "name": "python",
   "nbconvert_exporter": "python",
   "pygments_lexer": "ipython3",
   "version": "3.11.7"
  }
 },
 "nbformat": 4,
 "nbformat_minor": 2
}
