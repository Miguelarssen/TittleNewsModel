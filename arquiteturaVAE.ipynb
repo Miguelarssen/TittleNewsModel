{
 "cells": [
  {
   "cell_type": "code",
   "execution_count": 749,
   "metadata": {},
   "outputs": [],
   "source": [
    "import pandas as pd\n",
    "import matplotlib.pyplot as plt \n",
    "import numpy as np\n",
    "import json"
   ]
  },
  {
   "cell_type": "code",
   "execution_count": 750,
   "metadata": {},
   "outputs": [],
   "source": [
    "import tensorflow as tf\n",
    "\n",
    "from tensorflow.keras.layers import Embedding, Dense, Conv1D, GlobalMaxPooling1D, MaxPooling1D\n",
    "from tensorflow.keras.preprocessing.text import Tokenizer\n",
    "from tensorflow.keras.preprocessing.sequence import pad_sequences\n",
    "from tensorflow.keras.models import Sequential\n",
    "from tensorflow.keras.optimizers import Adam\n",
    "from tensorflow import keras\n",
    "from tensorflow.keras import layers"
   ]
  },
  {
   "cell_type": "code",
   "execution_count": 751,
   "metadata": {},
   "outputs": [],
   "source": [
    "with open(\"tokenizer.json\", \"r\") as jsonfile:\n",
    "    tokenizer = json.load(jsonfile)\n",
    "\n",
    "tokenizer = tf.keras.preprocessing.text.tokenizer_from_json(tokenizer)"
   ]
  },
  {
   "cell_type": "code",
   "execution_count": 752,
   "metadata": {},
   "outputs": [],
   "source": [
    "with open(\"dados/tituloTratado.csv\", \"r\") as csvfile:\n",
    "    titulos = np.genfromtxt(csvfile, delimiter=\",\")\n",
    "    titulos = titulos.astype(np.int32)"
   ]
  },
  {
   "cell_type": "code",
   "execution_count": 753,
   "metadata": {},
   "outputs": [],
   "source": [
    "with open(\"dados/conteudoTratado.csv\", \"r\") as csvfile:\n",
    "    conteudos = np.genfromtxt(csvfile, delimiter=\",\")\n",
    "    conteudos = conteudos.astype(np.int32)"
   ]
  },
  {
   "cell_type": "code",
   "execution_count": 754,
   "metadata": {},
   "outputs": [],
   "source": [
    "size = len(conteudos)\n",
    "\n",
    "xTrain = conteudos[0:int(size*0.8)]\n",
    "xTest = conteudos[int(size*0.8):]\n",
    "\n",
    "yTrain = titulos[0:int(size*0.8)]\n",
    "yTest = titulos[int(size*0.8):]"
   ]
  },
  {
   "cell_type": "code",
   "execution_count": 755,
   "metadata": {},
   "outputs": [],
   "source": [
    "vocab = len(tokenizer.word_index)"
   ]
  },
  {
   "cell_type": "code",
   "execution_count": 788,
   "metadata": {},
   "outputs": [
    {
     "data": {
      "text/plain": [
       "7392"
      ]
     },
     "execution_count": 788,
     "metadata": {},
     "output_type": "execute_result"
    }
   ],
   "source": [
    "vocab"
   ]
  },
  {
   "cell_type": "code",
   "execution_count": 756,
   "metadata": {},
   "outputs": [],
   "source": [
    "maxTitle = max(len(tokens) for tokens in titulos)\n",
    "maxContent = max(len(tokens) for tokens in conteudos)"
   ]
  },
  {
   "cell_type": "code",
   "execution_count": 757,
   "metadata": {},
   "outputs": [],
   "source": [
    "class SamplingLayer(layers.Layer):\n",
    "  \"\"\"Reparameterization Trick z = mu + sigma * epsilon\"\"\"\n",
    "\n",
    "  def call(self, inputs):\n",
    "    zMean, zLogVar = inputs\n",
    "    batch = tf.shape(zMean)[0]\n",
    "    dim = tf.shape(zMean)[1]\n",
    "    epsilon = tf.keras.backend.random_normal(shape=(batch, dim))\n",
    "    return zMean + tf.exp(0.5 * zLogVar) * epsilon"
   ]
  },
  {
   "cell_type": "code",
   "execution_count": 791,
   "metadata": {},
   "outputs": [
    {
     "name": "stdout",
     "output_type": "stream",
     "text": [
      "Model: \"encoder\"\n",
      "__________________________________________________________________________________________________\n",
      " Layer (type)                Output Shape                 Param #   Connected to                  \n",
      "==================================================================================================\n",
      " input_83 (InputLayer)       [(None, 2141, 1)]            0         []                            \n",
      "                                                                                                  \n",
      " sequential_79 (Sequential)  (None, 256)                  3609849   ['input_83[0][0]']            \n",
      "                                                          6                                       \n",
      "                                                                                                  \n",
      " z_mean (Dense)              (None, 1)                    257       ['sequential_79[0][0]']       \n",
      "                                                                                                  \n",
      " z_log_var (Dense)           (None, 1)                    257       ['sequential_79[0][0]']       \n",
      "                                                                                                  \n",
      " sampling_layer_27 (Samplin  (None, 1)                    0         ['z_mean[0][0]',              \n",
      " gLayer)                                                             'z_log_var[0][0]']           \n",
      "                                                                                                  \n",
      "==================================================================================================\n",
      "Total params: 36099010 (137.71 MB)\n",
      "Trainable params: 36099010 (137.71 MB)\n",
      "Non-trainable params: 0 (0.00 Byte)\n",
      "__________________________________________________________________________________________________\n"
     ]
    }
   ],
   "source": [
    "def Encoder(latentDim, encoderInputs):\n",
    "    \n",
    "  l1 = keras.models.Sequential([\n",
    "    layers.Embedding(vocab, 128, input_length=maxContent),\n",
    "    layers.Conv1D(128, 3, activation=\"relu\", strides=1, padding=\"same\"),\n",
    "    layers.Conv1D(64, 3, activation=\"relu\", strides=1, padding=\"same\"),\n",
    "    layers.Flatten(),\n",
    "    layers.Dense(256, activation=\"relu\")\n",
    "  ])\n",
    "\n",
    "  x = l1(encoderInputs)\n",
    "\n",
    "  zMean = layers.Dense(latentDim, name=\"z_mean\")(x)\n",
    "  zLogVar = layers.Dense(latentDim, name=\"z_log_var\")(x)\n",
    "\n",
    "  z = SamplingLayer()([zMean, zLogVar])\n",
    "\n",
    "  return keras.Model(encoderInputs, [zMean, zLogVar, z], name=\"encoder\")\n",
    "\n",
    "encoderInputs = keras.Input(shape=(maxContent, 1))\n",
    "encoder = Encoder(1, encoderInputs)\n",
    "encoder.summary()"
   ]
  },
  {
   "cell_type": "code",
   "execution_count": 759,
   "metadata": {},
   "outputs": [
    {
     "name": "stdout",
     "output_type": "stream",
     "text": [
      "Model: \"decoder\"\n",
      "_________________________________________________________________\n",
      " Layer (type)                Output Shape              Param #   \n",
      "=================================================================\n",
      " input_81 (InputLayer)       [(None, 1)]               0         \n",
      "                                                                 \n",
      " sequential_78 (Sequential)  (None, 15, 1)             25375     \n",
      "                                                                 \n",
      "=================================================================\n",
      "Total params: 25375 (99.12 KB)\n",
      "Trainable params: 25375 (99.12 KB)\n",
      "Non-trainable params: 0 (0.00 Byte)\n",
      "_________________________________________________________________\n"
     ]
    }
   ],
   "source": [
    "def Decoder(latentInputs):\n",
    "\n",
    "  l1 = keras.models.Sequential([\n",
    "    layers.Dense(maxTitle, activation=\"relu\", input_shape=(latentInputs.shape[1],)),\n",
    "    layers.Reshape((maxTitle, 1)),\n",
    "    layers.Conv1DTranspose(128, 3, activation=\"relu\", strides=1, padding=\"same\"),\n",
    "    layers.Conv1DTranspose(64, 3, activation=\"relu\", strides=1, padding=\"same\"),\n",
    "    layers.Conv1DTranspose(1, 3, activation=\"sigmoid\", padding=\"same\", input_shape=(None, maxTitle))\n",
    "  ])\n",
    "\n",
    "  return keras.Model(latentInputs, l1(latentInputs), name=\"decoder\")\n",
    "\n",
    "latentInputs = keras.Input(shape=(1,))\n",
    "decoder = Decoder(latentInputs)\n",
    "decoder.summary()"
   ]
  },
  {
   "cell_type": "code",
   "execution_count": 760,
   "metadata": {},
   "outputs": [],
   "source": [
    "def reconstructionLoss(data, reconstructed):\n",
    "  return keras.losses.binary_crossentropy(data, reconstructed)   "
   ]
  },
  {
   "cell_type": "code",
   "execution_count": 761,
   "metadata": {},
   "outputs": [],
   "source": [
    "def klDivergenceLoss(zMean, zLogVar):\n",
    "  return tf.reduce_mean(\n",
    "        -0.5 * (1 + zLogVar - tf.square(zMean) - tf.exp(zLogVar)),\n",
    "        axis=1\n",
    "  )"
   ]
  },
  {
   "cell_type": "code",
   "execution_count": 762,
   "metadata": {},
   "outputs": [],
   "source": [
    "def calcTotalLoss(data, reconstructed, zMean, zLogVar):\n",
    "  loss1 = reconstructionLoss(data, reconstructed)\n",
    "  loss2 = klDivergenceLoss(zMean, zLogVar)\n",
    "  klWeight = 3.0\n",
    "  return  loss1, loss2, loss1 + klWeight * loss2"
   ]
  },
  {
   "cell_type": "code",
   "execution_count": 763,
   "metadata": {},
   "outputs": [
    {
     "name": "stdout",
     "output_type": "stream",
     "text": [
      "(78, 2141) \n",
      " (78, 15)\n"
     ]
    }
   ],
   "source": [
    "print(xTrain.shape, \"\\n\", yTrain.shape)"
   ]
  },
  {
   "cell_type": "code",
   "execution_count": 764,
   "metadata": {},
   "outputs": [],
   "source": [
    "xTrain = np.expand_dims(xTrain, -1)\n",
    "yTrain = np.expand_dims(yTrain, -1)"
   ]
  },
  {
   "cell_type": "code",
   "execution_count": 765,
   "metadata": {},
   "outputs": [],
   "source": [
    "xTest = np.expand_dims(xTest, -1)\n",
    "yTest = np.expand_dims(yTest, -1)"
   ]
  },
  {
   "cell_type": "code",
   "execution_count": 766,
   "metadata": {},
   "outputs": [
    {
     "name": "stdout",
     "output_type": "stream",
     "text": [
      "(78, 2141, 1) \n",
      " (78, 15, 1)\n"
     ]
    }
   ],
   "source": [
    "print(xTrain.shape, \"\\n\", yTrain.shape)"
   ]
  },
  {
   "cell_type": "code",
   "execution_count": 767,
   "metadata": {},
   "outputs": [],
   "source": [
    "class VAE(keras.Model):\n",
    "  def __init__(self, encoder, decoder, **kwargs):\n",
    "    super(VAE, self).__init__(**kwargs)\n",
    "    self.encoder = encoder\n",
    "    self.decoder = decoder\n",
    "\n",
    "    self.totalLossTracker = keras.metrics.Mean(name=\"total_loss\")\n",
    "    self.ceLossTracker = keras.metrics.Mean(name=\"ce_loss\")\n",
    "    self.klLossTracker = keras.metrics.Mean(name=\"kl_loss\")\n",
    "    \n",
    "  @property\n",
    "  def metrics(self):\n",
    "    return [\n",
    "        self.totalLossTracker,\n",
    "        self.ceLossTracker,\n",
    "        self.klLossTracker\n",
    "    ]\n",
    "\n",
    "  def train_step(self, data):\n",
    "\n",
    "    x, y = data[0]\n",
    "\n",
    "    with tf.GradientTape() as tape:\n",
    "        \n",
    "        zMean, zLogVar, z = self.encoder(x)\n",
    "        reconstruction = self.decoder(z)\n",
    "\n",
    "        ceLoss, klLoss, totalLoss = calcTotalLoss(y, reconstruction, zMean, zLogVar)\n",
    "\n",
    "    grads = tape.gradient(totalLoss, self.trainable_weights)\n",
    "    self.optimizer.apply_gradients(zip(grads, self.trainable_weights))\n",
    "\n",
    "    #self.totalLossTracker.update_state(totalLoss)\n",
    "    self.ceLossTracker.update_state(ceLoss)\n",
    "    #self.klLossTracker.update_state(klLoss)\n",
    "\n",
    "    return {\n",
    "        \"total_loss\": self.totalLossTracker.result(),\n",
    "        \"ce_loss\": self.ceLossTracker.result(),\n",
    "        \"kl_loss\": self.klLossTracker.result()\n",
    "    }"
   ]
  },
  {
   "cell_type": "code",
   "execution_count": 768,
   "metadata": {},
   "outputs": [
    {
     "name": "stdout",
     "output_type": "stream",
     "text": [
      "Epoch 1/50\n",
      "78/78 [==============================] - 19s 227ms/step - total_loss: 0.0000e+00 - ce_loss: 3811451.5000 - kl_loss: 0.0000e+00\n",
      "Epoch 2/50\n",
      "78/78 [==============================] - 18s 225ms/step - total_loss: 0.0000e+00 - ce_loss: -2260.4355 - kl_loss: 0.0000e+00\n",
      "Epoch 3/50\n",
      "78/78 [==============================] - 17s 224ms/step - total_loss: 0.0000e+00 - ce_loss: -9097.8105 - kl_loss: 0.0000e+00\n",
      "Epoch 4/50\n",
      "78/78 [==============================] - 17s 223ms/step - total_loss: 0.0000e+00 - ce_loss: -25235.6973 - kl_loss: 0.0000e+00\n",
      "Epoch 5/50\n",
      "78/78 [==============================] - 17s 220ms/step - total_loss: 0.0000e+00 - ce_loss: -54655.9688 - kl_loss: 0.0000e+00\n",
      "Epoch 6/50\n",
      "78/78 [==============================] - 17s 217ms/step - total_loss: 0.0000e+00 - ce_loss: -102829.8906 - kl_loss: 0.0000e+00\n",
      "Epoch 7/50\n",
      "78/78 [==============================] - 17s 224ms/step - total_loss: 0.0000e+00 - ce_loss: -171501.1094 - kl_loss: 0.0000e+00\n",
      "Epoch 8/50\n",
      "78/78 [==============================] - 17s 217ms/step - total_loss: 0.0000e+00 - ce_loss: -267038.4688 - kl_loss: 0.0000e+00\n",
      "Epoch 9/50\n",
      "78/78 [==============================] - 17s 217ms/step - total_loss: 0.0000e+00 - ce_loss: -389668.6562 - kl_loss: 0.0000e+00\n",
      "Epoch 10/50\n",
      "78/78 [==============================] - 17s 218ms/step - total_loss: 0.0000e+00 - ce_loss: -546856.8125 - kl_loss: 0.0000e+00\n",
      "Epoch 11/50\n",
      "78/78 [==============================] - 17s 216ms/step - total_loss: 0.0000e+00 - ce_loss: -736798.5000 - kl_loss: 0.0000e+00\n",
      "Epoch 12/50\n",
      "78/78 [==============================] - 17s 218ms/step - total_loss: 0.0000e+00 - ce_loss: -963745.8125 - kl_loss: 0.0000e+00\n",
      "Epoch 13/50\n",
      "78/78 [==============================] - 17s 217ms/step - total_loss: 0.0000e+00 - ce_loss: -1233090.7500 - kl_loss: 0.0000e+00\n",
      "Epoch 14/50\n",
      "78/78 [==============================] - 17s 218ms/step - total_loss: 0.0000e+00 - ce_loss: -1544644.0000 - kl_loss: 0.0000e+00\n",
      "Epoch 15/50\n",
      "78/78 [==============================] - 17s 217ms/step - total_loss: 0.0000e+00 - ce_loss: -1904107.8750 - kl_loss: 0.0000e+00\n",
      "Epoch 16/50\n",
      "78/78 [==============================] - 17s 218ms/step - total_loss: 0.0000e+00 - ce_loss: -2311959.7500 - kl_loss: 0.0000e+00\n",
      "Epoch 17/50\n",
      "78/78 [==============================] - 17s 219ms/step - total_loss: 0.0000e+00 - ce_loss: -2774998.0000 - kl_loss: 0.0000e+00\n",
      "Epoch 18/50\n",
      "78/78 [==============================] - 17s 217ms/step - total_loss: 0.0000e+00 - ce_loss: -3299104.7500 - kl_loss: 0.0000e+00\n",
      "Epoch 19/50\n",
      "78/78 [==============================] - 17s 218ms/step - total_loss: 0.0000e+00 - ce_loss: -3884661.2500 - kl_loss: 0.0000e+00\n",
      "Epoch 20/50\n",
      "78/78 [==============================] - 17s 218ms/step - total_loss: 0.0000e+00 - ce_loss: -4538940.0000 - kl_loss: 0.0000e+00\n",
      "Epoch 21/50\n",
      "78/78 [==============================] - 17s 218ms/step - total_loss: 0.0000e+00 - ce_loss: -5268521.0000 - kl_loss: 0.0000e+00\n",
      "Epoch 22/50\n",
      "78/78 [==============================] - 17s 217ms/step - total_loss: 0.0000e+00 - ce_loss: -6073299.0000 - kl_loss: 0.0000e+00\n",
      "Epoch 23/50\n",
      "78/78 [==============================] - 17s 218ms/step - total_loss: 0.0000e+00 - ce_loss: -6971029.0000 - kl_loss: 0.0000e+00\n",
      "Epoch 24/50\n",
      "78/78 [==============================] - 17s 218ms/step - total_loss: 0.0000e+00 - ce_loss: -7962473.5000 - kl_loss: 0.0000e+00\n",
      "Epoch 25/50\n",
      "78/78 [==============================] - 17s 218ms/step - total_loss: 0.0000e+00 - ce_loss: -9064661.0000 - kl_loss: 0.0000e+00\n",
      "Epoch 26/50\n",
      "78/78 [==============================] - 17s 218ms/step - total_loss: 0.0000e+00 - ce_loss: -10272563.0000 - kl_loss: 0.0000e+00\n",
      "Epoch 27/50\n",
      "78/78 [==============================] - 17s 218ms/step - total_loss: 0.0000e+00 - ce_loss: -11609577.0000 - kl_loss: 0.0000e+00\n",
      "Epoch 28/50\n",
      "78/78 [==============================] - 17s 220ms/step - total_loss: 0.0000e+00 - ce_loss: -13057809.0000 - kl_loss: 0.0000e+00\n",
      "Epoch 29/50\n",
      "78/78 [==============================] - 17s 220ms/step - total_loss: 0.0000e+00 - ce_loss: -14659638.0000 - kl_loss: 0.0000e+00\n",
      "Epoch 30/50\n",
      "78/78 [==============================] - 17s 219ms/step - total_loss: 0.0000e+00 - ce_loss: -16402957.0000 - kl_loss: 0.0000e+00\n",
      "Epoch 31/50\n",
      "78/78 [==============================] - 17s 218ms/step - total_loss: 0.0000e+00 - ce_loss: -18314914.0000 - kl_loss: 0.0000e+00\n",
      "Epoch 32/50\n",
      "78/78 [==============================] - 17s 218ms/step - total_loss: 0.0000e+00 - ce_loss: -20387062.0000 - kl_loss: 0.0000e+00\n",
      "Epoch 33/50\n",
      "78/78 [==============================] - 17s 224ms/step - total_loss: 0.0000e+00 - ce_loss: -22672406.0000 - kl_loss: 0.0000e+00\n",
      "Epoch 34/50\n",
      "78/78 [==============================] - 17s 224ms/step - total_loss: 0.0000e+00 - ce_loss: -25126348.0000 - kl_loss: 0.0000e+00\n",
      "Epoch 35/50\n",
      "78/78 [==============================] - 17s 218ms/step - total_loss: 0.0000e+00 - ce_loss: -27792362.0000 - kl_loss: 0.0000e+00\n",
      "Epoch 36/50\n",
      "78/78 [==============================] - 17s 219ms/step - total_loss: 0.0000e+00 - ce_loss: -30692988.0000 - kl_loss: 0.0000e+00\n",
      "Epoch 37/50\n",
      "78/78 [==============================] - 17s 218ms/step - total_loss: 0.0000e+00 - ce_loss: -33778604.0000 - kl_loss: 0.0000e+00\n",
      "Epoch 38/50\n",
      "78/78 [==============================] - 17s 221ms/step - total_loss: 0.0000e+00 - ce_loss: -37135628.0000 - kl_loss: 0.0000e+00\n",
      "Epoch 39/50\n",
      "78/78 [==============================] - 17s 218ms/step - total_loss: 0.0000e+00 - ce_loss: -40709296.0000 - kl_loss: 0.0000e+00\n",
      "Epoch 40/50\n",
      "78/78 [==============================] - 17s 217ms/step - total_loss: 0.0000e+00 - ce_loss: -44576872.0000 - kl_loss: 0.0000e+00\n",
      "Epoch 41/50\n",
      "78/78 [==============================] - 17s 216ms/step - total_loss: 0.0000e+00 - ce_loss: -48692428.0000 - kl_loss: 0.0000e+00\n",
      "Epoch 42/50\n",
      "78/78 [==============================] - 17s 216ms/step - total_loss: 0.0000e+00 - ce_loss: -53110040.0000 - kl_loss: 0.0000e+00\n",
      "Epoch 43/50\n",
      "78/78 [==============================] - 17s 217ms/step - total_loss: 0.0000e+00 - ce_loss: -57831640.0000 - kl_loss: 0.0000e+00\n",
      "Epoch 44/50\n",
      "78/78 [==============================] - 17s 217ms/step - total_loss: 0.0000e+00 - ce_loss: -62866564.0000 - kl_loss: 0.0000e+00\n",
      "Epoch 45/50\n",
      "78/78 [==============================] - 17s 217ms/step - total_loss: 0.0000e+00 - ce_loss: -68239904.0000 - kl_loss: 0.0000e+00\n",
      "Epoch 46/50\n",
      "78/78 [==============================] - 17s 217ms/step - total_loss: 0.0000e+00 - ce_loss: -73979584.0000 - kl_loss: 0.0000e+00\n",
      "Epoch 47/50\n",
      "78/78 [==============================] - 17s 218ms/step - total_loss: 0.0000e+00 - ce_loss: -80071232.0000 - kl_loss: 0.0000e+00\n",
      "Epoch 48/50\n",
      "78/78 [==============================] - 17s 218ms/step - total_loss: 0.0000e+00 - ce_loss: -86586312.0000 - kl_loss: 0.0000e+00\n",
      "Epoch 49/50\n",
      "78/78 [==============================] - 17s 218ms/step - total_loss: 0.0000e+00 - ce_loss: -93474592.0000 - kl_loss: 0.0000e+00\n",
      "Epoch 50/50\n",
      "78/78 [==============================] - 17s 219ms/step - total_loss: 0.0000e+00 - ce_loss: -100770888.0000 - kl_loss: 0.0000e+00\n"
     ]
    }
   ],
   "source": [
    "vae = VAE(encoder, decoder)\n",
    "vae.compile(optimizer=keras.optimizers.Adam(learning_rate=0.001))\n",
    "history = vae.fit(data, epochs=50, batch_size=1)"
   ]
  },
  {
   "cell_type": "code",
   "execution_count": 769,
   "metadata": {},
   "outputs": [
    {
     "data": {
      "image/png": "[encoded data removed]",
      "text/plain": [
       "<Figure size 800x400 with 1 Axes>"
      ]
     },
     "metadata": {},
     "output_type": "display_data"
    }
   ],
   "source": [
    "plt.figure(figsize=(8, 4))\n",
    "#plt.plot(history.history.get('total_loss'), label=\"total loss\")\n",
    "plt.plot(history.history.get('ce_loss'), label=\"reconstruction loss\")\n",
    "#plt.plot(history.history.get('kl_loss'), label=\"KL loss\")\n",
    "plt.legend();"
   ]
  },
  {
   "cell_type": "code",
   "execution_count": 779,
   "metadata": {},
   "outputs": [
    {
     "data": {
      "text/plain": [
       "(20, 2141, 1)"
      ]
     },
     "execution_count": 779,
     "metadata": {},
     "output_type": "execute_result"
    }
   ],
   "source": [
    "xTest.shape"
   ]
  },
  {
   "cell_type": "code",
   "execution_count": 780,
   "metadata": {},
   "outputs": [
    {
     "name": "stdout",
     "output_type": "stream",
     "text": [
      " 1/67 [..............................] - ETA: 1s"
     ]
    },
    {
     "name": "stdout",
     "output_type": "stream",
     "text": [
      "67/67 [==============================] - 0s 3ms/step\n"
     ]
    }
   ],
   "source": [
    "teste = vae.decoder.predict(xTest[1])       "
   ]
  },
  {
   "cell_type": "code",
   "execution_count": 781,
   "metadata": {},
   "outputs": [
    {
     "data": {
      "text/plain": [
       "(2141, 15, 1)"
      ]
     },
     "execution_count": 781,
     "metadata": {},
     "output_type": "execute_result"
    }
   ],
   "source": [
    "teste.shape"
   ]
  },
  {
   "cell_type": "code",
   "execution_count": 782,
   "metadata": {},
   "outputs": [],
   "source": [
    "teste = teste[0].reshape(15)"
   ]
  },
  {
   "cell_type": "code",
   "execution_count": 783,
   "metadata": {},
   "outputs": [],
   "source": [
    "for i in range(0, 15):\n",
    "    teste[i] = round(teste[i])"
   ]
  },
  {
   "cell_type": "code",
   "execution_count": 784,
   "metadata": {},
   "outputs": [],
   "source": [
    "teste = teste.astype(\"int64\")\n",
    "teste = teste.tolist()"
   ]
  },
  {
   "cell_type": "code",
   "execution_count": 785,
   "metadata": {},
   "outputs": [
    {
     "data": {
      "text/plain": [
       "[1, 1, 1, 1, 1, 1, 1, 1, 1, 1, 1, 1, 1, 1, 1]"
      ]
     },
     "execution_count": 785,
     "metadata": {},
     "output_type": "execute_result"
    }
   ],
   "source": [
    "teste"
   ]
  },
  {
   "cell_type": "code",
   "execution_count": 786,
   "metadata": {},
   "outputs": [],
   "source": [
    "decoded_words = []\n",
    "for index in teste:\n",
    "    word = tokenizer.index_word.get(index)\n",
    "    if word is not None:    \n",
    "        decoded_words.append(word)\n",
    "\n",
    "decoded_text = \" \".join(decoded_words)"
   ]
  },
  {
   "cell_type": "code",
   "execution_count": 787,
   "metadata": {},
   "outputs": [
    {
     "data": {
      "text/plain": [
       "'de de de de de de de de de de de de de de de'"
      ]
     },
     "execution_count": 787,
     "metadata": {},
     "output_type": "execute_result"
    }
   ],
   "source": [
    "decoded_text"
   ]
  }
 ],
 "metadata": {
  "kernelspec": {
   "display_name": "Python 3",
   "language": "python",
   "name": "python3"
  },
  "language_info": {
   "codemirror_mode": {
    "name": "ipython",
    "version": 3
   },
   "file_extension": ".py",
   "mimetype": "text/x-python",
   "name": "python",
   "nbconvert_exporter": "python",
   "pygments_lexer": "ipython3",
   "version": "3.11.7"
  }
 },
 "nbformat": 4,
 "nbformat_minor": 2
}
