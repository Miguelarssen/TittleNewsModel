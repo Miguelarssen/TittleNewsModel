{
 "cells": [
  {
   "cell_type": "code",
   "execution_count": 872,
   "metadata": {},
   "outputs": [],
   "source": [
    "import pandas as pd\n",
    "import matplotlib.pyplot as plt \n",
    "import numpy as np\n",
    "import json"
   ]
  },
  {
   "cell_type": "code",
   "execution_count": 873,
   "metadata": {},
   "outputs": [],
   "source": [
    "import tensorflow as tf\n",
    "\n",
    "from tensorflow.keras.layers import Embedding, Dense, Conv1D, MaxPooling1D;\n",
    "from tensorflow.keras.preprocessing.text import Tokenizer\n",
    "from tensorflow.keras.preprocessing.sequence import pad_sequences\n",
    "from tensorflow.keras.models import Sequential\n",
    "from tensorflow.keras.optimizers import Adam\n",
    "from tensorflow import keras\n",
    "from tensorflow.keras import layers"
   ]
  },
  {
   "cell_type": "code",
   "execution_count": 874,
   "metadata": {},
   "outputs": [],
   "source": [
    "with open(\"tokenizer.json\", \"r\") as jsonfile:\n",
    "    tokenizer = json.load(jsonfile)\n",
    "\n",
    "tokenizer = tf.keras.preprocessing.text.tokenizer_from_json(tokenizer)"
   ]
  },
  {
   "cell_type": "code",
   "execution_count": 875,
   "metadata": {},
   "outputs": [],
   "source": [
    "with open(\"dados/tituloTratado.csv\", \"r\") as csvfile:\n",
    "    titulos = np.genfromtxt(csvfile, delimiter=\",\")\n",
    "    titulos = titulos.astype(np.int32)"
   ]
  },
  {
   "cell_type": "code",
   "execution_count": 876,
   "metadata": {},
   "outputs": [],
   "source": [
    "with open(\"dados/conteudoTratado.csv\", \"r\") as csvfile:\n",
    "    conteudos = np.genfromtxt(csvfile, delimiter=\",\")\n",
    "    conteudos = conteudos.astype(np.int32)"
   ]
  },
  {
   "cell_type": "code",
   "execution_count": 877,
   "metadata": {},
   "outputs": [],
   "source": [
    "size = len(conteudos)\n",
    "\n",
    "xTrain = conteudos[0:int(size*0.8)]\n",
    "xTest = conteudos[int(size*0.8):]\n",
    "\n",
    "yTrain = titulos[0:int(size*0.8)]\n",
    "yTest = titulos[int(size*0.8):]"
   ]
  },
  {
   "cell_type": "code",
   "execution_count": 878,
   "metadata": {},
   "outputs": [],
   "source": [
    "vocab = len(tokenizer.word_index)"
   ]
  },
  {
   "cell_type": "code",
   "execution_count": 879,
   "metadata": {},
   "outputs": [
    {
     "data": {
      "text/plain": [
       "19567"
      ]
     },
     "execution_count": 879,
     "metadata": {},
     "output_type": "execute_result"
    }
   ],
   "source": [
    "vocab"
   ]
  },
  {
   "cell_type": "code",
   "execution_count": 880,
   "metadata": {},
   "outputs": [],
   "source": [
    "maxTitle = max(len(tokens) for tokens in titulos)\n",
    "maxContent = max(len(tokens) for tokens in conteudos)"
   ]
  },
  {
   "cell_type": "code",
   "execution_count": 881,
   "metadata": {},
   "outputs": [],
   "source": [
    "class SamplingLayer(layers.Layer):\n",
    "  \"\"\"Reparameterization Trick z = mu + sigma * epsilon\"\"\"\n",
    "\n",
    "  def call(self, inputs):\n",
    "    zMean, zLogVar = inputs\n",
    "    batch = tf.shape(zMean)[0]\n",
    "    dim = tf.shape(zMean)[1]\n",
    "    epsilon = tf.keras.backend.random_normal(shape=(batch, dim))\n",
    "    return zMean + tf.exp(0.5 * zLogVar) * epsilon"
   ]
  },
  {
   "cell_type": "code",
   "execution_count": 882,
   "metadata": {},
   "outputs": [
    {
     "name": "stdout",
     "output_type": "stream",
     "text": [
      "Model: \"encoder\"\n",
      "__________________________________________________________________________________________________\n",
      " Layer (type)                Output Shape                 Param #   Connected to                  \n",
      "==================================================================================================\n",
      " input_10 (InputLayer)       [(None, 2268, 1)]            0         []                            \n",
      "                                                                                                  \n",
      " sequential_8 (Sequential)   (None, 256)                  6707520   ['input_10[0][0]']            \n",
      "                                                                                                  \n",
      " z_mean (Dense)              (None, 2)                    514       ['sequential_8[0][0]']        \n",
      "                                                                                                  \n",
      " z_log_var (Dense)           (None, 2)                    514       ['sequential_8[0][0]']        \n",
      "                                                                                                  \n",
      " sampling_layer_5 (Sampling  (None, 2)                    0         ['z_mean[0][0]',              \n",
      " Layer)                                                              'z_log_var[0][0]']           \n",
      "                                                                                                  \n",
      "==================================================================================================\n",
      "Total params: 6708548 (25.59 MB)\n",
      "Trainable params: 6708548 (25.59 MB)\n",
      "Non-trainable params: 0 (0.00 Byte)\n",
      "__________________________________________________________________________________________________\n"
     ]
    }
   ],
   "source": [
    "def Encoder(latentDim, encoderInputs):\n",
    "    \n",
    "  l1 = keras.models.Sequential([\n",
    "    layers.Embedding(vocab, 128, input_length=maxContent),\n",
    "    layers.Conv1D(128, 3, activation=\"relu\", strides=1, padding=\"same\"),\n",
    "    layers.MaxPooling1D(3),\n",
    "    layers.Conv1D(64, 3, activation=\"relu\", strides=1, padding=\"same\"),\n",
    "    layers.MaxPooling1D(3),\n",
    "    layers.Flatten(),\n",
    "    layers.Dense(256, activation=\"relu\")\n",
    "  ])\n",
    "\n",
    "  x = l1(encoderInputs)\n",
    "\n",
    "  zMean = layers.Dense(latentDim, name=\"z_mean\")(x)\n",
    "  zLogVar = layers.Dense(latentDim, name=\"z_log_var\")(x)\n",
    "\n",
    "  z = SamplingLayer()([zMean, zLogVar])\n",
    "\n",
    "  return keras.Model(encoderInputs, [zMean, zLogVar, z], name=\"encoder\")\n",
    "\n",
    "encoderInputs = keras.Input(shape=(maxContent, 1))\n",
    "encoder = Encoder(2, encoderInputs)\n",
    "encoder.summary()"
   ]
  },
  {
   "cell_type": "code",
   "execution_count": 883,
   "metadata": {},
   "outputs": [
    {
     "name": "stdout",
     "output_type": "stream",
     "text": [
      "Model: \"decoder\"\n",
      "_________________________________________________________________\n",
      " Layer (type)                Output Shape              Param #   \n",
      "=================================================================\n",
      " input_11 (InputLayer)       [(None, 2)]               0         \n",
      "                                                                 \n",
      " sequential_9 (Sequential)   (None, 18, 1)             25399     \n",
      "                                                                 \n",
      "=================================================================\n",
      "Total params: 25399 (99.21 KB)\n",
      "Trainable params: 25399 (99.21 KB)\n",
      "Non-trainable params: 0 (0.00 Byte)\n",
      "_________________________________________________________________\n"
     ]
    }
   ],
   "source": [
    "def Decoder(latentInputs):\n",
    "\n",
    "  l1 = keras.models.Sequential([\n",
    "    layers.Dense(maxTitle, activation=\"relu\", input_shape=(latentInputs.shape[1],)),\n",
    "    layers.Reshape((maxTitle, 1)),\n",
    "    layers.Conv1DTranspose(128, 3, activation=\"relu\", strides=1, padding=\"same\"),\n",
    "    layers.Conv1DTranspose(64, 3, activation=\"relu\", strides=1, padding=\"same\"),\n",
    "    layers.Conv1DTranspose(1, 3, activation=\"sigmoid\", padding=\"same\", input_shape=(None, maxTitle))\n",
    "  ])\n",
    "\n",
    "  return keras.Model(latentInputs, l1(latentInputs), name=\"decoder\")\n",
    "\n",
    "latentInputs = keras.Input(shape=(2,))\n",
    "decoder = Decoder(latentInputs)\n",
    "decoder.summary()"
   ]
  },
  {
   "cell_type": "code",
   "execution_count": 884,
   "metadata": {},
   "outputs": [],
   "source": [
    "def reconstructionLoss(data, reconstructed):\n",
    "  return keras.losses.binary_crossentropy(data, reconstructed)   "
   ]
  },
  {
   "cell_type": "code",
   "execution_count": 885,
   "metadata": {},
   "outputs": [],
   "source": [
    "def klDivergenceLoss(zMean, zLogVar):\n",
    "  return tf.reduce_mean(\n",
    "        -0.5 * (1 + zLogVar - tf.square(zMean) - tf.exp(zLogVar)),\n",
    "        axis=1\n",
    "  )"
   ]
  },
  {
   "cell_type": "code",
   "execution_count": 886,
   "metadata": {},
   "outputs": [],
   "source": [
    "def calcTotalLoss(data, reconstructed, zMean, zLogVar):\n",
    "  loss1 = reconstructionLoss(data, reconstructed)\n",
    "  loss2 = klDivergenceLoss(zMean, zLogVar)\n",
    "  klWeight = 3.0\n",
    "  return  loss1, loss2, loss1 + klWeight * loss2"
   ]
  },
  {
   "cell_type": "code",
   "execution_count": 887,
   "metadata": {},
   "outputs": [
    {
     "name": "stdout",
     "output_type": "stream",
     "text": [
      "(396, 2268) \n",
      " (396, 18)\n"
     ]
    }
   ],
   "source": [
    "print(xTrain.shape, \"\\n\", yTrain.shape)"
   ]
  },
  {
   "cell_type": "code",
   "execution_count": 888,
   "metadata": {},
   "outputs": [],
   "source": [
    "xTrain = np.expand_dims(xTrain, -1).astype(\"float32\") / vocab\n",
    "yTrain = np.expand_dims(yTrain, -1).astype(\"float32\") / vocab"
   ]
  },
  {
   "cell_type": "code",
   "execution_count": 889,
   "metadata": {},
   "outputs": [],
   "source": [
    "xTest = np.expand_dims(xTest, -1).astype(\"float32\") / vocab\n",
    "yTest = np.expand_dims(yTest, -1).astype(\"float32\") / vocab"
   ]
  },
  {
   "cell_type": "code",
   "execution_count": 890,
   "metadata": {},
   "outputs": [
    {
     "name": "stdout",
     "output_type": "stream",
     "text": [
      "(396, 2268, 1) \n",
      " (396, 18, 1)\n"
     ]
    }
   ],
   "source": [
    "print(xTrain.shape, \"\\n\", yTrain.shape)"
   ]
  },
  {
   "cell_type": "code",
   "execution_count": 901,
   "metadata": {},
   "outputs": [],
   "source": [
    "class VAE(keras.Model):\n",
    "  def __init__(self, encoder, decoder, **kwargs):\n",
    "    super(VAE, self).__init__(**kwargs)\n",
    "    self.encoder = encoder\n",
    "    self.decoder = decoder\n",
    "\n",
    "    self.totalLossTracker = keras.metrics.Mean(name=\"total_loss\")\n",
    "    self.ceLossTracker = keras.metrics.Mean(name=\"ce_loss\")\n",
    "    self.klLossTracker = keras.metrics.Mean(name=\"kl_loss\")\n",
    "    \n",
    "  @property\n",
    "  def metrics(self):\n",
    "    return [\n",
    "        self.totalLossTracker,\n",
    "        self.ceLossTracker,\n",
    "        self.klLossTracker\n",
    "    ]\n",
    "\n",
    "  def train_step(self, data):\n",
    "\n",
    "    x, y = data[0]\n",
    "\n",
    "    with tf.GradientTape() as tape:\n",
    "        \n",
    "        zMean, zLogVar, z = self.encoder(x)\n",
    "        reconstruction = self.decoder(z)\n",
    "\n",
    "        ceLoss, klLoss, totalLoss = calcTotalLoss(y, reconstruction, zMean, zLogVar)\n",
    "\n",
    "    grads = tape.gradient(totalLoss, self.trainable_weights)\n",
    "    self.optimizer.apply_gradients(zip(grads, self.trainable_weights))\n",
    "\n",
    "    self.totalLossTracker.update_state(totalLoss)\n",
    "    self.ceLossTracker.update_state(ceLoss)\n",
    "    self.klLossTracker.update_state(klLoss)\n",
    "\n",
    "    return {\n",
    "        \"total_loss\": self.totalLossTracker.result(),\n",
    "        \"ce_loss\": self.ceLossTracker.result(),\n",
    "        \"kl_loss\": self.klLossTracker.result()\n",
    "    }"
   ]
  },
  {
   "cell_type": "code",
   "execution_count": 892,
   "metadata": {},
   "outputs": [],
   "source": [
    "data = [xTrain, yTrain]"
   ]
  },
  {
   "cell_type": "code",
   "execution_count": 893,
   "metadata": {},
   "outputs": [
    {
     "name": "stdout",
     "output_type": "stream",
     "text": [
      "Epoch 1/8\n",
      "396/396 [==============================] - 22s 51ms/step - total_loss: 0.2839 - ce_loss: 0.2836 - kl_loss: 1.1813e-04\n",
      "Epoch 2/8\n",
      "396/396 [==============================] - 20s 50ms/step - total_loss: 0.2531 - ce_loss: 0.2531 - kl_loss: 3.7559e-06\n",
      "Epoch 3/8\n",
      "396/396 [==============================] - 20s 50ms/step - total_loss: 0.2466 - ce_loss: 0.2466 - kl_loss: 6.0667e-06\n",
      "Epoch 4/8\n",
      "396/396 [==============================] - 20s 51ms/step - total_loss: 0.2423 - ce_loss: 0.2423 - kl_loss: 3.3044e-06\n",
      "Epoch 5/8\n",
      "396/396 [==============================] - 19s 49ms/step - total_loss: 0.2407 - ce_loss: 0.2407 - kl_loss: 2.4681e-06\n",
      "Epoch 6/8\n",
      "396/396 [==============================] - 19s 47ms/step - total_loss: 0.2408 - ce_loss: 0.2408 - kl_loss: 1.9580e-06\n",
      "Epoch 7/8\n",
      "396/396 [==============================] - 19s 47ms/step - total_loss: 0.2397 - ce_loss: 0.2397 - kl_loss: 1.9283e-06\n",
      "Epoch 8/8\n",
      "396/396 [==============================] - 19s 48ms/step - total_loss: 0.2397 - ce_loss: 0.2397 - kl_loss: 1.4193e-06\n"
     ]
    }
   ],
   "source": [
    "vae = VAE(encoder, decoder)\n",
    "vae.compile(optimizer=keras.optimizers.Adam(learning_rate=0.001))\n",
    "history = vae.fit(data, epochs=8, batch_size=1)"
   ]
  },
  {
   "cell_type": "code",
   "execution_count": 825,
   "metadata": {},
   "outputs": [
    {
     "data": {
      "image/png": "[encoded data removed]",
      "text/plain": [
       "<Figure size 800x400 with 1 Axes>"
      ]
     },
     "metadata": {},
     "output_type": "display_data"
    }
   ],
   "source": [
    "plt.figure(figsize=(8, 4))\n",
    "plt.plot(history.history.get('total_loss'), label=\"total loss\")\n",
    "plt.plot(history.history.get('ce_loss'), label=\"reconstruction loss\")\n",
    "#plt.plot(history.history.get('kl_loss'), label=\"KL loss\")\n",
    "plt.legend();"
   ]
  },
  {
   "cell_type": "code",
   "execution_count": 826,
   "metadata": {},
   "outputs": [
    {
     "data": {
      "image/png": "[encoded data removed]",
      "text/plain": [
       "<Figure size 800x400 with 1 Axes>"
      ]
     },
     "metadata": {},
     "output_type": "display_data"
    }
   ],
   "source": [
    "plt.figure(figsize=(8, 4))\n",
    "plt.plot(history.history.get('kl_loss'), label=\"KL loss\")\n",
    "plt.legend();"
   ]
  },
  {
   "cell_type": "code",
   "execution_count": 895,
   "metadata": {},
   "outputs": [
    {
     "ename": "KeyError",
     "evalue": "'accuracy'",
     "output_type": "error",
     "traceback": [
      "\u001b[1;31m---------------------------------------------------------------------------\u001b[0m",
      "\u001b[1;31mKeyError\u001b[0m                                  Traceback (most recent call last)",
      "Cell \u001b[1;32mIn[895], line 2\u001b[0m\n\u001b[0;32m      1\u001b[0m plt\u001b[38;5;241m.\u001b[39mfigure(figsize\u001b[38;5;241m=\u001b[39m(\u001b[38;5;241m8\u001b[39m, \u001b[38;5;241m4\u001b[39m))\n\u001b[1;32m----> 2\u001b[0m plt\u001b[38;5;241m.\u001b[39mplot(\u001b[43mhistory\u001b[49m\u001b[38;5;241;43m.\u001b[39;49m\u001b[43mhistory\u001b[49m\u001b[43m[\u001b[49m\u001b[38;5;124;43m\"\u001b[39;49m\u001b[38;5;124;43maccuracy\u001b[39;49m\u001b[38;5;124;43m\"\u001b[39;49m\u001b[43m]\u001b[49m, label\u001b[38;5;241m=\u001b[39m\u001b[38;5;124m\"\u001b[39m\u001b[38;5;124maccuracy\u001b[39m\u001b[38;5;124m\"\u001b[39m)\n\u001b[0;32m      3\u001b[0m plt\u001b[38;5;241m.\u001b[39mlegend();\n",
      "\u001b[1;31mKeyError\u001b[0m: 'accuracy'"
     ]
    },
    {
     "data": {
      "text/plain": [
       "<Figure size 800x400 with 0 Axes>"
      ]
     },
     "metadata": {},
     "output_type": "display_data"
    }
   ],
   "source": [
    "plt.figure(figsize=(8, 4))\n",
    "plt.plot(history.history[\"accuracy\"], label=\"accuracy\")\n",
    "plt.legend();"
   ]
  },
  {
   "cell_type": "code",
   "execution_count": 856,
   "metadata": {},
   "outputs": [],
   "source": [
    "idx = 12\n",
    "inputPredict = xTest[idx]\n",
    "inputPredict = inputPredict.reshape(1, maxContent)"
   ]
  },
  {
   "cell_type": "code",
   "execution_count": 857,
   "metadata": {},
   "outputs": [
    {
     "name": "stdout",
     "output_type": "stream",
     "text": [
      "1/1 [==============================] - 0s 30ms/step\n"
     ]
    }
   ],
   "source": [
    "z = vae.encoder.predict([inputPredict])[2]"
   ]
  },
  {
   "cell_type": "code",
   "execution_count": 858,
   "metadata": {},
   "outputs": [],
   "source": [
    "#z = np.random.normal(loc=0, scale=4, size=(1,2))"
   ]
  },
  {
   "cell_type": "code",
   "execution_count": 859,
   "metadata": {},
   "outputs": [
    {
     "data": {
      "text/plain": [
       "array([[ 0.5869211 , -0.36085686]], dtype=float32)"
      ]
     },
     "execution_count": 859,
     "metadata": {},
     "output_type": "execute_result"
    }
   ],
   "source": [
    "z"
   ]
  },
  {
   "cell_type": "code",
   "execution_count": 860,
   "metadata": {},
   "outputs": [
    {
     "name": "stdout",
     "output_type": "stream",
     "text": [
      "1/1 [==============================] - 0s 52ms/step\n"
     ]
    }
   ],
   "source": [
    "teste = vae.decoder.predict(z)"
   ]
  },
  {
   "cell_type": "code",
   "execution_count": 861,
   "metadata": {},
   "outputs": [],
   "source": [
    "teste = teste.reshape(maxTitle)"
   ]
  },
  {
   "cell_type": "code",
   "execution_count": 862,
   "metadata": {},
   "outputs": [
    {
     "data": {
      "text/plain": [
       "array([2665.2825  , 3395.      , 2673.447   , 2673.447   , 2673.447   ,\n",
       "       2673.447   , 2673.447   , 2669.0999  , 2620.8486  , 2334.134   ,\n",
       "       1743.3661  , 1084.6158  ,  462.63245 ,  303.9235  ,  135.1092  ,\n",
       "         86.89649 ,   25.181368,   25.019518], dtype=float32)"
      ]
     },
     "execution_count": 862,
     "metadata": {},
     "output_type": "execute_result"
    }
   ],
   "source": [
    "teste*vocab"
   ]
  },
  {
   "cell_type": "code",
   "execution_count": 863,
   "metadata": {},
   "outputs": [],
   "source": [
    "prediction = (teste*vocab).tolist()\n",
    "for x in range(maxTitle):\n",
    "    prediction[x] = round(prediction[x])\n",
    "\n",
    "predictionsText = tokenizer.sequences_to_texts([prediction])"
   ]
  },
  {
   "cell_type": "code",
   "execution_count": 864,
   "metadata": {},
   "outputs": [],
   "source": [
    "content = xTest[idx].reshape(maxContent)\n",
    "content = (content*vocab).tolist()\n",
    "\n",
    "for x in range(maxContent):\n",
    "    content[x] = round(content[x])\n",
    "\n",
    "content = tokenizer.sequences_to_texts([content])"
   ]
  },
  {
   "cell_type": "code",
   "execution_count": 865,
   "metadata": {},
   "outputs": [],
   "source": [
    "tittle = yTest[idx].reshape(maxTitle)\n",
    "tittle = (tittle*vocab).tolist()\n",
    "\n",
    "for x in range(maxTitle):\n",
    "    tittle[x] = round(tittle[x])\n",
    "\n",
    "tittle = tokenizer.sequences_to_texts([tittle])"
   ]
  },
  {
   "cell_type": "code",
   "execution_count": 866,
   "metadata": {},
   "outputs": [
    {
     "data": {
      "text/plain": [
       "['junior assunção encara alejandro solano no xfci 5 brasil em junho']"
      ]
     },
     "execution_count": 866,
     "metadata": {},
     "output_type": "execute_result"
    }
   ],
   "source": [
    "tittle"
   ]
  },
  {
   "cell_type": "code",
   "execution_count": 867,
   "metadata": {},
   "outputs": [
    {
     "data": {
      "text/plain": [
       "['o lutador pernambucano junior assunção que é radicado no espírito santo foi confirmado na luta principal do evento xfci 5 brasil marcado para o dia 7 de junho em são paulo a organização norte americana divulgou o card completo e junior que é irmão do lutador do ufc raphael assunção encara o costa riquenho alejandro mandarina solano o duelo acontece na categoria peso pena até 65 7 kg e aparece com status de super luta da noite que tem mais seis combates confirmados e mais dois ainda em fase de definição dos atletas com 32 anos e um cartel de 14 vitórias e cinco derrotas junior assunção já teve duas passagens pelo ufc entre os anos de 2006 e 2007 retornando em 2011 esta também é a segunda passagem do lutador pelo xtreme fighting championships xfc onde lutou em 2010 já alejandro solano 19 9 e 1nc no mma é mais velho e tem 36 anos o lutador de costa rica atuou em eventos brasileiros como jungle fight e shotoo brasil ambos em 2012 o evento xfci 5 brasil também terá as finais dos torneios de várias categorias com destaque para os brasileiros thiago rela e alberto uda que disputam a final do peso médio a final da categoria peso palha feminina com o duelo entre vanessa melo e vanessa guimarães e o confronto brasil x argentina na final do peso meio médio entre o brasileiro will galvão diante do argentino kevin medinilla o show de lutas internacional acontece no dia 7 de junho em são paulo confira o card parcial do evento xfci 5 brasil 7 de junho de 2014 em são paulo sp card do evento peso pena junior assunção bra x alejandro mandarina solano crc super luta main event peso meio médio kevin medinilla arg x will galvão bra final do torneio co main event peso palha feminino vanessa guimarães bra x vanessa melo bra final do torneio peso pena alejandro villalobos crc x felipe douglas bra final do torneio peso leve nathan schulte bra x glaucio eliziario bra final do torneio peso médio alberto uda bra x thiago rela bra final do torneio peso mosca feminino mayerlin rivas ven x silvana gomez arg final do torneio para ler mais notícias do globo esporte espírito santo clique em globoesporte globo com es siga também o ge es no twitter e por rss']"
      ]
     },
     "execution_count": 867,
     "metadata": {},
     "output_type": "execute_result"
    }
   ],
   "source": [
    "content"
   ]
  },
  {
   "cell_type": "code",
   "execution_count": 868,
   "metadata": {},
   "outputs": [
    {
     "data": {
      "text/plain": [
       "['west experiente definitiva definitiva definitiva definitiva definitiva gomi sr concorrentes ibc consumo globo pelos desde bem dos dos']"
      ]
     },
     "execution_count": 868,
     "metadata": {},
     "output_type": "execute_result"
    }
   ],
   "source": [
    "predictionsText"
   ]
  }
 ],
 "metadata": {
  "kernelspec": {
   "display_name": "Python 3",
   "language": "python",
   "name": "python3"
  },
  "language_info": {
   "codemirror_mode": {
    "name": "ipython",
    "version": 3
   },
   "file_extension": ".py",
   "mimetype": "text/x-python",
   "name": "python",
   "nbconvert_exporter": "python",
   "pygments_lexer": "ipython3",
   "version": "3.11.7"
  }
 },
 "nbformat": 4,
 "nbformat_minor": 2
}
