{
 "cells": [
  {
   "cell_type": "code",
   "execution_count": 22,
   "metadata": {},
   "outputs": [],
   "source": [
    "import pandas as pd\n",
    "import matplotlib.pyplot as plt \n",
    "import numpy as np\n",
    "import json"
   ]
  },
  {
   "cell_type": "code",
   "execution_count": 23,
   "metadata": {},
   "outputs": [],
   "source": [
    "import tensorflow as tf\n",
    "\n",
    "from tensorflow.keras.layers import Embedding, Dense, Conv1D, MaxPooling1D;\n",
    "from tensorflow.keras.preprocessing.text import Tokenizer\n",
    "from tensorflow.keras.preprocessing.sequence import pad_sequences\n",
    "from tensorflow.keras.models import Sequential\n",
    "from tensorflow.keras.optimizers import Adam\n",
    "from tensorflow import keras\n",
    "from tensorflow.keras import layers"
   ]
  },
  {
   "cell_type": "code",
   "execution_count": 24,
   "metadata": {},
   "outputs": [],
   "source": [
    "with open(\"tokenizerRed.json\", \"r\") as jsonfile:\n",
    "    tokenizer = json.load(jsonfile)\n",
    "\n",
    "tokenizer = tf.keras.preprocessing.text.tokenizer_from_json(tokenizer)"
   ]
  },
  {
   "cell_type": "code",
   "execution_count": 25,
   "metadata": {},
   "outputs": [],
   "source": [
    "with open(\"dados/tituloTratadoRed.csv\", \"r\") as csvfile:\n",
    "    titulos = np.genfromtxt(csvfile, delimiter=\",\")\n",
    "    titulos = titulos.astype(np.int32)"
   ]
  },
  {
   "cell_type": "code",
   "execution_count": 26,
   "metadata": {},
   "outputs": [],
   "source": [
    "with open(\"dados/conteudoTratadoRed.csv\", \"r\") as csvfile:\n",
    "    conteudos = np.genfromtxt(csvfile, delimiter=\",\")\n",
    "    conteudos = conteudos.astype(np.int32)"
   ]
  },
  {
   "cell_type": "code",
   "execution_count": 27,
   "metadata": {},
   "outputs": [],
   "source": [
    "size = len(conteudos)\n",
    "\n",
    "xTrain = conteudos[0:int(size*0.8)]\n",
    "xTest = conteudos[int(size*0.8):]\n",
    "\n",
    "yTrain = titulos[0:int(size*0.8)]\n",
    "yTest = titulos[int(size*0.8):]"
   ]
  },
  {
   "cell_type": "code",
   "execution_count": 28,
   "metadata": {},
   "outputs": [],
   "source": [
    "vocab = len(tokenizer.word_index)"
   ]
  },
  {
   "cell_type": "code",
   "execution_count": 29,
   "metadata": {},
   "outputs": [
    {
     "data": {
      "text/plain": [
       "19567"
      ]
     },
     "execution_count": 29,
     "metadata": {},
     "output_type": "execute_result"
    }
   ],
   "source": [
    "vocab"
   ]
  },
  {
   "cell_type": "code",
   "execution_count": 30,
   "metadata": {},
   "outputs": [],
   "source": [
    "maxTitle = max(len(tokens) for tokens in titulos)\n",
    "maxContent = max(len(tokens) for tokens in conteudos)"
   ]
  },
  {
   "cell_type": "code",
   "execution_count": 31,
   "metadata": {},
   "outputs": [],
   "source": [
    "class SamplingLayer(layers.Layer):\n",
    "  \"\"\"Reparameterization Trick z = mu + sigma * epsilon\"\"\"\n",
    "\n",
    "  def call(self, inputs):\n",
    "    zMean, zLogVar = inputs\n",
    "    batch = tf.shape(zMean)[0]\n",
    "    dim = tf.shape(zMean)[1]\n",
    "    epsilon = tf.keras.backend.random_normal(shape=(batch, dim))\n",
    "    return zMean + tf.exp(0.5 * zLogVar) * epsilon"
   ]
  },
  {
   "cell_type": "code",
   "execution_count": 32,
   "metadata": {},
   "outputs": [
    {
     "name": "stdout",
     "output_type": "stream",
     "text": [
      "Model: \"encoder\"\n",
      "__________________________________________________________________________________________________\n",
      " Layer (type)                Output Shape                 Param #   Connected to                  \n",
      "==================================================================================================\n",
      " input_3 (InputLayer)        [(None, 2268, 1)]            0         []                            \n",
      "                                                                                                  \n",
      " sequential_2 (Sequential)   (None, 256)                  6707520   ['input_3[0][0]']             \n",
      "                                                                                                  \n",
      " z_mean (Dense)              (None, 2)                    514       ['sequential_2[0][0]']        \n",
      "                                                                                                  \n",
      " z_log_var (Dense)           (None, 2)                    514       ['sequential_2[0][0]']        \n",
      "                                                                                                  \n",
      " sampling_layer_1 (Sampling  (None, 2)                    0         ['z_mean[0][0]',              \n",
      " Layer)                                                              'z_log_var[0][0]']           \n",
      "                                                                                                  \n",
      "==================================================================================================\n",
      "Total params: 6708548 (25.59 MB)\n",
      "Trainable params: 6708548 (25.59 MB)\n",
      "Non-trainable params: 0 (0.00 Byte)\n",
      "__________________________________________________________________________________________________\n"
     ]
    }
   ],
   "source": [
    "def Encoder(latentDim, encoderInputs):\n",
    "    \n",
    "  l1 = keras.models.Sequential([\n",
    "    layers.Embedding(vocab, 128, input_length=maxContent),\n",
    "    layers.Conv1D(128, 3, activation=\"relu\", strides=1, padding=\"same\"),\n",
    "    layers.MaxPooling1D(3),\n",
    "    layers.Conv1D(64, 3, activation=\"relu\", strides=1, padding=\"same\"),\n",
    "    layers.MaxPooling1D(3),\n",
    "    layers.Flatten(),\n",
    "    layers.Dense(256, activation=\"relu\")\n",
    "  ])\n",
    "\n",
    "  x = l1(encoderInputs)\n",
    "\n",
    "  zMean = layers.Dense(latentDim, name=\"z_mean\")(x)\n",
    "  zLogVar = layers.Dense(latentDim, name=\"z_log_var\")(x)\n",
    "\n",
    "  z = SamplingLayer()([zMean, zLogVar])\n",
    "\n",
    "  return keras.Model(encoderInputs, [zMean, zLogVar, z], name=\"encoder\")\n",
    "\n",
    "encoderInputs = keras.Input(shape=(maxContent, 1))\n",
    "encoder = Encoder(2, encoderInputs)\n",
    "encoder.summary()"
   ]
  },
  {
   "cell_type": "code",
   "execution_count": 33,
   "metadata": {},
   "outputs": [
    {
     "name": "stdout",
     "output_type": "stream",
     "text": [
      "Model: \"decoder\"\n",
      "_________________________________________________________________\n",
      " Layer (type)                Output Shape              Param #   \n",
      "=================================================================\n",
      " input_4 (InputLayer)        [(None, 2)]               0         \n",
      "                                                                 \n",
      " sequential_3 (Sequential)   (None, 18, 1)             25399     \n",
      "                                                                 \n",
      "=================================================================\n",
      "Total params: 25399 (99.21 KB)\n",
      "Trainable params: 25399 (99.21 KB)\n",
      "Non-trainable params: 0 (0.00 Byte)\n",
      "_________________________________________________________________\n"
     ]
    }
   ],
   "source": [
    "def Decoder(latentInputs):\n",
    "\n",
    "  l1 = keras.models.Sequential([\n",
    "    layers.Dense(maxTitle, activation=\"relu\", input_shape=(latentInputs.shape[1],)),\n",
    "    layers.Reshape((maxTitle, 1)),\n",
    "    layers.Conv1DTranspose(128, 3, activation=\"relu\", strides=1, padding=\"same\"),\n",
    "    layers.Conv1DTranspose(64, 3, activation=\"relu\", strides=1, padding=\"same\"),\n",
    "    layers.Conv1DTranspose(1, 3, activation=\"sigmoid\", padding=\"same\", input_shape=(None, maxTitle))\n",
    "  ])\n",
    "\n",
    "  return keras.Model(latentInputs, l1(latentInputs), name=\"decoder\")\n",
    "\n",
    "latentInputs = keras.Input(shape=(2,))\n",
    "decoder = Decoder(latentInputs)\n",
    "decoder.summary()"
   ]
  },
  {
   "cell_type": "code",
   "execution_count": 34,
   "metadata": {},
   "outputs": [],
   "source": [
    "def reconstructionLoss(data, reconstructed):\n",
    "  return keras.losses.binary_crossentropy(data, reconstructed)   "
   ]
  },
  {
   "cell_type": "code",
   "execution_count": 35,
   "metadata": {},
   "outputs": [],
   "source": [
    "def klDivergenceLoss(zMean, zLogVar):\n",
    "  return tf.reduce_mean(\n",
    "        -0.5 * (1 + zLogVar - tf.square(zMean) - tf.exp(zLogVar)),\n",
    "        axis=1\n",
    "  )"
   ]
  },
  {
   "cell_type": "code",
   "execution_count": 36,
   "metadata": {},
   "outputs": [],
   "source": [
    "def calcTotalLoss(data, reconstructed, zMean, zLogVar):\n",
    "  loss1 = reconstructionLoss(data, reconstructed)\n",
    "  loss2 = klDivergenceLoss(zMean, zLogVar)\n",
    "  klWeight = 3.0\n",
    "  return  loss1, loss2, loss1 + klWeight * loss2"
   ]
  },
  {
   "cell_type": "code",
   "execution_count": 37,
   "metadata": {},
   "outputs": [
    {
     "name": "stdout",
     "output_type": "stream",
     "text": [
      "(396, 2268) \n",
      " (396, 18)\n"
     ]
    }
   ],
   "source": [
    "print(xTrain.shape, \"\\n\", yTrain.shape)"
   ]
  },
  {
   "cell_type": "code",
   "execution_count": 38,
   "metadata": {},
   "outputs": [],
   "source": [
    "xTrain = np.expand_dims(xTrain, -1).astype(\"float32\") / vocab\n",
    "yTrain = np.expand_dims(yTrain, -1).astype(\"float32\") / vocab"
   ]
  },
  {
   "cell_type": "code",
   "execution_count": 39,
   "metadata": {},
   "outputs": [],
   "source": [
    "xTest = np.expand_dims(xTest, -1).astype(\"float32\") / vocab\n",
    "yTest = np.expand_dims(yTest, -1).astype(\"float32\") / vocab"
   ]
  },
  {
   "cell_type": "code",
   "execution_count": 40,
   "metadata": {},
   "outputs": [
    {
     "name": "stdout",
     "output_type": "stream",
     "text": [
      "(396, 2268, 1) \n",
      " (396, 18, 1)\n"
     ]
    }
   ],
   "source": [
    "print(xTrain.shape, \"\\n\", yTrain.shape)"
   ]
  },
  {
   "cell_type": "code",
   "execution_count": 41,
   "metadata": {},
   "outputs": [],
   "source": [
    "class VAE(keras.Model):\n",
    "  def __init__(self, encoder, decoder, **kwargs):\n",
    "    super(VAE, self).__init__(**kwargs)\n",
    "    self.encoder = encoder\n",
    "    self.decoder = decoder\n",
    "\n",
    "    self.totalLossTracker = keras.metrics.Mean(name=\"total_loss\")\n",
    "    self.ceLossTracker = keras.metrics.Mean(name=\"ce_loss\")\n",
    "    self.klLossTracker = keras.metrics.Mean(name=\"kl_loss\")\n",
    "    \n",
    "  @property\n",
    "  def metrics(self):\n",
    "    return [\n",
    "        self.totalLossTracker,\n",
    "        self.ceLossTracker,\n",
    "        self.klLossTracker\n",
    "    ]\n",
    "\n",
    "  def train_step(self, data):\n",
    "\n",
    "    x, y = data[0]\n",
    "\n",
    "    with tf.GradientTape() as tape:\n",
    "        \n",
    "        zMean, zLogVar, z = self.encoder(x)\n",
    "        reconstruction = self.decoder(z)\n",
    "\n",
    "        ceLoss, klLoss, totalLoss = calcTotalLoss(y, reconstruction, zMean, zLogVar)\n",
    "\n",
    "    grads = tape.gradient(totalLoss, self.trainable_weights)\n",
    "    self.optimizer.apply_gradients(zip(grads, self.trainable_weights))\n",
    "\n",
    "    self.totalLossTracker.update_state(totalLoss)\n",
    "    self.ceLossTracker.update_state(ceLoss)\n",
    "    self.klLossTracker.update_state(klLoss)\n",
    "\n",
    "    return {\n",
    "        \"total_loss\": self.totalLossTracker.result(),\n",
    "        \"ce_loss\": self.ceLossTracker.result(),\n",
    "        \"kl_loss\": self.klLossTracker.result()\n",
    "    }"
   ]
  },
  {
   "cell_type": "code",
   "execution_count": 42,
   "metadata": {},
   "outputs": [],
   "source": [
    "data = [xTrain, yTrain]"
   ]
  },
  {
   "cell_type": "code",
   "execution_count": 45,
   "metadata": {},
   "outputs": [
    {
     "name": "stdout",
     "output_type": "stream",
     "text": [
      "Epoch 1/10\n",
      "396/396 [==============================] - 24s 55ms/step - total_loss: 0.2915 - ce_loss: 0.2908 - kl_loss: 2.4037e-04\n",
      "Epoch 2/10\n",
      "396/396 [==============================] - 26s 67ms/step - total_loss: 0.2544 - ce_loss: 0.2543 - kl_loss: 9.3662e-06\n",
      "Epoch 3/10\n",
      "396/396 [==============================] - 29s 74ms/step - total_loss: 0.2467 - ce_loss: 0.2467 - kl_loss: 6.4890e-06\n",
      "Epoch 4/10\n",
      "396/396 [==============================] - 26s 65ms/step - total_loss: 0.2429 - ce_loss: 0.2429 - kl_loss: 3.9309e-06\n",
      "Epoch 5/10\n",
      "396/396 [==============================] - 20s 50ms/step - total_loss: 0.2427 - ce_loss: 0.2427 - kl_loss: 3.3028e-06\n",
      "Epoch 6/10\n",
      "396/396 [==============================] - 19s 48ms/step - total_loss: 0.2392 - ce_loss: 0.2392 - kl_loss: 9.8483e-07\n",
      "Epoch 7/10\n",
      "396/396 [==============================] - 19s 48ms/step - total_loss: 0.2394 - ce_loss: 0.2394 - kl_loss: 1.2706e-06\n",
      "Epoch 8/10\n",
      "396/396 [==============================] - 19s 48ms/step - total_loss: 0.2399 - ce_loss: 0.2399 - kl_loss: 1.6233e-06\n",
      "Epoch 9/10\n",
      "396/396 [==============================] - 19s 48ms/step - total_loss: 0.2398 - ce_loss: 0.2398 - kl_loss: 1.4421e-06\n",
      "Epoch 10/10\n",
      "396/396 [==============================] - 19s 48ms/step - total_loss: 0.2398 - ce_loss: 0.2398 - kl_loss: 1.3658e-06\n"
     ]
    }
   ],
   "source": [
    "vae = VAE(encoder, decoder)\n",
    "vae.compile(optimizer=keras.optimizers.Adam(learning_rate=0.001))\n",
    "history = vae.fit(data, epochs=10, batch_size=1)"
   ]
  },
  {
   "cell_type": "code",
   "execution_count": 46,
   "metadata": {},
   "outputs": [
    {
     "data": {
      "image/png": "[encoded data removed]",
      "text/plain": [
       "<Figure size 800x400 with 1 Axes>"
      ]
     },
     "metadata": {},
     "output_type": "display_data"
    }
   ],
   "source": [
    "plt.figure(figsize=(8, 4))\n",
    "plt.plot(history.history.get('total_loss'), label=\"total loss\")\n",
    "plt.plot(history.history.get('ce_loss'), label=\"reconstruction loss\")\n",
    "#plt.plot(history.history.get('kl_loss'), label=\"KL loss\")\n",
    "plt.legend();"
   ]
  },
  {
   "cell_type": "code",
   "execution_count": 47,
   "metadata": {},
   "outputs": [
    {
     "data": {
      "image/png": "[encoded data removed]",
      "text/plain": [
       "<Figure size 800x400 with 1 Axes>"
      ]
     },
     "metadata": {},
     "output_type": "display_data"
    }
   ],
   "source": [
    "plt.figure(figsize=(8, 4))\n",
    "plt.plot(history.history.get('kl_loss'), label=\"KL loss\")\n",
    "plt.legend();"
   ]
  },
  {
   "cell_type": "code",
   "execution_count": 72,
   "metadata": {},
   "outputs": [],
   "source": [
    "idx = 14\n",
    "inputPredict = xTest[idx]\n",
    "inputPredict = inputPredict.reshape(1, maxContent)"
   ]
  },
  {
   "cell_type": "code",
   "execution_count": 73,
   "metadata": {},
   "outputs": [
    {
     "name": "stdout",
     "output_type": "stream",
     "text": [
      "1/1 [==============================] - 0s 38ms/step\n"
     ]
    }
   ],
   "source": [
    "z = vae.encoder.predict([inputPredict])[2]"
   ]
  },
  {
   "cell_type": "code",
   "execution_count": 74,
   "metadata": {},
   "outputs": [],
   "source": [
    "#z = np.random.normal(loc=0, scale=4, size=(1,2))"
   ]
  },
  {
   "cell_type": "code",
   "execution_count": 75,
   "metadata": {},
   "outputs": [
    {
     "data": {
      "text/plain": [
       "array([[-0.05489271, -0.82298034]], dtype=float32)"
      ]
     },
     "execution_count": 75,
     "metadata": {},
     "output_type": "execute_result"
    }
   ],
   "source": [
    "z"
   ]
  },
  {
   "cell_type": "code",
   "execution_count": 76,
   "metadata": {},
   "outputs": [
    {
     "name": "stdout",
     "output_type": "stream",
     "text": [
      "1/1 [==============================] - 0s 64ms/step\n"
     ]
    }
   ],
   "source": [
    "teste = vae.decoder.predict(z)"
   ]
  },
  {
   "cell_type": "code",
   "execution_count": 77,
   "metadata": {},
   "outputs": [],
   "source": [
    "teste = teste.reshape(maxTitle)"
   ]
  },
  {
   "cell_type": "code",
   "execution_count": 78,
   "metadata": {},
   "outputs": [
    {
     "data": {
      "text/plain": [
       "array([2854.0647  , 3647.08    , 2908.1406  , 2908.1406  , 2908.1406  ,\n",
       "       2908.1406  , 2889.3613  , 2855.5322  , 2741.5059  , 2537.838   ,\n",
       "       2022.5942  , 1430.8837  ,  662.1456  ,  313.1781  ,   56.80749 ,\n",
       "         40.194645,    9.01384 ,   14.751162], dtype=float32)"
      ]
     },
     "execution_count": 78,
     "metadata": {},
     "output_type": "execute_result"
    }
   ],
   "source": [
    "teste*vocab"
   ]
  },
  {
   "cell_type": "code",
   "execution_count": 79,
   "metadata": {},
   "outputs": [],
   "source": [
    "prediction = (teste*vocab).tolist()\n",
    "for x in range(maxTitle):\n",
    "    prediction[x] = round(prediction[x])\n",
    "\n",
    "predictionsText = tokenizer.sequences_to_texts([prediction])"
   ]
  },
  {
   "cell_type": "code",
   "execution_count": 80,
   "metadata": {},
   "outputs": [],
   "source": [
    "content = xTest[idx].reshape(maxContent)\n",
    "content = (content*vocab).tolist()\n",
    "\n",
    "for x in range(maxContent):\n",
    "    content[x] = round(content[x])\n",
    "\n",
    "content = tokenizer.sequences_to_texts([content])"
   ]
  },
  {
   "cell_type": "code",
   "execution_count": 81,
   "metadata": {},
   "outputs": [],
   "source": [
    "tittle = yTest[idx].reshape(maxTitle)\n",
    "tittle = (tittle*vocab).tolist()\n",
    "\n",
    "for x in range(maxTitle):\n",
    "    tittle[x] = round(tittle[x])\n",
    "\n",
    "tittle = tokenizer.sequences_to_texts([tittle])"
   ]
  },
  {
   "cell_type": "code",
   "execution_count": 82,
   "metadata": {},
   "outputs": [
    {
     "data": {
      "text/plain": [
       "['chamusca garante permanência no fortaleza após interesse do náutico']"
      ]
     },
     "execution_count": 82,
     "metadata": {},
     "output_type": "execute_result"
    }
   ],
   "source": [
    "tittle"
   ]
  },
  {
   "cell_type": "code",
   "execution_count": 83,
   "metadata": {},
   "outputs": [
    {
     "data": {
      "text/plain": [
       "['na tarde desta sexta feira o técnico do fortaleza marcelo chamusca confirmou que o náutico demonstrou interesse em sua contratação no entanto o treinador disse que tudo não passou de uma sondagem e que não tina interesse em deixar o leão do pici estou muito bem no fortaleza não quero sair vou continuar no clube porque meu foco é subir o time para a série b no tricolor chamusca foi vice campeão estadual e colocou o time na liderança do grupo a da série c do campeonato brasileiro ao todo o técnico comandou a equipe em 32 partidas conquistando 21 vitórias nove empates e sofrendo duas derrotas o próximo desafio de chamusca à frente do fortaleza ocorre nesta segunda feira 12 diante do águia de marabá no estádio presidente vargas às 21h30m chamusca realizou um treino de posicionamento na tarde de sexta feira no pici e repetiu a equipe titular que venceu o cuiabá na última rodada com ricardo tiago cametá eduardo luiz max oliveira e radar guto walfrido marcelinho paraíba e edinho robert e romarinho entretanto o treinador realizou duas mudanças na equipe fernandinho entrou no lugar de radar na lateral esquerda e davidson que pode estrear pelo fortaleza no lugar de romarinho eu venho repetindo a mesma formação dos treinos anteriores mas trabalhei com alternância em duas posições o romário e o davidson e trabalhei com radar e fernando que são minhas duas dúvidas romário entrou muito bem no jogo mas estou gostando do davidson nos treinamentos já o radar vem jogando está com ritmo de jogo e o fernando está voltando até domingo a gente vai decidir isso completou chamusca']"
      ]
     },
     "execution_count": 83,
     "metadata": {},
     "output_type": "execute_result"
    }
   ],
   "source": [
    "content"
   ]
  },
  {
   "cell_type": "code",
   "execution_count": 84,
   "metadata": {},
   "outputs": [
    {
     "data": {
      "text/plain": [
       "['nba saldos enquete enquete enquete enquete finalizações emerson procurador urijah olho deram americana leve brasil contra da uma']"
      ]
     },
     "execution_count": 84,
     "metadata": {},
     "output_type": "execute_result"
    }
   ],
   "source": [
    "predictionsText"
   ]
  }
 ],
 "metadata": {
  "kernelspec": {
   "display_name": "Python 3",
   "language": "python",
   "name": "python3"
  },
  "language_info": {
   "codemirror_mode": {
    "name": "ipython",
    "version": 3
   },
   "file_extension": ".py",
   "mimetype": "text/x-python",
   "name": "python",
   "nbconvert_exporter": "python",
   "pygments_lexer": "ipython3",
   "version": "3.11.7"
  }
 },
 "nbformat": 4,
 "nbformat_minor": 2
}
