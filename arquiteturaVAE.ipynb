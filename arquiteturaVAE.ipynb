{
 "cells": [
  {
   "cell_type": "code",
   "execution_count": 183,
   "metadata": {},
   "outputs": [],
   "source": [
    "import pandas as pd\n",
    "import matplotlib.pyplot as plt \n",
    "import numpy as np\n",
    "import json"
   ]
  },
  {
   "cell_type": "code",
   "execution_count": 184,
   "metadata": {},
   "outputs": [],
   "source": [
    "import tensorflow as tf\n",
    "\n",
    "from tensorflow.keras.layers import Embedding, Dense, Conv1D, MaxPooling1D;\n",
    "from tensorflow.keras.preprocessing.text import Tokenizer\n",
    "from tensorflow.keras.preprocessing.sequence import pad_sequences\n",
    "from tensorflow.keras.models import Sequential\n",
    "from tensorflow.keras.optimizers import Adam\n",
    "from tensorflow import keras\n",
    "from tensorflow.keras import layers"
   ]
  },
  {
   "cell_type": "code",
   "execution_count": 185,
   "metadata": {},
   "outputs": [],
   "source": [
    "with open(\"tokenizerRed.json\", \"r\") as jsonfile:\n",
    "    tokenizer = json.load(jsonfile)\n",
    "\n",
    "tokenizer = tf.keras.preprocessing.text.tokenizer_from_json(tokenizer)"
   ]
  },
  {
   "cell_type": "code",
   "execution_count": 186,
   "metadata": {},
   "outputs": [],
   "source": [
    "with open(\"dados/tituloTratadoRed.csv\", \"r\") as csvfile:\n",
    "    titulos = np.genfromtxt(csvfile, delimiter=\",\")\n",
    "    titulos = titulos.astype(np.int32)"
   ]
  },
  {
   "cell_type": "code",
   "execution_count": 187,
   "metadata": {},
   "outputs": [],
   "source": [
    "with open(\"dados/conteudoTratadoRed.csv\", \"r\") as csvfile:\n",
    "    conteudos = np.genfromtxt(csvfile, delimiter=\",\")\n",
    "    conteudos = conteudos.astype(np.int32)"
   ]
  },
  {
   "cell_type": "code",
   "execution_count": 188,
   "metadata": {},
   "outputs": [],
   "source": [
    "size = len(conteudos)\n",
    "\n",
    "xTrain = conteudos[0:int(size*0.8)]\n",
    "xTest = conteudos[int(size*0.8):]"
   ]
  },
  {
   "cell_type": "code",
   "execution_count": 189,
   "metadata": {},
   "outputs": [],
   "source": [
    "vocab = len(tokenizer.word_index)"
   ]
  },
  {
   "cell_type": "code",
   "execution_count": 190,
   "metadata": {},
   "outputs": [
    {
     "data": {
      "text/plain": [
       "7392"
      ]
     },
     "execution_count": 190,
     "metadata": {},
     "output_type": "execute_result"
    }
   ],
   "source": [
    "vocab"
   ]
  },
  {
   "cell_type": "code",
   "execution_count": 191,
   "metadata": {},
   "outputs": [],
   "source": [
    "maxContent = max(len(tokens) for tokens in conteudos)"
   ]
  },
  {
   "cell_type": "code",
   "execution_count": 192,
   "metadata": {},
   "outputs": [],
   "source": [
    "class SamplingLayer(layers.Layer):\n",
    "  \"\"\"Reparameterization Trick z = mu + sigma * epsilon\"\"\"\n",
    "\n",
    "  def call(self, inputs):\n",
    "    zMean, zLogVar = inputs\n",
    "    batch = tf.shape(zMean)[0]\n",
    "    dim = tf.shape(zMean)[1]\n",
    "    epsilon = tf.keras.backend.random_normal(shape=(batch, dim))\n",
    "    return zMean + tf.exp(0.5 * zLogVar) * epsilon"
   ]
  },
  {
   "cell_type": "code",
   "execution_count": 193,
   "metadata": {},
   "outputs": [
    {
     "name": "stdout",
     "output_type": "stream",
     "text": [
      "Model: \"encoder\"\n",
      "__________________________________________________________________________________________________\n",
      " Layer (type)                Output Shape                 Param #   Connected to                  \n",
      "==================================================================================================\n",
      " input_3 (InputLayer)        [(None, 2141, 1)]            0         []                            \n",
      "                                                                                                  \n",
      " sequential_2 (Sequential)   (None, 256)                  4903360   ['input_3[0][0]']             \n",
      "                                                                                                  \n",
      " z_mean (Dense)              (None, 2)                    514       ['sequential_2[0][0]']        \n",
      "                                                                                                  \n",
      " z_log_var (Dense)           (None, 2)                    514       ['sequential_2[0][0]']        \n",
      "                                                                                                  \n",
      " sampling_layer_1 (Sampling  (None, 2)                    0         ['z_mean[0][0]',              \n",
      " Layer)                                                              'z_log_var[0][0]']           \n",
      "                                                                                                  \n",
      "==================================================================================================\n",
      "Total params: 4904388 (18.71 MB)\n",
      "Trainable params: 4904388 (18.71 MB)\n",
      "Non-trainable params: 0 (0.00 Byte)\n",
      "__________________________________________________________________________________________________\n"
     ]
    }
   ],
   "source": [
    "def Encoder(latentDim, encoderInputs):\n",
    "    \n",
    "  l1 = keras.models.Sequential([\n",
    "    layers.Embedding(vocab, 128, input_length=maxContent),\n",
    "    layers.Conv1D(128, 3, activation=\"relu\", strides=1, padding=\"same\"),\n",
    "    layers.MaxPooling1D(3),\n",
    "    layers.Conv1D(64, 3, activation=\"relu\", strides=1, padding=\"same\"),\n",
    "    layers.MaxPooling1D(3),\n",
    "    layers.Flatten(),\n",
    "    layers.Dense(256, activation=\"relu\")\n",
    "  ])\n",
    "\n",
    "  x = l1(encoderInputs)\n",
    "\n",
    "  zMean = layers.Dense(latentDim, name=\"z_mean\")(x)\n",
    "  zLogVar = layers.Dense(latentDim, name=\"z_log_var\")(x)\n",
    "\n",
    "  z = SamplingLayer()([zMean, zLogVar])\n",
    "\n",
    "  return keras.Model(encoderInputs, [zMean, zLogVar, z], name=\"encoder\")\n",
    "\n",
    "encoderInputs = keras.Input(shape=(maxContent, 1))\n",
    "encoder = Encoder(2, encoderInputs)\n",
    "encoder.summary()"
   ]
  },
  {
   "cell_type": "code",
   "execution_count": 194,
   "metadata": {},
   "outputs": [
    {
     "name": "stdout",
     "output_type": "stream",
     "text": [
      "Model: \"decoder\"\n",
      "_________________________________________________________________\n",
      " Layer (type)                Output Shape              Param #   \n",
      "=================================================================\n",
      " input_4 (InputLayer)        [(None, 2)]               0         \n",
      "                                                                 \n",
      " sequential_3 (Sequential)   (None, 2141, 1)           31768     \n",
      "                                                                 \n",
      "=================================================================\n",
      "Total params: 31768 (124.09 KB)\n",
      "Trainable params: 31768 (124.09 KB)\n",
      "Non-trainable params: 0 (0.00 Byte)\n",
      "_________________________________________________________________\n"
     ]
    }
   ],
   "source": [
    "def Decoder(latentInputs):\n",
    "\n",
    "  l1 = keras.models.Sequential([\n",
    "    layers.Dense(maxContent, activation=\"relu\", input_shape=(latentInputs.shape[1],)),\n",
    "    layers.Reshape((maxContent, 1)),\n",
    "    layers.Conv1DTranspose(128, 3, activation=\"relu\", strides=1, padding=\"same\"),\n",
    "    layers.Conv1DTranspose(64, 3, activation=\"relu\", strides=1, padding=\"same\"),\n",
    "    layers.Conv1DTranspose(1, 3, activation=\"sigmoid\", padding=\"same\", input_shape=(None, maxContent))\n",
    "  ])\n",
    "\n",
    "  return keras.Model(latentInputs, l1(latentInputs), name=\"decoder\")\n",
    "\n",
    "latentInputs = keras.Input(shape=(2,))\n",
    "decoder = Decoder(latentInputs)\n",
    "decoder.summary()"
   ]
  },
  {
   "cell_type": "code",
   "execution_count": 195,
   "metadata": {},
   "outputs": [],
   "source": [
    "def reconstructionLoss(data, reconstructed):\n",
    "  return keras.losses.binary_crossentropy(data, reconstructed)   "
   ]
  },
  {
   "cell_type": "code",
   "execution_count": 196,
   "metadata": {},
   "outputs": [],
   "source": [
    "def klDivergenceLoss(zMean, zLogVar):\n",
    "  return tf.reduce_mean(\n",
    "        -0.5 * (1 + zLogVar - tf.square(zMean) - tf.exp(zLogVar)),\n",
    "        axis=1\n",
    "  )"
   ]
  },
  {
   "cell_type": "code",
   "execution_count": 197,
   "metadata": {},
   "outputs": [],
   "source": [
    "def calcTotalLoss(data, reconstructed, zMean, zLogVar):\n",
    "  loss1 = reconstructionLoss(data, reconstructed)\n",
    "  loss2 = klDivergenceLoss(zMean, zLogVar)\n",
    "  klWeight = 3.0\n",
    "  return  loss1, loss2, loss1 + klWeight * loss2"
   ]
  },
  {
   "cell_type": "code",
   "execution_count": 198,
   "metadata": {},
   "outputs": [
    {
     "name": "stdout",
     "output_type": "stream",
     "text": [
      "(78, 2141) \n",
      " (78, 15, 1)\n"
     ]
    }
   ],
   "source": [
    "print(xTrain.shape, \"\\n\", yTrain.shape)"
   ]
  },
  {
   "cell_type": "code",
   "execution_count": 199,
   "metadata": {},
   "outputs": [],
   "source": [
    "xTrain = np.expand_dims(xTrain, -1).astype(\"float32\") / vocab\n",
    "xTest = np.expand_dims(xTest, -1).astype(\"float32\") / vocab"
   ]
  },
  {
   "cell_type": "code",
   "execution_count": 200,
   "metadata": {},
   "outputs": [
    {
     "name": "stdout",
     "output_type": "stream",
     "text": [
      "(78, 2141, 1) \n",
      " (78, 15, 1)\n"
     ]
    }
   ],
   "source": [
    "print(xTrain.shape, \"\\n\", yTrain.shape)"
   ]
  },
  {
   "cell_type": "code",
   "execution_count": 201,
   "metadata": {},
   "outputs": [],
   "source": [
    "class VAE(keras.Model):\n",
    "  def __init__(self, encoder, decoder, **kwargs):\n",
    "    super(VAE, self).__init__(**kwargs)\n",
    "    self.encoder = encoder\n",
    "    self.decoder = decoder\n",
    "\n",
    "    self.totalLossTracker = keras.metrics.Mean(name=\"total_loss\")\n",
    "    self.ceLossTracker = keras.metrics.Mean(name=\"ce_loss\")\n",
    "    self.klLossTracker = keras.metrics.Mean(name=\"kl_loss\")\n",
    "    \n",
    "  @property\n",
    "  def metrics(self):\n",
    "    return [\n",
    "        self.totalLossTracker,\n",
    "        self.ceLossTracker,\n",
    "        self.klLossTracker\n",
    "    ]\n",
    "\n",
    "  def train_step(self, data):\n",
    "\n",
    "    with tf.GradientTape() as tape:\n",
    "        \n",
    "        zMean, zLogVar, z = self.encoder(data)\n",
    "        reconstruction = self.decoder(z)\n",
    "\n",
    "        ceLoss, klLoss, totalLoss = calcTotalLoss(data, reconstruction, zMean, zLogVar)\n",
    "\n",
    "    grads = tape.gradient(totalLoss, self.trainable_weights)\n",
    "    self.optimizer.apply_gradients(zip(grads, self.trainable_weights))\n",
    "\n",
    "    self.totalLossTracker.update_state(totalLoss)\n",
    "    self.ceLossTracker.update_state(ceLoss)\n",
    "    self.klLossTracker.update_state(klLoss)\n",
    "\n",
    "    return {\n",
    "        \"total_loss\": self.totalLossTracker.result(),\n",
    "        \"ce_loss\": self.ceLossTracker.result(),\n",
    "        \"kl_loss\": self.klLossTracker.result()\n",
    "    }"
   ]
  },
  {
   "cell_type": "code",
   "execution_count": 203,
   "metadata": {},
   "outputs": [
    {
     "name": "stdout",
     "output_type": "stream",
     "text": [
      "Epoch 1/10\n",
      "78/78 [==============================] - 6s 46ms/step - total_loss: 0.1041 - ce_loss: 0.1041 - kl_loss: 7.0735e-06\n",
      "Epoch 2/10\n",
      "78/78 [==============================] - 4s 46ms/step - total_loss: 0.1019 - ce_loss: 0.1018 - kl_loss: 3.8172e-06\n",
      "Epoch 3/10\n",
      "78/78 [==============================] - 4s 47ms/step - total_loss: 0.1011 - ce_loss: 0.1011 - kl_loss: 2.8650e-06\n",
      "Epoch 4/10\n",
      "78/78 [==============================] - 3s 45ms/step - total_loss: 0.1036 - ce_loss: 0.1036 - kl_loss: 3.7073e-06\n",
      "Epoch 5/10\n",
      "78/78 [==============================] - 4s 45ms/step - total_loss: 0.1007 - ce_loss: 0.1007 - kl_loss: 1.5274e-06\n",
      "Epoch 6/10\n",
      "78/78 [==============================] - 4s 45ms/step - total_loss: 0.1020 - ce_loss: 0.1020 - kl_loss: 1.1617e-06\n",
      "Epoch 7/10\n",
      "78/78 [==============================] - 4s 46ms/step - total_loss: 0.1002 - ce_loss: 0.1002 - kl_loss: 1.0429e-06\n",
      "Epoch 8/10\n",
      "78/78 [==============================] - 4s 45ms/step - total_loss: 0.0997 - ce_loss: 0.0997 - kl_loss: 2.1681e-06\n",
      "Epoch 9/10\n",
      "78/78 [==============================] - 4s 46ms/step - total_loss: 0.1040 - ce_loss: 0.1040 - kl_loss: 4.4421e-06\n",
      "Epoch 10/10\n",
      "78/78 [==============================] - 3s 45ms/step - total_loss: 0.1009 - ce_loss: 0.1009 - kl_loss: 2.0531e-06\n"
     ]
    }
   ],
   "source": [
    "vae = VAE(encoder, decoder)\n",
    "vae.compile(optimizer=keras.optimizers.Adam(learning_rate=0.001))\n",
    "history = vae.fit(xTrain, epochs=10, batch_size=1)"
   ]
  },
  {
   "cell_type": "code",
   "execution_count": 204,
   "metadata": {},
   "outputs": [
    {
     "data": {
      "image/png": "[encoded data removed]",
      "text/plain": [
       "<Figure size 800x400 with 1 Axes>"
      ]
     },
     "metadata": {},
     "output_type": "display_data"
    }
   ],
   "source": [
    "plt.figure(figsize=(8, 4))\n",
    "plt.plot(history.history.get('total_loss'), label=\"total loss\")\n",
    "plt.plot(history.history.get('ce_loss'), label=\"reconstruction loss\")\n",
    "#plt.plot(history.history.get('kl_loss'), label=\"KL loss\")\n",
    "plt.legend();"
   ]
  },
  {
   "cell_type": "code",
   "execution_count": 205,
   "metadata": {},
   "outputs": [
    {
     "data": {
      "image/png": "[encoded data removed]",
      "text/plain": [
       "<Figure size 800x400 with 1 Axes>"
      ]
     },
     "metadata": {},
     "output_type": "display_data"
    }
   ],
   "source": [
    "plt.figure(figsize=(8, 4))\n",
    "plt.plot(history.history.get('kl_loss'), label=\"KL loss\")\n",
    "plt.legend();"
   ]
  },
  {
   "cell_type": "code",
   "execution_count": 218,
   "metadata": {},
   "outputs": [],
   "source": [
    "idx = 14\n",
    "inputPredict = xTest[idx]\n",
    "inputPredict = inputPredict.reshape(1, maxContent)"
   ]
  },
  {
   "cell_type": "code",
   "execution_count": 219,
   "metadata": {},
   "outputs": [
    {
     "name": "stdout",
     "output_type": "stream",
     "text": [
      "1/1 [==============================] - 0s 50ms/step\n"
     ]
    }
   ],
   "source": [
    "z = vae.encoder.predict([inputPredict])[2]"
   ]
  },
  {
   "cell_type": "code",
   "execution_count": 220,
   "metadata": {},
   "outputs": [],
   "source": [
    "#z = np.random.normal(loc=0, scale=4, size=(1,2))"
   ]
  },
  {
   "cell_type": "code",
   "execution_count": 221,
   "metadata": {},
   "outputs": [
    {
     "data": {
      "text/plain": [
       "array([[0.551951 , 0.7350975]], dtype=float32)"
      ]
     },
     "execution_count": 221,
     "metadata": {},
     "output_type": "execute_result"
    }
   ],
   "source": [
    "z"
   ]
  },
  {
   "cell_type": "code",
   "execution_count": 222,
   "metadata": {},
   "outputs": [
    {
     "name": "stdout",
     "output_type": "stream",
     "text": [
      "1/1 [==============================] - 0s 40ms/step\n"
     ]
    }
   ],
   "source": [
    "teste = vae.decoder.predict(z)"
   ]
  },
  {
   "cell_type": "code",
   "execution_count": 223,
   "metadata": {},
   "outputs": [],
   "source": [
    "teste = teste.reshape(maxContent)"
   ]
  },
  {
   "cell_type": "code",
   "execution_count": 224,
   "metadata": {},
   "outputs": [
    {
     "data": {
      "text/plain": [
       "array([976.67773  , 551.78577  , 559.14984  , ...,   1.59081  ,\n",
       "         2.8100133,  69.911865 ], dtype=float32)"
      ]
     },
     "execution_count": 224,
     "metadata": {},
     "output_type": "execute_result"
    }
   ],
   "source": [
    "teste*vocab"
   ]
  },
  {
   "cell_type": "code",
   "execution_count": 225,
   "metadata": {},
   "outputs": [],
   "source": [
    "prediction = (teste*vocab).tolist()\n",
    "for x in range(maxContent):\n",
    "    prediction[x] = round(prediction[x])\n",
    "\n",
    "predictionsText = tokenizer.sequences_to_texts([prediction])"
   ]
  },
  {
   "cell_type": "code",
   "execution_count": 226,
   "metadata": {},
   "outputs": [],
   "source": [
    "content = xTest[idx].reshape(maxContent)\n",
    "content = (content*vocab).tolist()\n",
    "\n",
    "for x in range(maxContent):\n",
    "    content[x] = round(content[x])\n",
    "\n",
    "content = tokenizer.sequences_to_texts([content])"
   ]
  },
  {
   "cell_type": "code",
   "execution_count": 227,
   "metadata": {},
   "outputs": [
    {
     "data": {
      "text/plain": [
       "['treinador de muay thai de anderson silva desde 2011 quando o então detentor do cinturão dos pesos médios do ultimate enfrentou e venceu vitor belfort com um espetacular chute no rosto pedro rizzo estava no córner do paulista no ufc 168 dia 28 de dezembro de 2013 em las vegas eua a imagem do ex campeão da categoria até 84kg gritando de dor pela perna quebrada após chutar o joelho de chris weidman trouxe más lembranças ao ex peso pesado do ufc não por já ter sentido a dor de anderson silva mas sim por já ter estado na pele do americano quando ainda competia campeonatos de muay thai por isso o brasileiro é categórico ao afirmar que o campeão peso médio no fundo não deve se considerar vitorioso no combate isso aconteceu comigo quando eu lutei muay thai na bélgica foi a mesma lesão porque meu adversário chutou eu bloqueei e ele quebrou a perna foi um acidente e por isso não considero que tenha sido uma vitória ou um nocaute apenas aconteceu foi algo realmente muito ruim e não se deve comemorar e acredito que weidman deva sentir o mesmo não deve se sentir vencedor da luta apesar de ter sido acidente não foi sorte do weidman porque existe uma técnica para se bloquear esses chutes disse pedro rizzo ao site mma fighting mais combate com confira as últimas notícias do mundo do mma o treinador também comentou como foi a preparação de anderson silva para o confronto contra chris weidman e lembrou que nunca tinha visto o ex campeão tão bem preparado fisicamente e motivado para uma luta o ex lutador revelou que o spider disse ainda no hospital que voltaria a lutar ele estava motivado e concentrado o camp inteiro foram dois meses de trabalho duro e ninguém poderia imaginar que terminaria assim nós já esperávamos que weidman começasse melhor no primeiro round porque o anderson é assim inicialmente e depois se solta e nunca saberemos realmente como essa luta terminaria agora ainda no hospital o anderson me disse que iria voltar eu disse para ele ir para casa e descansar serão seis meses de recuperação ele é um guerreiro mas não precisa provar mais nada a ninguém se ele quiser mesmo voltar a lutar nós estaremos ao lado dele falou pedro rizzo']"
      ]
     },
     "execution_count": 227,
     "metadata": {},
     "output_type": "execute_result"
    }
   ],
   "source": [
    "content"
   ]
  },
  {
   "cell_type": "code",
   "execution_count": 228,
   "metadata": {},
   "outputs": [
    {
     "data": {
      "text/plain": [
       "['ajustes pelos bloco sochi abertura abertura abertura abertura abertura abertura abertura abertura abertura abertura abertura abertura abertura abertura abertura abertura abertura abertura abertura abertura abertura abertura abertura abertura abertura abertura abertura abertura abertura abertura abertura abertura abertura abertura abertura abertura abertura abertura abertura abertura abertura abertura abertura abertura abertura abertura abertura abertura abertura abertura abertura abertura abertura abertura abertura abertura abertura abertura abertura abertura abertura abertura abertura abertura abertura abertura abertura abertura abertura abertura abertura abertura abertura abertura abertura abertura abertura abertura abertura abertura abertura abertura abertura abertura abertura abertura abertura abertura abertura abertura abertura abertura abertura abertura abertura abertura abertura abertura abertura abertura abertura abertura abertura abertura abertura abertura abertura abertura abertura abertura abertura abertura abertura abertura abertura abertura abertura abertura médio mercados papel papel papel médio médio abertura abertura abertura abertura abertura abertura abertura abertura abertura abertura abertura abertura abertura abertura abertura abertura abertura abertura abertura abertura abertura abertura abertura abertura abertura abertura abertura abertura abertura abertura abertura abertura abertura abertura abertura abertura abertura abertura abertura abertura abertura abertura abertura abertura abertura abertura abertura abertura abertura abertura abertura abertura abertura abertura abertura abertura abertura abertura abertura abertura abertura abertura abertura abertura abertura abertura abertura abertura abertura abertura abertura abertura abertura abertura abertura abertura abertura abertura abertura abertura abertura abertura abertura abertura abertura abertura abertura abertura abertura abertura abertura abertura abertura abertura abertura abertura abertura abertura abertura abertura abertura abertura abertura abertura abertura abertura abertura abertura abertura abertura abertura abertura euros cálculo torcedor conseguiu nós contexto próximo abertura euros hipótese ciclo esporte menores usinas principais principais 69 dinheiro receber 50 superior deverá estar ruim começou torno equipe 48 tombini próximos china externo elétrica 2016 abriu considerado 18 abertura milhão preciso orçamento retração ministros ajuda poderia sudeste declarou suécia cálculo graça fórum abertura abertura abertura abertura abertura temporada instituto fundação etapa internacionais representa torno representa internacionais cenário ajuda argentino equipamentos abertura cidade bancários dar fase ue esses salários ciclo feita esses controle ver torno contexto abertura abertura abertura abertura abertura abertura algumas quase dar percentual mesma anunciou destacou sudeste etapa produção 35 setores nome tarifa abertura previsto somente ver custos estimativa destacou bancários começou osx estável garantir etapa internacionais causa abriu vice goleiro rousseff 40 trabalhadores municípios administração existe eua desempenho podem cni empregados espanha jogo volume havia br taxas pior registraram real vasco centro bens dar argentina comercial econômica fez terça domingo história equipe terá deverá fazenda econômicos estamos toda formais história família garantir ocupação remo alimentos família 35 manteve lado passar lado somaram indexação obra anunciou ponto artigos poder principal passou principal números políticas políticas próxima volume econômico atividade abaixo partir empresário outras br fgv processo jogo fase silva planos comércio bancos todo acumulado patamar passada passando onde participação pelas títulos pior 14 14 subiu 29 direito casa abaixo renda taxas silva 2011 lado projeto produção 90 lá aponta 2011 registrou tudo recuperação financeiro passar s volume passar 22 hoje fora consumidor partir acima longo 21 então oito 28 econômico tribunal atividade financeiro carteira s alguns vem obra jorge fase s empresários comercial fundo passou porém destaque oito todas acima exportações pagamento carteira passar lado 2009 s petróleo proposta lado julgamento redução taxas pública economistas afirma união pior onde eles economistas 2011 destaque uso manter compra 16 redução futebol estamos vitória longo câmbio moraes atacante moeda recuou controle investidores podem mma 20 minutos plano julgamento financeiro 20 13 20 patamar americana onde real assinada pelas câmbio peso fora fundo 17 br 31 vida total ufc abaixo 31 diretor acima havia financeiro tiveram homem havia gastos casa recursos pagamento renda fiscal taxas domingo construção outras 23 este durante programa tudo maiores registrou 29 empresários tiveram medidas comércio valores união tribunais fase mma moraes despesas recorde direito pouco redução 31 peso 17 custo 25 atividade tribunal lagarde varejo econômicos desta boa empresa fgts direito empresários domingo quatro novembro países pagamento construção plano 26 produtos exterior investimento assim bancos feito novembro econômica expansão sul sempre última diretor gastos quinta exterior frente falta temos risco recorde crise tesouro total total outro sistema expectativa disso primeiros plano mantega outubro cerca seus produtos pesquisa área contratos seleção situação valores pouco meu monetária lagarde 22 câmbio 20 peso caiu fez partir forma br financeiro 13 fundo ufc fez área assim assim internacional pesquisa consumidor países total consumidores abaixo boa outras expectativa enquanto consumo emprego enquanto só previsão recuperação primeiros cada crise vagas assim serviços 23 ufc processos exportações comércio expansão ibge 15 seleção seria diretor silva subiu 25 econômica final ações pode dias contratos empregos consumo despesas mantega meta copa frente seus 30 clube demanda primeira ibge temos sul outro contratos 15 bc aumento porque últimos bancos cinco recorde sistema setembro neste às pode informou ibge temos sido seleção seus bem 30 26 recursos consumo final grande janeiro paulo seu variação teria ministério serviços tempo bem número outras tesouro fez novos região estados 10 mil mundo estados durante eu hoje vendas este agosto ex norte área quinta atual depois menor trabalho afirmou há todos dias atual 23 caiu total clube depois conta menor além 15 outro total fora sendo seja agora investimentos agosto ex nota contratos baixo fez semana conta pontos resultado mil 10 petrobras dólar três fazer melhor duas sistema investimento outros seu federal juros todo 24 enquanto exemplo seus produtos grandes só novos outros estados tempo área consumidor emprego exterior copa têm momento outros mundo julho queda brasileira caso relação dia 12 setor energia meses setor dia teve estão ações há ministro maior alta isso – conta pode trimestre grupo grande mundial indústria trabalho caso março desde 8 9 isso diz período energia 8 até 7 aos crescimento diz 12 janeiro mercado passado quando quando preços está ser como à r mas r 3 3 país ou paulo taxa contra economia pela presidente mesmo us mesmo 7 está aos ser economia us período mundial ter período 9 6 contra contra sobre 9 mercado diz banco alta está aos disse entre sobre são feira ainda presidente disse energia 9 2014 4 r também feira está banco alta 4 também bilhões são 9 período maior 2014 inflação aos disse quando alta até mês pela como ainda são alta energia ou disse 7 está disse tem maior período janeiro setor anos sua 4 segundo das 1 também bilhões ainda pela está 9 nas deste deste ou sua 2013 pelo como presidente tem 9 alta sua us 7 8 foram período banco 8 entre 8 maior energia anos ou 8 sobre inflação ele pelo as por uma mais pelo nos ele 2013 ele us 9 muito vez deve 10 mil acordo banco maior foram passado aos 2013 ainda ele disse energia taxa taxa mercado 9 mesmo ainda também 2 3 mas governo governo mesmo disse mercado muito nas tem 7 contra preços banco foram índice até mesmo pela nos economia contra isso passado aos mas 0 mais das r país ser mesmo ser 7 6 preços aos são brasil pelo brasil 4 já 2013 mas mas país inflação contra está país brasil segundo bilhões governo 6 inflação 2013 0 se das ainda economia 2014 2014 contra sua 6 sobre até pela 3 também brasil país mês sobre tem quando presidente à também à nesta disse sua governo r r feira 6 setor grupo anterior março 7 feira ele aos ou 9 aos economia já economia governo brasil também r 2013 nos feira 3 5 bilhões bilhões das foi 0 mas mesmo 7 país 3 segundo r nos são governo como 2013 já nesta economia governo brasil 5 também pelo ainda 2013 4 como 2013 pela sua 2014 preços 6 país 3 0 das r são inflação contra aos 7 presidente 4 pelo 0 mais as foi bilhões são disse 6 são ainda mas feira já presidente 6 crescimento diz maior ser 1 uma um ano das país 2014 maior passado quando preços crescimento ministro central nacional contra à 1 0 3 ele pela governo à brasil à ainda ainda nos ser aos aos 6 inflação contra 6 alta entre anos mercado deste índice 7 governo à mas 4 são ser presidente 7 crescimento brasileira setor maior são r se as mais também governo 6 anos tem nesta bilhões segundo também 2013 2013 4 brasil 4 país economia como das não não 2 mesmo janeiro fim caso até feira também 3 feira são governo brasil também à feira 2013 segundo mais dos ao ao ao ao se pelo governo aos foram pontos caso ou nesta à pelo à nos ele como 0 ano na no com uma 0 presidente crescimento setor entre já segundo foi se 5 à bilhões as os na os dos também ele sobre anos brasileira setor foram tem contra são ainda segundo 1 1 também à pelo 0 ao ao 0 ainda us sobre quando 6 ser pelo foi dos as também já entre energia passado contra ele também ano um na ano segundo à se é com os ao 5 à brasil 2013 nesta quando banco diz diz maior 7 feira r r como governo já us 2014 aos ele também se 1 bilhões como feira r 0 mais ao foi das mas ser alta tem aos 4 3 pelo como ele ser país governo pelo das foi também 4 presidente pela r 2 2 5 pelo 3 4 presidente preços 8 ou preços sua ele 4 pela nesta inflação mês ser como 2 ano os na é não se 0 as por no em em um 2 us 7 governo 5 das 2 2 0 0 das bilhões brasil ele já ser ser 7 contra sua feira 1 ano uma as r 7 maior passado economia 5 foi foi 3 us anos mercado alta pela 2 os em do a do do que em no os ao segundo mas ainda 3 2 mais uma para que que da é 2 governo governo r 2 pelo nos contra quando nesta das um da que do do do e da os as também feira presidente nesta pela ainda 3 pelo 2 foi dos não não mais as 0 também ainda nos presidente 4 bilhões ano com que e e que que que que que em em em da para uma das como brasil 0 por um na um não 3 pela mas por da e que da para para na não pelo nos ainda segundo ao não as 5 como ele brasil mais no e a a a e que que e do e da por se 2 ao é no no no com para para para é 0 pela nesta mesmo governo 0 com do o a em dos pelo 1 é em e do do a do do que em da da que e e e que da com uma ao as uma com da para na é os para que e que com mais 3 mas 0 ano uma as 1 ano da do a do do do do e em no os os um com para da para com os uma ao 2 brasil 2013 3 0 não as se segundo bilhões como economia está 2014 presidente como 2 mais não ao as as não uma os um uma ao pelo ele inflação país também uma na um não 0 1 é da do a o o a que na não dos os para que e do do e para um por uma um com na é as se das foi não por é uma dos dos é com no um não 0 das 1 ao por na para com dos 5 r ao para e do que no ao bilhões bilhões se uma na no da que do do do para ao como são como das dos uma uma as brasil 2014 nas sobre pela r à 4 ele pelo dos no em em um se à 0 os em que para os se r governo nos governo como brasil 1 é da que e e e do do que uma à mesmo nos das uma no para no é dos ao uma um com os ano 2 ele até aos 3 é da que e do a a do que no os um com em e do e em os as 0 se 2 3 brasil 2 por no em e e do a a do que um não 1 mais por no em e do e e em para na com com para para para no com com com no com os não 0 pelo r pelo das foi ao dos uma os é as 5 segundo por em do e da na um os um é ano 0 r nos governo bilhões as por por dos por é na com para em e e que para com no da que e e que no dos segundo 2 por para da com é na do o a preços']"
      ]
     },
     "execution_count": 228,
     "metadata": {},
     "output_type": "execute_result"
    }
   ],
   "source": [
    "predictionsText"
   ]
  }
 ],
 "metadata": {
  "kernelspec": {
   "display_name": "Python 3",
   "language": "python",
   "name": "python3"
  },
  "language_info": {
   "codemirror_mode": {
    "name": "ipython",
    "version": 3
   },
   "file_extension": ".py",
   "mimetype": "text/x-python",
   "name": "python",
   "nbconvert_exporter": "python",
   "pygments_lexer": "ipython3",
   "version": "3.11.7"
  }
 },
 "nbformat": 4,
 "nbformat_minor": 2
}
