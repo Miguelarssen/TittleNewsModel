{
 "cells": [
  {
   "cell_type": "code",
   "execution_count": 35,
   "metadata": {},
   "outputs": [],
   "source": [
    "import pandas as pd\n",
    "import matplotlib.pyplot as plt \n",
    "import numpy as np\n",
    "import json"
   ]
  },
  {
   "cell_type": "code",
   "execution_count": 36,
   "metadata": {},
   "outputs": [],
   "source": [
    "import tensorflow as tf\n",
    "\n",
    "from tensorflow.keras.layers import Embedding, Dense, Conv1D, MaxPooling1D;\n",
    "from tensorflow.keras.preprocessing.text import Tokenizer\n",
    "from tensorflow.keras.preprocessing.sequence import pad_sequences\n",
    "from tensorflow.keras.models import Sequential\n",
    "from tensorflow.keras.optimizers import Adam\n",
    "from tensorflow import keras\n",
    "from tensorflow.keras import layers"
   ]
  },
  {
   "cell_type": "code",
   "execution_count": 37,
   "metadata": {},
   "outputs": [],
   "source": [
    "with open(\"tokenizerRed.json\", \"r\") as jsonfile:\n",
    "    tokenizer = json.load(jsonfile)\n",
    "\n",
    "tokenizer = tf.keras.preprocessing.text.tokenizer_from_json(tokenizer)"
   ]
  },
  {
   "cell_type": "code",
   "execution_count": 38,
   "metadata": {},
   "outputs": [],
   "source": [
    "with open(\"dados/tituloTratadoRed.csv\", \"r\") as csvfile:\n",
    "    titulos = np.genfromtxt(csvfile, delimiter=\",\")\n",
    "    titulos = titulos.astype(np.int32)"
   ]
  },
  {
   "cell_type": "code",
   "execution_count": 39,
   "metadata": {},
   "outputs": [],
   "source": [
    "with open(\"dados/conteudoTratadoRed.csv\", \"r\") as csvfile:\n",
    "    conteudos = np.genfromtxt(csvfile, delimiter=\",\")\n",
    "    conteudos = conteudos.astype(np.int32)"
   ]
  },
  {
   "cell_type": "code",
   "execution_count": 40,
   "metadata": {},
   "outputs": [],
   "source": [
    "size = len(conteudos)\n",
    "\n",
    "xTrain = conteudos[0:int(size*0.8)]\n",
    "xTest = conteudos[int(size*0.8):]"
   ]
  },
  {
   "cell_type": "code",
   "execution_count": 41,
   "metadata": {},
   "outputs": [],
   "source": [
    "vocab = len(tokenizer.word_index)"
   ]
  },
  {
   "cell_type": "code",
   "execution_count": 42,
   "metadata": {},
   "outputs": [
    {
     "data": {
      "text/plain": [
       "19567"
      ]
     },
     "execution_count": 42,
     "metadata": {},
     "output_type": "execute_result"
    }
   ],
   "source": [
    "vocab"
   ]
  },
  {
   "cell_type": "code",
   "execution_count": 43,
   "metadata": {},
   "outputs": [],
   "source": [
    "maxContent = max(len(tokens) for tokens in conteudos)"
   ]
  },
  {
   "cell_type": "code",
   "execution_count": 44,
   "metadata": {},
   "outputs": [],
   "source": [
    "class SamplingLayer(layers.Layer):\n",
    "  \"\"\"Reparameterization Trick z = mu + sigma * epsilon\"\"\"\n",
    "\n",
    "  def call(self, inputs):\n",
    "    zMean, zLogVar = inputs\n",
    "    batch = tf.shape(zMean)[0]\n",
    "    dim = tf.shape(zMean)[1]\n",
    "    epsilon = tf.keras.backend.random_normal(shape=(batch, dim))\n",
    "    return zMean + tf.exp(0.5 * zLogVar) * epsilon"
   ]
  },
  {
   "cell_type": "code",
   "execution_count": 45,
   "metadata": {},
   "outputs": [
    {
     "name": "stdout",
     "output_type": "stream",
     "text": [
      "Model: \"encoder\"\n",
      "__________________________________________________________________________________________________\n",
      " Layer (type)                Output Shape                 Param #   Connected to                  \n",
      "==================================================================================================\n",
      " input_5 (InputLayer)        [(None, 2268, 1)]            0         []                            \n",
      "                                                                                                  \n",
      " sequential_4 (Sequential)   (None, 256)                  6707520   ['input_5[0][0]']             \n",
      "                                                                                                  \n",
      " z_mean (Dense)              (None, 2)                    514       ['sequential_4[0][0]']        \n",
      "                                                                                                  \n",
      " z_log_var (Dense)           (None, 2)                    514       ['sequential_4[0][0]']        \n",
      "                                                                                                  \n",
      " sampling_layer_2 (Sampling  (None, 2)                    0         ['z_mean[0][0]',              \n",
      " Layer)                                                              'z_log_var[0][0]']           \n",
      "                                                                                                  \n",
      "==================================================================================================\n",
      "Total params: 6708548 (25.59 MB)\n",
      "Trainable params: 6708548 (25.59 MB)\n",
      "Non-trainable params: 0 (0.00 Byte)\n",
      "__________________________________________________________________________________________________\n"
     ]
    }
   ],
   "source": [
    "def Encoder(latentDim, encoderInputs):\n",
    "    \n",
    "  l1 = keras.models.Sequential([\n",
    "    layers.Embedding(vocab, 128, input_length=maxContent),\n",
    "    layers.Conv1D(128, 3, activation=\"relu\", strides=1, padding=\"same\"),\n",
    "    layers.MaxPooling1D(3),\n",
    "    layers.Conv1D(64, 3, activation=\"relu\", strides=1, padding=\"same\"),\n",
    "    layers.MaxPooling1D(3),\n",
    "    layers.Flatten(),\n",
    "    layers.Dense(256, activation=\"relu\")\n",
    "  ])\n",
    "\n",
    "  x = l1(encoderInputs)\n",
    "\n",
    "  zMean = layers.Dense(latentDim, name=\"z_mean\")(x)\n",
    "  zLogVar = layers.Dense(latentDim, name=\"z_log_var\")(x)\n",
    "\n",
    "  z = SamplingLayer()([zMean, zLogVar])\n",
    "\n",
    "  return keras.Model(encoderInputs, [zMean, zLogVar, z], name=\"encoder\")\n",
    "\n",
    "encoderInputs = keras.Input(shape=(maxContent, 1))\n",
    "encoder = Encoder(2, encoderInputs)\n",
    "encoder.summary()"
   ]
  },
  {
   "cell_type": "code",
   "execution_count": 46,
   "metadata": {},
   "outputs": [
    {
     "name": "stdout",
     "output_type": "stream",
     "text": [
      "Model: \"decoder\"\n",
      "_________________________________________________________________\n",
      " Layer (type)                Output Shape              Param #   \n",
      "=================================================================\n",
      " input_6 (InputLayer)        [(None, 2)]               0         \n",
      "                                                                 \n",
      " sequential_5 (Sequential)   (None, 2268, 1)           32149     \n",
      "                                                                 \n",
      "=================================================================\n",
      "Total params: 32149 (125.58 KB)\n",
      "Trainable params: 32149 (125.58 KB)\n",
      "Non-trainable params: 0 (0.00 Byte)\n",
      "_________________________________________________________________\n"
     ]
    }
   ],
   "source": [
    "def Decoder(latentInputs):\n",
    "\n",
    "  l1 = keras.models.Sequential([\n",
    "    layers.Dense(maxContent, activation=\"relu\", input_shape=(latentInputs.shape[1],)),\n",
    "    layers.Reshape((maxContent, 1)),\n",
    "    layers.Conv1DTranspose(128, 3, activation=\"relu\", strides=1, padding=\"same\"),\n",
    "    layers.Conv1DTranspose(64, 3, activation=\"relu\", strides=1, padding=\"same\"),\n",
    "    layers.Conv1DTranspose(1, 3, activation=\"sigmoid\", padding=\"same\", input_shape=(None, maxContent))\n",
    "  ])\n",
    "\n",
    "  return keras.Model(latentInputs, l1(latentInputs), name=\"decoder\")\n",
    "\n",
    "latentInputs = keras.Input(shape=(2,))\n",
    "decoder = Decoder(latentInputs)\n",
    "decoder.summary()"
   ]
  },
  {
   "cell_type": "code",
   "execution_count": 47,
   "metadata": {},
   "outputs": [],
   "source": [
    "def reconstructionLoss(data, reconstructed):\n",
    "  return keras.losses.binary_crossentropy(data, reconstructed)   "
   ]
  },
  {
   "cell_type": "code",
   "execution_count": 48,
   "metadata": {},
   "outputs": [],
   "source": [
    "def klDivergenceLoss(zMean, zLogVar):\n",
    "  return tf.reduce_mean(\n",
    "        -0.5 * (1 + zLogVar - tf.square(zMean) - tf.exp(zLogVar)),\n",
    "        axis=1\n",
    "  )"
   ]
  },
  {
   "cell_type": "code",
   "execution_count": 49,
   "metadata": {},
   "outputs": [],
   "source": [
    "def calcTotalLoss(data, reconstructed, zMean, zLogVar):\n",
    "  loss1 = reconstructionLoss(data, reconstructed)\n",
    "  loss2 = klDivergenceLoss(zMean, zLogVar)\n",
    "  klWeight = 3.0\n",
    "  return  loss1, loss2, loss1 + klWeight * loss2"
   ]
  },
  {
   "cell_type": "code",
   "execution_count": 50,
   "metadata": {},
   "outputs": [],
   "source": [
    "xTrain = np.expand_dims(xTrain, -1).astype(\"float32\") / vocab\n",
    "xTest = np.expand_dims(xTest, -1).astype(\"float32\") / vocab"
   ]
  },
  {
   "cell_type": "code",
   "execution_count": 51,
   "metadata": {},
   "outputs": [],
   "source": [
    "class VAE(keras.Model):\n",
    "  def __init__(self, encoder, decoder, **kwargs):\n",
    "    super(VAE, self).__init__(**kwargs)\n",
    "    self.encoder = encoder\n",
    "    self.decoder = decoder\n",
    "\n",
    "    self.totalLossTracker = keras.metrics.Mean(name=\"total_loss\")\n",
    "    self.ceLossTracker = keras.metrics.Mean(name=\"ce_loss\")\n",
    "    self.klLossTracker = keras.metrics.Mean(name=\"kl_loss\")\n",
    "    \n",
    "  @property\n",
    "  def metrics(self):\n",
    "    return [\n",
    "        self.totalLossTracker,\n",
    "        self.ceLossTracker,\n",
    "        self.klLossTracker\n",
    "    ]\n",
    "\n",
    "  def train_step(self, data):\n",
    "\n",
    "    with tf.GradientTape() as tape:\n",
    "        \n",
    "        zMean, zLogVar, z = self.encoder(data)\n",
    "        reconstruction = self.decoder(z)\n",
    "\n",
    "        ceLoss, klLoss, totalLoss = calcTotalLoss(data, reconstruction, zMean, zLogVar)\n",
    "\n",
    "    grads = tape.gradient(totalLoss, self.trainable_weights)\n",
    "    self.optimizer.apply_gradients(zip(grads, self.trainable_weights))\n",
    "\n",
    "    self.totalLossTracker.update_state(totalLoss)\n",
    "    self.ceLossTracker.update_state(ceLoss)\n",
    "    self.klLossTracker.update_state(klLoss)\n",
    "\n",
    "    return {\n",
    "        \"total_loss\": self.totalLossTracker.result(),\n",
    "        \"ce_loss\": self.ceLossTracker.result(),\n",
    "        \"kl_loss\": self.klLossTracker.result()\n",
    "    }"
   ]
  },
  {
   "cell_type": "code",
   "execution_count": 54,
   "metadata": {},
   "outputs": [
    {
     "name": "stdout",
     "output_type": "stream",
     "text": [
      "Epoch 1/100\n",
      "396/396 [==============================] - 22s 50ms/step - total_loss: 0.1045 - ce_loss: 0.1037 - kl_loss: 2.6416e-04\n",
      "Epoch 2/100\n",
      "396/396 [==============================] - 20s 50ms/step - total_loss: 0.0687 - ce_loss: 0.0687 - kl_loss: 8.3729e-07\n",
      "Epoch 3/100\n",
      "396/396 [==============================] - 20s 50ms/step - total_loss: 0.0682 - ce_loss: 0.0682 - kl_loss: 5.9029e-07\n",
      "Epoch 4/100\n",
      "396/396 [==============================] - 20s 50ms/step - total_loss: 0.0680 - ce_loss: 0.0680 - kl_loss: 3.4672e-07\n",
      "Epoch 5/100\n",
      "396/396 [==============================] - 20s 50ms/step - total_loss: 0.0680 - ce_loss: 0.0680 - kl_loss: 5.8961e-07\n",
      "Epoch 6/100\n",
      "396/396 [==============================] - 20s 51ms/step - total_loss: 0.0680 - ce_loss: 0.0680 - kl_loss: 2.1490e-07\n",
      "Epoch 7/100\n",
      "396/396 [==============================] - 20s 51ms/step - total_loss: 0.0677 - ce_loss: 0.0677 - kl_loss: 3.6606e-07\n",
      "Epoch 8/100\n",
      "396/396 [==============================] - 20s 51ms/step - total_loss: 0.0686 - ce_loss: 0.0686 - kl_loss: 5.0792e-07\n",
      "Epoch 9/100\n",
      "396/396 [==============================] - 20s 51ms/step - total_loss: 0.0687 - ce_loss: 0.0687 - kl_loss: 4.0060e-07\n",
      "Epoch 10/100\n",
      "396/396 [==============================] - 20s 51ms/step - total_loss: 0.0679 - ce_loss: 0.0679 - kl_loss: 2.9430e-07\n",
      "Epoch 11/100\n",
      "396/396 [==============================] - 20s 51ms/step - total_loss: 0.0680 - ce_loss: 0.0680 - kl_loss: 4.0944e-07\n",
      "Epoch 12/100\n",
      "396/396 [==============================] - 20s 52ms/step - total_loss: 0.0680 - ce_loss: 0.0680 - kl_loss: 5.2248e-07\n",
      "Epoch 13/100\n",
      "396/396 [==============================] - 20s 51ms/step - total_loss: 0.0680 - ce_loss: 0.0680 - kl_loss: 4.4466e-07\n",
      "Epoch 14/100\n",
      "396/396 [==============================] - 21s 52ms/step - total_loss: 0.0679 - ce_loss: 0.0679 - kl_loss: 3.7561e-07\n",
      "Epoch 15/100\n",
      "396/396 [==============================] - 21s 53ms/step - total_loss: 0.0679 - ce_loss: 0.0679 - kl_loss: 3.9936e-07\n",
      "Epoch 16/100\n",
      "396/396 [==============================] - 20s 51ms/step - total_loss: 0.0678 - ce_loss: 0.0678 - kl_loss: 2.4752e-07\n",
      "Epoch 17/100\n",
      "396/396 [==============================] - 21s 52ms/step - total_loss: 0.0679 - ce_loss: 0.0679 - kl_loss: 3.6764e-07\n",
      "Epoch 18/100\n",
      "396/396 [==============================] - 20s 51ms/step - total_loss: 0.0680 - ce_loss: 0.0680 - kl_loss: 3.4799e-07\n",
      "Epoch 19/100\n",
      "396/396 [==============================] - 20s 51ms/step - total_loss: 0.0675 - ce_loss: 0.0675 - kl_loss: 4.5588e-07\n",
      "Epoch 20/100\n",
      "396/396 [==============================] - 21s 52ms/step - total_loss: 0.0677 - ce_loss: 0.0677 - kl_loss: 2.6453e-07\n",
      "Epoch 21/100\n",
      "396/396 [==============================] - 20s 51ms/step - total_loss: 0.0676 - ce_loss: 0.0676 - kl_loss: 3.9292e-07\n",
      "Epoch 22/100\n",
      "396/396 [==============================] - 20s 51ms/step - total_loss: 0.0681 - ce_loss: 0.0681 - kl_loss: 4.4910e-07\n",
      "Epoch 23/100\n",
      "396/396 [==============================] - 20s 52ms/step - total_loss: 0.0676 - ce_loss: 0.0676 - kl_loss: 1.0115e-07\n",
      "Epoch 24/100\n",
      "396/396 [==============================] - 20s 51ms/step - total_loss: 0.0676 - ce_loss: 0.0676 - kl_loss: 2.4109e-07\n",
      "Epoch 25/100\n",
      "396/396 [==============================] - 20s 51ms/step - total_loss: 0.0677 - ce_loss: 0.0677 - kl_loss: 2.5682e-07\n",
      "Epoch 26/100\n",
      "396/396 [==============================] - 20s 52ms/step - total_loss: 0.0678 - ce_loss: 0.0678 - kl_loss: 2.2886e-07\n",
      "Epoch 27/100\n",
      "396/396 [==============================] - 20s 51ms/step - total_loss: 0.0677 - ce_loss: 0.0677 - kl_loss: 1.7434e-07\n",
      "Epoch 28/100\n",
      "396/396 [==============================] - 20s 52ms/step - total_loss: 0.0677 - ce_loss: 0.0677 - kl_loss: 6.3894e-07\n",
      "Epoch 29/100\n",
      "396/396 [==============================] - 20s 51ms/step - total_loss: 0.0675 - ce_loss: 0.0675 - kl_loss: 1.3008e-07\n",
      "Epoch 30/100\n",
      "396/396 [==============================] - 20s 51ms/step - total_loss: 0.0675 - ce_loss: 0.0675 - kl_loss: 2.2465e-07\n",
      "Epoch 31/100\n",
      "396/396 [==============================] - 20s 51ms/step - total_loss: 0.0673 - ce_loss: 0.0673 - kl_loss: 3.5849e-07\n",
      "Epoch 32/100\n",
      "396/396 [==============================] - 21s 52ms/step - total_loss: 0.0679 - ce_loss: 0.0679 - kl_loss: 6.4903e-07\n",
      "Epoch 33/100\n",
      "396/396 [==============================] - 20s 51ms/step - total_loss: 0.0677 - ce_loss: 0.0677 - kl_loss: 1.3667e-07\n",
      "Epoch 34/100\n",
      "396/396 [==============================] - 20s 51ms/step - total_loss: 0.0678 - ce_loss: 0.0678 - kl_loss: 2.3093e-07\n",
      "Epoch 35/100\n",
      "396/396 [==============================] - 21s 52ms/step - total_loss: 0.0673 - ce_loss: 0.0673 - kl_loss: 2.2141e-07\n",
      "Epoch 36/100\n",
      "396/396 [==============================] - 20s 51ms/step - total_loss: 0.0677 - ce_loss: 0.0677 - kl_loss: 1.9379e-07\n",
      "Epoch 37/100\n",
      "396/396 [==============================] - 20s 51ms/step - total_loss: 0.0676 - ce_loss: 0.0676 - kl_loss: 2.9863e-07\n",
      "Epoch 38/100\n",
      "396/396 [==============================] - 21s 52ms/step - total_loss: 0.0675 - ce_loss: 0.0675 - kl_loss: 3.1006e-07\n",
      "Epoch 39/100\n",
      "396/396 [==============================] - 21s 53ms/step - total_loss: 0.0675 - ce_loss: 0.0675 - kl_loss: 1.7272e-07\n",
      "Epoch 40/100\n",
      "396/396 [==============================] - 21s 52ms/step - total_loss: 0.0677 - ce_loss: 0.0677 - kl_loss: 2.9584e-07\n",
      "Epoch 41/100\n",
      "396/396 [==============================] - 21s 54ms/step - total_loss: 0.0676 - ce_loss: 0.0676 - kl_loss: 3.3712e-07\n",
      "Epoch 42/100\n",
      "396/396 [==============================] - 21s 54ms/step - total_loss: 0.0678 - ce_loss: 0.0678 - kl_loss: 2.9938e-07\n",
      "Epoch 43/100\n",
      "396/396 [==============================] - 21s 52ms/step - total_loss: 0.0677 - ce_loss: 0.0676 - kl_loss: 3.2222e-07\n",
      "Epoch 44/100\n",
      "396/396 [==============================] - 21s 53ms/step - total_loss: 0.0672 - ce_loss: 0.0672 - kl_loss: 5.2195e-07\n",
      "Epoch 45/100\n",
      "396/396 [==============================] - 20s 52ms/step - total_loss: 0.0679 - ce_loss: 0.0679 - kl_loss: 4.2386e-07\n",
      "Epoch 46/100\n",
      "396/396 [==============================] - 20s 52ms/step - total_loss: 0.0675 - ce_loss: 0.0675 - kl_loss: 2.2976e-07\n",
      "Epoch 47/100\n",
      "396/396 [==============================] - 20s 52ms/step - total_loss: 0.0675 - ce_loss: 0.0675 - kl_loss: 2.0519e-07\n",
      "Epoch 48/100\n",
      "396/396 [==============================] - 20s 51ms/step - total_loss: 0.0672 - ce_loss: 0.0672 - kl_loss: 1.8965e-07\n",
      "Epoch 49/100\n",
      "396/396 [==============================] - 20s 52ms/step - total_loss: 0.0676 - ce_loss: 0.0676 - kl_loss: 1.7419e-07\n",
      "Epoch 50/100\n",
      "396/396 [==============================] - 21s 52ms/step - total_loss: 0.0675 - ce_loss: 0.0675 - kl_loss: 1.0758e-07\n",
      "Epoch 51/100\n",
      "396/396 [==============================] - 20s 51ms/step - total_loss: 0.0675 - ce_loss: 0.0675 - kl_loss: 3.0555e-07\n",
      "Epoch 52/100\n",
      "396/396 [==============================] - 21s 52ms/step - total_loss: 0.0674 - ce_loss: 0.0674 - kl_loss: 1.4578e-07\n",
      "Epoch 53/100\n",
      "396/396 [==============================] - 20s 52ms/step - total_loss: 0.0674 - ce_loss: 0.0674 - kl_loss: 3.0333e-07\n",
      "Epoch 54/100\n",
      "396/396 [==============================] - 20s 51ms/step - total_loss: 0.0675 - ce_loss: 0.0675 - kl_loss: 3.3573e-07\n",
      "Epoch 55/100\n",
      "396/396 [==============================] - 21s 52ms/step - total_loss: 0.0674 - ce_loss: 0.0674 - kl_loss: 2.8301e-07\n",
      "Epoch 56/100\n",
      "396/396 [==============================] - 21s 54ms/step - total_loss: 0.0677 - ce_loss: 0.0677 - kl_loss: 2.3582e-07\n",
      "Epoch 57/100\n",
      "396/396 [==============================] - 21s 53ms/step - total_loss: 0.0674 - ce_loss: 0.0674 - kl_loss: 2.1599e-07\n",
      "Epoch 58/100\n",
      "396/396 [==============================] - 21s 53ms/step - total_loss: 0.0675 - ce_loss: 0.0675 - kl_loss: 1.1955e-07\n",
      "Epoch 59/100\n",
      "396/396 [==============================] - 20s 52ms/step - total_loss: 0.0675 - ce_loss: 0.0675 - kl_loss: 1.4032e-07\n",
      "Epoch 60/100\n",
      "396/396 [==============================] - 21s 52ms/step - total_loss: 0.0675 - ce_loss: 0.0675 - kl_loss: 1.8649e-07\n",
      "Epoch 61/100\n",
      "396/396 [==============================] - 21s 52ms/step - total_loss: 0.0673 - ce_loss: 0.0673 - kl_loss: 2.7537e-07\n",
      "Epoch 62/100\n",
      "396/396 [==============================] - 20s 51ms/step - total_loss: 0.0673 - ce_loss: 0.0673 - kl_loss: 3.4626e-07\n",
      "Epoch 63/100\n",
      "396/396 [==============================] - 20s 51ms/step - total_loss: 0.0677 - ce_loss: 0.0677 - kl_loss: 5.3102e-07\n",
      "Epoch 64/100\n",
      "396/396 [==============================] - 20s 52ms/step - total_loss: 0.0674 - ce_loss: 0.0674 - kl_loss: 2.7022e-07\n",
      "Epoch 65/100\n",
      "396/396 [==============================] - 20s 52ms/step - total_loss: 0.0676 - ce_loss: 0.0676 - kl_loss: 1.5146e-07\n",
      "Epoch 66/100\n",
      "396/396 [==============================] - 20s 52ms/step - total_loss: 0.0675 - ce_loss: 0.0675 - kl_loss: 1.1469e-07\n",
      "Epoch 67/100\n",
      "396/396 [==============================] - 20s 52ms/step - total_loss: 0.0673 - ce_loss: 0.0673 - kl_loss: 1.5718e-07\n",
      "Epoch 68/100\n",
      "396/396 [==============================] - 20s 52ms/step - total_loss: 0.0674 - ce_loss: 0.0674 - kl_loss: 7.9962e-08\n",
      "Epoch 69/100\n",
      "396/396 [==============================] - 20s 52ms/step - total_loss: 0.0674 - ce_loss: 0.0674 - kl_loss: 2.9358e-07\n",
      "Epoch 70/100\n",
      "396/396 [==============================] - 21s 52ms/step - total_loss: 0.0674 - ce_loss: 0.0674 - kl_loss: 1.9940e-07\n",
      "Epoch 71/100\n",
      "396/396 [==============================] - 20s 52ms/step - total_loss: 0.0675 - ce_loss: 0.0675 - kl_loss: 1.6308e-07\n",
      "Epoch 72/100\n",
      "396/396 [==============================] - 20s 51ms/step - total_loss: 0.0675 - ce_loss: 0.0675 - kl_loss: 1.5323e-07\n",
      "Epoch 73/100\n",
      "396/396 [==============================] - 21s 52ms/step - total_loss: 0.0674 - ce_loss: 0.0674 - kl_loss: 2.2860e-07\n",
      "Epoch 74/100\n",
      "396/396 [==============================] - 20s 51ms/step - total_loss: 0.0677 - ce_loss: 0.0677 - kl_loss: 2.7010e-07\n",
      "Epoch 75/100\n",
      "396/396 [==============================] - 21s 52ms/step - total_loss: 0.0674 - ce_loss: 0.0674 - kl_loss: 2.5038e-07\n",
      "Epoch 76/100\n",
      "396/396 [==============================] - 21s 52ms/step - total_loss: 0.0675 - ce_loss: 0.0675 - kl_loss: 1.7400e-07\n",
      "Epoch 77/100\n",
      "396/396 [==============================] - 20s 52ms/step - total_loss: 0.0672 - ce_loss: 0.0672 - kl_loss: 1.3106e-07\n",
      "Epoch 78/100\n",
      "396/396 [==============================] - 20s 52ms/step - total_loss: 0.0674 - ce_loss: 0.0674 - kl_loss: 1.8585e-07\n",
      "Epoch 79/100\n",
      "396/396 [==============================] - 20s 52ms/step - total_loss: 0.0674 - ce_loss: 0.0674 - kl_loss: 3.3975e-07\n",
      "Epoch 80/100\n",
      "396/396 [==============================] - 20s 52ms/step - total_loss: 0.0672 - ce_loss: 0.0672 - kl_loss: 8.4628e-08\n",
      "Epoch 81/100\n",
      "396/396 [==============================] - 20s 52ms/step - total_loss: 0.0671 - ce_loss: 0.0671 - kl_loss: 2.0530e-07\n",
      "Epoch 82/100\n",
      "396/396 [==============================] - 20s 52ms/step - total_loss: 0.0672 - ce_loss: 0.0672 - kl_loss: 2.3887e-07\n",
      "Epoch 83/100\n",
      "396/396 [==============================] - 21s 52ms/step - total_loss: 0.0674 - ce_loss: 0.0674 - kl_loss: 1.6226e-07\n",
      "Epoch 84/100\n",
      "396/396 [==============================] - 21s 52ms/step - total_loss: 0.0673 - ce_loss: 0.0673 - kl_loss: 2.3684e-07\n",
      "Epoch 85/100\n",
      "396/396 [==============================] - 21s 52ms/step - total_loss: 0.0673 - ce_loss: 0.0673 - kl_loss: 2.6766e-07\n",
      "Epoch 86/100\n",
      "396/396 [==============================] - 20s 51ms/step - total_loss: 0.0674 - ce_loss: 0.0674 - kl_loss: 3.7497e-07\n",
      "Epoch 87/100\n",
      "396/396 [==============================] - 21s 52ms/step - total_loss: 0.0672 - ce_loss: 0.0672 - kl_loss: 1.7505e-07\n",
      "Epoch 88/100\n",
      "396/396 [==============================] - 21s 52ms/step - total_loss: 0.0676 - ce_loss: 0.0676 - kl_loss: 3.2918e-07\n",
      "Epoch 89/100\n",
      "396/396 [==============================] - 20s 52ms/step - total_loss: 0.0674 - ce_loss: 0.0674 - kl_loss: 2.4865e-07\n",
      "Epoch 90/100\n",
      "396/396 [==============================] - 21s 52ms/step - total_loss: 0.0674 - ce_loss: 0.0674 - kl_loss: 1.4796e-07\n",
      "Epoch 91/100\n",
      "396/396 [==============================] - 20s 52ms/step - total_loss: 0.0676 - ce_loss: 0.0676 - kl_loss: 1.3874e-07\n",
      "Epoch 92/100\n",
      "396/396 [==============================] - 20s 52ms/step - total_loss: 0.0674 - ce_loss: 0.0674 - kl_loss: 1.2500e-07\n",
      "Epoch 93/100\n",
      "396/396 [==============================] - 20s 52ms/step - total_loss: 0.0673 - ce_loss: 0.0673 - kl_loss: 1.5067e-07\n",
      "Epoch 94/100\n",
      "396/396 [==============================] - 20s 52ms/step - total_loss: 0.0673 - ce_loss: 0.0673 - kl_loss: 1.1390e-07\n",
      "Epoch 95/100\n",
      "396/396 [==============================] - 20s 52ms/step - total_loss: 0.0675 - ce_loss: 0.0675 - kl_loss: 1.5868e-07\n",
      "Epoch 96/100\n",
      "396/396 [==============================] - 20s 52ms/step - total_loss: 0.0674 - ce_loss: 0.0674 - kl_loss: 3.9213e-07\n",
      "Epoch 97/100\n",
      "396/396 [==============================] - 21s 52ms/step - total_loss: 0.0670 - ce_loss: 0.0670 - kl_loss: 2.8357e-07\n",
      "Epoch 98/100\n",
      "396/396 [==============================] - 20s 52ms/step - total_loss: 0.0671 - ce_loss: 0.0671 - kl_loss: 3.7144e-07\n",
      "Epoch 99/100\n",
      "396/396 [==============================] - 21s 52ms/step - total_loss: 0.0674 - ce_loss: 0.0674 - kl_loss: 3.0732e-07\n",
      "Epoch 100/100\n",
      "396/396 [==============================] - 21s 52ms/step - total_loss: 0.0673 - ce_loss: 0.0673 - kl_loss: 1.4566e-07\n"
     ]
    }
   ],
   "source": [
    "vae = VAE(encoder, decoder)\n",
    "vae.compile(optimizer=keras.optimizers.Adam(learning_rate=0.001))\n",
    "history = vae.fit(xTrain, epochs=100, batch_size=1)"
   ]
  },
  {
   "cell_type": "code",
   "execution_count": 55,
   "metadata": {},
   "outputs": [
    {
     "data": {
      "image/png": "[encoded data removed]",
      "text/plain": [
       "<Figure size 800x400 with 1 Axes>"
      ]
     },
     "metadata": {},
     "output_type": "display_data"
    }
   ],
   "source": [
    "plt.figure(figsize=(8, 4))\n",
    "plt.plot(history.history.get('total_loss'), label=\"total loss\")\n",
    "plt.plot(history.history.get('ce_loss'), label=\"reconstruction loss\")\n",
    "#plt.plot(history.history.get('kl_loss'), label=\"KL loss\")\n",
    "plt.legend();"
   ]
  },
  {
   "cell_type": "code",
   "execution_count": 56,
   "metadata": {},
   "outputs": [
    {
     "data": {
      "image/png": "[encoded data removed]",
      "text/plain": [
       "<Figure size 800x400 with 1 Axes>"
      ]
     },
     "metadata": {},
     "output_type": "display_data"
    }
   ],
   "source": [
    "plt.figure(figsize=(8, 4))\n",
    "plt.plot(history.history.get('kl_loss'), label=\"KL loss\")\n",
    "plt.legend();"
   ]
  },
  {
   "cell_type": "code",
   "execution_count": 57,
   "metadata": {},
   "outputs": [],
   "source": [
    "idx = 14\n",
    "inputPredict = xTest[idx]\n",
    "inputPredict = inputPredict.reshape(1, maxContent)"
   ]
  },
  {
   "cell_type": "code",
   "execution_count": 58,
   "metadata": {},
   "outputs": [
    {
     "name": "stdout",
     "output_type": "stream",
     "text": [
      "1/1 [==============================] - 0s 184ms/step\n"
     ]
    }
   ],
   "source": [
    "z = vae.encoder.predict([inputPredict])[2]"
   ]
  },
  {
   "cell_type": "code",
   "execution_count": 59,
   "metadata": {},
   "outputs": [],
   "source": [
    "#z = np.random.normal(loc=0, scale=4, size=(1,2))"
   ]
  },
  {
   "cell_type": "code",
   "execution_count": 60,
   "metadata": {},
   "outputs": [
    {
     "data": {
      "text/plain": [
       "array([[-0.40782154, -0.30036682]], dtype=float32)"
      ]
     },
     "execution_count": 60,
     "metadata": {},
     "output_type": "execute_result"
    }
   ],
   "source": [
    "z"
   ]
  },
  {
   "cell_type": "code",
   "execution_count": 61,
   "metadata": {},
   "outputs": [
    {
     "name": "stdout",
     "output_type": "stream",
     "text": [
      "1/1 [==============================] - 0s 150ms/step\n"
     ]
    }
   ],
   "source": [
    "teste = vae.decoder.predict(z)"
   ]
  },
  {
   "cell_type": "code",
   "execution_count": 62,
   "metadata": {},
   "outputs": [],
   "source": [
    "teste = teste.reshape(maxContent)"
   ]
  },
  {
   "cell_type": "code",
   "execution_count": 63,
   "metadata": {},
   "outputs": [
    {
     "data": {
      "text/plain": [
       "array([8.6281360e+02, 1.0473895e+03, 1.4501273e+03, ..., 4.4155708e-01,\n",
       "       3.0269353e+00, 4.7011991e+00], dtype=float32)"
      ]
     },
     "execution_count": 63,
     "metadata": {},
     "output_type": "execute_result"
    }
   ],
   "source": [
    "teste*vocab"
   ]
  },
  {
   "cell_type": "code",
   "execution_count": 64,
   "metadata": {},
   "outputs": [],
   "source": [
    "prediction = (teste*vocab).tolist()\n",
    "for x in range(maxContent):\n",
    "    prediction[x] = round(prediction[x])\n",
    "\n",
    "predictionsText = tokenizer.sequences_to_texts([prediction])"
   ]
  },
  {
   "cell_type": "code",
   "execution_count": 65,
   "metadata": {},
   "outputs": [],
   "source": [
    "content = xTest[idx].reshape(maxContent)\n",
    "content = (content*vocab).tolist()\n",
    "\n",
    "for x in range(maxContent):\n",
    "    content[x] = round(content[x])\n",
    "\n",
    "content = tokenizer.sequences_to_texts([content])"
   ]
  },
  {
   "cell_type": "code",
   "execution_count": 66,
   "metadata": {},
   "outputs": [
    {
     "data": {
      "text/plain": [
       "['na tarde desta sexta feira o técnico do fortaleza marcelo chamusca confirmou que o náutico demonstrou interesse em sua contratação no entanto o treinador disse que tudo não passou de uma sondagem e que não tina interesse em deixar o leão do pici estou muito bem no fortaleza não quero sair vou continuar no clube porque meu foco é subir o time para a série b no tricolor chamusca foi vice campeão estadual e colocou o time na liderança do grupo a da série c do campeonato brasileiro ao todo o técnico comandou a equipe em 32 partidas conquistando 21 vitórias nove empates e sofrendo duas derrotas o próximo desafio de chamusca à frente do fortaleza ocorre nesta segunda feira 12 diante do águia de marabá no estádio presidente vargas às 21h30m chamusca realizou um treino de posicionamento na tarde de sexta feira no pici e repetiu a equipe titular que venceu o cuiabá na última rodada com ricardo tiago cametá eduardo luiz max oliveira e radar guto walfrido marcelinho paraíba e edinho robert e romarinho entretanto o treinador realizou duas mudanças na equipe fernandinho entrou no lugar de radar na lateral esquerda e davidson que pode estrear pelo fortaleza no lugar de romarinho eu venho repetindo a mesma formação dos treinos anteriores mas trabalhei com alternância em duas posições o romário e o davidson e trabalhei com radar e fernando que são minhas duas dúvidas romário entrou muito bem no jogo mas estou gostando do davidson nos treinamentos já o radar vem jogando está com ritmo de jogo e o fernando está voltando até domingo a gente vai decidir isso completou chamusca']"
      ]
     },
     "execution_count": 66,
     "metadata": {},
     "output_type": "execute_result"
    }
   ],
   "source": [
    "content"
   ]
  },
  {
   "cell_type": "code",
   "execution_count": 67,
   "metadata": {},
   "outputs": [
    {
     "data": {
      "text/plain": [
       "['quanto evitar canadense marketing fico fico fico fico fico fico fico fico fico fico fico fico fico fico fico fico fico fico fico fico fico héverton ginásio remo remo martins perigo italiana fico fico fico fico fico fico fico fico fico fico fico fico fico fico fico fico fico fico fico fico fico fico fico fico fico fico fico fico fico fico fico fico fico fico fico fico fico fico fico fico fico fico fico fico fico fico fico fico fico fico fico fico fico fico fico fico fico fico fico fico fico fico fico fico fico fico fico fico fico fico fico fico fico fico fico fico fico fico fico fico fico fico fico fico fico fico fico fico fico fico fico fico fico fico fico fico fico fico fico fico fico fico fico fico fico fico fico fico fico fico fico fico fico fico fico fico fico fico fico fico fico fico fico fico fico fico fico fico fico fico fico neto punição processos revelou recebido hamilton oficiais fico fico fico fico fico fico fico fico fico fico fico fico fico fico fico fico fico fico fico fico fico fico fico fico fico fico fico fico fico fico fico fico fico fico fico fico fico fico fico fico fico fico fico fico fico fico fico fico fico fico fico fico fico fico fico fico fico fico fico simples informação década passando estrutura comentou revelou fala nico palavras vejo goleada jornalista donos jogou esperava única 1º alberto mosca breve parar cedo grupos 47 tinham fico fiscal figurinhas bater octógono 36 pessoa fizeram vence la unânime duro mosca mata controle erros venda bons teste bater weidman cedo única apareceu precisamos resposta parar apareceu pronto apareceu mata vale assunto la caras superliga embora 33 colocou jiu fosse walter gosto la mogi estratégia virada nbb competições figurinhas desse qualidade show suficiente academia contratação triunfo vinha olímpica buscar petrobras devem medidas fernando costas única deveria dor deverá pagar desse participou show nbb mostra comitê pequena superior consumidor recorde game comitê continuar comitê favor pesquisa ferrari outubro esquiva livre apoio alves esperar 36 sport horário pré plano academia esquiva beira almeida intervalo juiz game petrobras obra léo city pesquisa bc demanda estadual santa numa união empresário investimento academia 70 canadá geral passa sochi ninguém estavam 35 morte basquete pior morte sport sport social olímpicos gaúcho inglês chegada abaixo nesse jogada anunciou atrás campanha viu acontecer acertou austrália divulgou sim mal contou conquista preciso conquista rápido espera processo colocar ritmo bayern craque colocar chave marca vivo participação 29 existe estavam intervalo mg único alto coletiva dinheiro olímpicos tive sistema empresa nesse cbf quartas chave ouro classificação confusão ultimate tentou classificação podemos craque austrália portuguesa atualmente amigos explicou marca federal esquerdo unidos vivo grêmio explicou receber olímpico terceira tentar caminho dinheiro região quadra contou craque posso direita grêmio últimas programa recuperação conquistou horas títulos explicou entrou senna informações estado claro perder ranking vitórias dessa ranking parece federal portuguesa cinturão argentina prova sete vice tiveram abril horas principais tentar olímpico coisas exemplo taxa torcedor nunca sei filho roberto lutas 2010 16 lutar round 18 lutador nosso empate grêmio base pois 2011 unidos pois 25 total informações marcelo confronto 26 outras sei anderson nocaute confronto manhã mim lista 25 round entrou respeito 23 muita perdeu 16 vitórias maio 2010 dezembro dizer unidos ministro vice 24 boas sair 50 dupla rede quer prova federal programa taxa pelas nível público cabeça árbitro importante empate carlos nome unidos 13 19 público volante 22 diego 16 2012 falar justiça neymar justiça ficar nosso categoria clubes flamengo vencer ataque liga eua placar economia queda nosso maria confronto 24 baixo últimos muitas noite 18 etapa internacional forte feito todas cabeça muita rede atual toda venceu março terça anderson situação sportv leve 13 defesa nosso josé set série teria importante têm estreia arena entanto vida situação forma barcelona bastante taxa energia globo número entanto 25 cabeça 30 têm suas alta seja treinador outras direito pelos sido seria mostrou lugar série deve coisa faz atual 10 perdeu faz difícil forma banco nacional globoesporte entrevista ataque mês combate globoesporte este costa combate começou estamos bastante estreia treino período forma vezes suas ministro partir corinthians torcida lá faz fevereiro categoria economia cinco estar direito logo categoria 15 atlético forte ficar galo apesar local você dentro vezes dele torcedores nacional estar categoria algumas estamos silva começou venceu 15 local quase história vida lesão combate dar atleta porém apesar disso dentro alta enquanto menos principal diz banco 10 preços neymar forte nós deste governo conseguiu vídeo etapa junho deste porém dele brasileiros torcida entrevista torcedores período início torcida cinco flamengo fase dentro todas terá crescimento nem etapa todas americano dentro diz estar us área passou deste categoria local arena acho pessoas direito alguns barcelona duelo começou semana enquanto alguns início silva último bom economia eles sábado área todo us alguns boa diz 6 durante você tenho 8 quatro mil pouco diz seus início agora estão dias lugar 10 todo era fim estão cinco 30 forma principal minha vitória ficou estão atlético entrevista deste nacional passou atleta terça passado 11 bilhões vezes último categoria afirmou ficou apenas brasileira casa quatro fora tudo bola decisão atacante quase decisão forte todo período sempre março conta principal acordo 10 boa duelo frente estádio pouco vez casa bola vou fase acordo atacante atacante ou melhor jogos será fim só durante pontos vitória afirmou mil fora agora segunda grupo 2014 afirmou apenas além 2013 estava quem primeiro equipe dia depois meio desde lado fazer pode será minutos segunda mil presidente brasileira mundial lado desde ela caso segunda estão há antes aqui última torcedores rio neste será diz afirmou principal resultado tenho lado seleção casa mundo duas jogador 5 bola maior antes sexta me mil duas pouco me afirmou disse brasileira teve assim mil quem mil aqui grupo fim fez só futebol segunda desde meio país dia minutos mesmo pontos melhor campeonato bola teve time segundo nos jogo r fazer 2 dia quando anos mesmo anos jogador clube fim grande segunda time luta atacante minutos grupo r luta entre 2014 fez futebol técnico vai segunda ter melhor após r depois nas paulo r foram partida segunda campeonato nas dois fazer 3 atacante fazer bem 3 nesta 0 entre mesmo sobre atacante ex estava gol r estava entre sem já seu pela só todos bola pode jogo sem dois será minutos bem vez – grande seu luta 2014 quatro caso há fez – anos mesmo – 2013 bola meio melhor feira tempo 2 fazer me clube duas três jogadores teve gol r teve segunda jogos ou 2 brasileiro ainda dia nos desde final bilhões 3 duas 2 foram são estava grande pontos mundial ex r mil fazer ufc seleção me brasileiro ufc mundo seu equipe tempo tudo parte chegou 6 vitória quando são x das futebol será fez jogador ter são nas disse vez foram bem seleção ufc campeonato seleção seleção dia três seu futebol nesta partida ter tempo ter gol 4 grupo quatro fez agora campeonato nesta jogadores aos vitória quando vai dia à 0 nos já entre após ser entre pelo x jogo campeonato final assim entre nas tempo equipe x isso as até dos brasil até feira brasileiro mundo será vai primeira time vez mundo isso sua nos são jogo jogo tempo peso campeonato das paulo 1 primeiro jogador técnico 5 pontos brasil paulo muito brasileiro as jogo ser mundo tempo primeiro brasil paulo jogador jogo às também ter das fez 3 me fazer clube luta jogos equipe fez mundo fazer primeiro estava mesmo time após time à segundo ainda ano dos brasileiro já campeonato isso campeão estava meio final segundo clube – 0 primeira r mundial vai 0 contra mas peso contra será primeira primeira copa paulo jogo ano aos feira x – depois quando quando 2 brasil brasileiro entre jogo após até primeiro sua mundo mas sua das após vitória nesta 0 brasil disse jogo há time será quando após sobre equipe campeonato ufc ou foram seleção jogador estava fez meio três mundial sem após peso eu anos quando tudo fez sobre feira brasil aos seu sobre das anos ser seleção paulo jogos peso mundo os 1 na 2 já anos quando pelo time como depois está pontos jogo caso era futebol 3 1 muito ainda também está são mundo ainda copa foi aos eu brasil sua mais aos mas também 1 à das equipe peso vez sobre futebol seu anos ter tem pela nos ser à muito foi os as sua depois todos copa fazer peso copa brasil contra ser por nos pela segundo primeiro mas contra um são como 5 contra dois anos segundo seleção disse brasileiro grande anos brasil mais ele com as das ano disse como anos das até disse contra está pelo ainda pela até 2 brasil brasil anos tem 1 contra pelo peso mais das não das ainda quando à pela copa feira isso isso nos pelo jogo 1 mundo após 2 ano mundo aos x ano foi até por nos 1 ele feira os na um do os no contra se x é das foi ele está nos também dos na foi no das por mundo mais após com se do é com ser pela ao como os ainda ao isso dos das os ele 1 mundo clube está também as mais uma está mais copa uma em para no com anos ao com não na por mundo ainda ele não também uma ser por ele na ainda com já os ainda das eu ano uma como é ele tem já mas por foi na dos não eu ao também como uma pela para 1 não está foi aos uma copa dos nos eu na da em com em mais no foi é dos se com foi que uma no para da se um ser com os por é eu como os na com da em um para uma se por ainda foi as por na os um em é na na se que que a do e os um não não como mas como que foi do como por nos no se que na na para para que eu não está para é em foi para com em e não na ser não mas do é em mais para em do para para ser as para da em do um não mais ele da a o de o em – por os e e o do no não ser um não que com e na a com e é do ele no tem é se o que contra são ele do e de e do ele no os em que com um uma eu que a a a a pelo feira no no de a o que de do o e a uma até se que que em que isso já na e de o o a a uma de e a e com da a a a de e o e o da do que no da e um de com e foi na ao da em da de do o que e 1 na e de de e da copa mais do e de o a não não já do que a que para aos para em que não para aos um mais da um não que um a mais um nos mais para em e com que foi a do de e com que na de em do a para de os da feira e a e a o eu a do a em um das ainda 1 feira uma da do a a de a de o a no e é para para na e do que e por é dos da que que em da por para e em de no do em de do a a é em pela em dos um como eu ao uma que em de do de e o a o que que pela que do a a do é ao para tem os muito para da do que na não dos que do de a o a a de e do do na na não que do de de o que do se que no a do o os em até da em o de e a para do na no mas mas pela uma na da do e que de que e do que do a e de em e por foi por nos é da com e um não ele para uma para uma também e de do o por que dos em e no a em para em os não é das não que do em de não que a a e do por os do uma do na que da em com dos por para de que de e não a na em ao ser ainda os os não ser a de o o e e 1 do com da uma mais do de a de de segundo do do a do a em o o o de uma a com e para de de o a a copa o o e uma o de o a do copa o o o o um do do de e de em a a o o o de os que de o o o e aos em para para no feira no e e a o da para não ano o o de o de o se com são o o o o os do de a a de do a do']"
      ]
     },
     "execution_count": 67,
     "metadata": {},
     "output_type": "execute_result"
    }
   ],
   "source": [
    "predictionsText"
   ]
  }
 ],
 "metadata": {
  "kernelspec": {
   "display_name": "Python 3",
   "language": "python",
   "name": "python3"
  },
  "language_info": {
   "codemirror_mode": {
    "name": "ipython",
    "version": 3
   },
   "file_extension": ".py",
   "mimetype": "text/x-python",
   "name": "python",
   "nbconvert_exporter": "python",
   "pygments_lexer": "ipython3",
   "version": "3.11.7"
  }
 },
 "nbformat": 4,
 "nbformat_minor": 2
}
