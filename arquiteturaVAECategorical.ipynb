{
 "cells": [
  {
   "cell_type": "code",
   "execution_count": 181,
   "metadata": {},
   "outputs": [],
   "source": [
    "import pandas as pd\n",
    "import matplotlib.pyplot as plt \n",
    "import numpy as np\n",
    "import json"
   ]
  },
  {
   "cell_type": "code",
   "execution_count": 182,
   "metadata": {},
   "outputs": [],
   "source": [
    "import tensorflow as tf\n",
    "\n",
    "from tensorflow.keras.layers import Embedding, Dense, Conv1D, MaxPooling1D;\n",
    "from tensorflow.keras.preprocessing.text import Tokenizer\n",
    "from tensorflow.keras.preprocessing.sequence import pad_sequences\n",
    "from tensorflow.keras.models import Sequential\n",
    "from tensorflow.keras.optimizers import Adam\n",
    "from tensorflow import keras\n",
    "from tensorflow.keras import layers"
   ]
  },
  {
   "cell_type": "code",
   "execution_count": 183,
   "metadata": {},
   "outputs": [],
   "source": [
    "with open(\"tokenizerRed.json\", \"r\") as jsonfile:\n",
    "    tokenizer = json.load(jsonfile)\n",
    "\n",
    "tokenizer = tf.keras.preprocessing.text.tokenizer_from_json(tokenizer)"
   ]
  },
  {
   "cell_type": "code",
   "execution_count": 184,
   "metadata": {},
   "outputs": [],
   "source": [
    "with open(\"dados/tituloTratadoRed.csv\", \"r\") as csvfile:\n",
    "    titulos = np.genfromtxt(csvfile, delimiter=\",\")\n",
    "    titulos = titulos.astype(np.int32)"
   ]
  },
  {
   "cell_type": "code",
   "execution_count": 185,
   "metadata": {},
   "outputs": [],
   "source": [
    "with open(\"dados/conteudoTratadoRed.csv\", \"r\") as csvfile:\n",
    "    conteudos = np.genfromtxt(csvfile, delimiter=\",\")\n",
    "    conteudos = conteudos.astype(np.int32)"
   ]
  },
  {
   "cell_type": "code",
   "execution_count": 186,
   "metadata": {},
   "outputs": [],
   "source": [
    "size = len(conteudos)\n",
    "\n",
    "xTrain = conteudos[0:int(size*0.8)]\n",
    "xTest = conteudos[int(size*0.8):]\n",
    "\n",
    "yTrain = titulos[0:int(size*0.8)]\n",
    "yTest = titulos[int(size*0.8):]"
   ]
  },
  {
   "cell_type": "code",
   "execution_count": 187,
   "metadata": {},
   "outputs": [],
   "source": [
    "vocab = len(tokenizer.word_index)"
   ]
  },
  {
   "cell_type": "code",
   "execution_count": 188,
   "metadata": {},
   "outputs": [
    {
     "data": {
      "text/plain": [
       "7392"
      ]
     },
     "execution_count": 188,
     "metadata": {},
     "output_type": "execute_result"
    }
   ],
   "source": [
    "vocab"
   ]
  },
  {
   "cell_type": "code",
   "execution_count": 189,
   "metadata": {},
   "outputs": [],
   "source": [
    "maxTitle = max(len(tokens) for tokens in titulos)\n",
    "maxContent = max(len(tokens) for tokens in conteudos)"
   ]
  },
  {
   "cell_type": "code",
   "execution_count": 190,
   "metadata": {},
   "outputs": [],
   "source": [
    "class SamplingLayer(layers.Layer):\n",
    "  \"\"\"Reparameterization Trick z = mu + sigma * epsilon\"\"\"\n",
    "\n",
    "  def call(self, inputs):\n",
    "    zMean, zLogVar = inputs\n",
    "    batch = tf.shape(zMean)[0]\n",
    "    dim = tf.shape(zMean)[1]\n",
    "    epsilon = tf.keras.backend.random_normal(shape=(batch, dim))\n",
    "    return zMean + tf.exp(0.5 * zLogVar) * epsilon"
   ]
  },
  {
   "cell_type": "code",
   "execution_count": 191,
   "metadata": {},
   "outputs": [
    {
     "name": "stdout",
     "output_type": "stream",
     "text": [
      "Model: \"encoder\"\n",
      "__________________________________________________________________________________________________\n",
      " Layer (type)                Output Shape                 Param #   Connected to                  \n",
      "==================================================================================================\n",
      " input_17 (InputLayer)       [(None, 2141, 1)]            0         []                            \n",
      "                                                                                                  \n",
      " sequential_16 (Sequential)  (None, 256)                  4903360   ['input_17[0][0]']            \n",
      "                                                                                                  \n",
      " z_mean (Dense)              (None, 2)                    514       ['sequential_16[0][0]']       \n",
      "                                                                                                  \n",
      " z_log_var (Dense)           (None, 2)                    514       ['sequential_16[0][0]']       \n",
      "                                                                                                  \n",
      " sampling_layer_8 (Sampling  (None, 2)                    0         ['z_mean[0][0]',              \n",
      " Layer)                                                              'z_log_var[0][0]']           \n",
      "                                                                                                  \n",
      "==================================================================================================\n",
      "Total params: 4904388 (18.71 MB)\n",
      "Trainable params: 4904388 (18.71 MB)\n",
      "Non-trainable params: 0 (0.00 Byte)\n",
      "__________________________________________________________________________________________________\n"
     ]
    }
   ],
   "source": [
    "def Encoder(latentDim, encoderInputs):\n",
    "    \n",
    "  l1 = keras.models.Sequential([\n",
    "    layers.Embedding(vocab, 128, input_length=maxContent),\n",
    "    layers.Conv1D(128, 3, activation=\"relu\", strides=1, padding=\"same\"),\n",
    "    layers.MaxPooling1D(3),\n",
    "    layers.Conv1D(64, 3, activation=\"relu\", strides=1, padding=\"same\"),\n",
    "    layers.MaxPooling1D(3),\n",
    "    layers.Flatten(),\n",
    "    layers.Dense(256, activation=\"relu\")\n",
    "  ])\n",
    "\n",
    "  x = l1(encoderInputs)\n",
    "\n",
    "  zMean = layers.Dense(latentDim, name=\"z_mean\")(x)\n",
    "  zLogVar = layers.Dense(latentDim, name=\"z_log_var\")(x)\n",
    "\n",
    "  z = SamplingLayer()([zMean, zLogVar])\n",
    "\n",
    "  return keras.Model(encoderInputs, [zMean, zLogVar, z], name=\"encoder\")\n",
    "\n",
    "encoderInputs = keras.Input(shape=(maxContent, 1))\n",
    "encoder = Encoder(2, encoderInputs)\n",
    "encoder.summary()"
   ]
  },
  {
   "cell_type": "code",
   "execution_count": 192,
   "metadata": {},
   "outputs": [
    {
     "name": "stdout",
     "output_type": "stream",
     "text": [
      "Model: \"decoder\"\n",
      "_________________________________________________________________\n",
      " Layer (type)                Output Shape              Param #   \n",
      "=================================================================\n",
      " input_18 (InputLayer)       [(None, 2)]               0         \n",
      "                                                                 \n",
      " sequential_17 (Sequential)  (None, 15, 1)             25390     \n",
      "                                                                 \n",
      "=================================================================\n",
      "Total params: 25390 (99.18 KB)\n",
      "Trainable params: 25390 (99.18 KB)\n",
      "Non-trainable params: 0 (0.00 Byte)\n",
      "_________________________________________________________________\n"
     ]
    }
   ],
   "source": [
    "def Decoder(latentInputs):\n",
    "\n",
    "  l1 = keras.models.Sequential([\n",
    "    layers.Dense(maxTitle, activation=\"relu\", input_shape=(latentInputs.shape[1],)),\n",
    "    layers.Reshape((maxTitle, 1)),\n",
    "    layers.Conv1DTranspose(128, 3, activation=\"relu\", strides=1, padding=\"same\"),\n",
    "    layers.Conv1DTranspose(64, 3, activation=\"relu\", strides=1, padding=\"same\"),\n",
    "    layers.Conv1DTranspose(1, 3, activation=\"sigmoid\", padding=\"same\", input_shape=(None, maxTitle))\n",
    "  ])\n",
    "\n",
    "  return keras.Model(latentInputs, l1(latentInputs), name=\"decoder\")\n",
    "\n",
    "latentInputs = keras.Input(shape=(2,))\n",
    "decoder = Decoder(latentInputs)\n",
    "decoder.summary()"
   ]
  },
  {
   "cell_type": "code",
   "execution_count": 193,
   "metadata": {},
   "outputs": [],
   "source": [
    "def reconstructionLoss(data, reconstructed):\n",
    "  return keras.losses.categorical_crossentropy(data, reconstructed)   "
   ]
  },
  {
   "cell_type": "code",
   "execution_count": 194,
   "metadata": {},
   "outputs": [],
   "source": [
    "def klDivergenceLoss(zMean, zLogVar):\n",
    "  return tf.reduce_mean(\n",
    "        -0.5 * (1 + zLogVar - tf.square(zMean) - tf.exp(zLogVar)),\n",
    "        axis=1\n",
    "  )"
   ]
  },
  {
   "cell_type": "code",
   "execution_count": 195,
   "metadata": {},
   "outputs": [],
   "source": [
    "def calcTotalLoss(data, reconstructed, zMean, zLogVar):\n",
    "  loss1 = reconstructionLoss(data, reconstructed)\n",
    "  loss2 = klDivergenceLoss(zMean, zLogVar)\n",
    "  klWeight = 3.0\n",
    "  return  loss1, loss2, loss1 + klWeight * loss2"
   ]
  },
  {
   "cell_type": "code",
   "execution_count": 196,
   "metadata": {},
   "outputs": [
    {
     "name": "stdout",
     "output_type": "stream",
     "text": [
      "(78, 2141) \n",
      " (78, 15)\n"
     ]
    }
   ],
   "source": [
    "print(xTrain.shape, \"\\n\", yTrain.shape)"
   ]
  },
  {
   "cell_type": "code",
   "execution_count": 197,
   "metadata": {},
   "outputs": [],
   "source": [
    "xTrain = np.expand_dims(xTrain, -1).astype(\"float32\") / vocab\n",
    "yTrain = np.expand_dims(yTrain, -1).astype(\"float32\") / vocab"
   ]
  },
  {
   "cell_type": "code",
   "execution_count": 198,
   "metadata": {},
   "outputs": [
    {
     "data": {
      "text/plain": [
       "(2141,)"
      ]
     },
     "execution_count": 198,
     "metadata": {},
     "output_type": "execute_result"
    }
   ],
   "source": [
    "xTest[0].shape"
   ]
  },
  {
   "cell_type": "code",
   "execution_count": 199,
   "metadata": {},
   "outputs": [],
   "source": [
    "xTestCategorical = []\n",
    "\n",
    "for i in range(len(xTest)):\n",
    "    xTestCategorical.append(tf.keras.utils.to_categorical(xTest[i], num_classes=vocab))\n",
    "\n",
    "xTestCategorical = np.array(xTestCategorical)"
   ]
  },
  {
   "cell_type": "code",
   "execution_count": 200,
   "metadata": {},
   "outputs": [
    {
     "data": {
      "text/plain": [
       "(20, 2141, 7392)"
      ]
     },
     "execution_count": 200,
     "metadata": {},
     "output_type": "execute_result"
    }
   ],
   "source": [
    "xTestCategorical.shape"
   ]
  },
  {
   "cell_type": "code",
   "execution_count": 34,
   "metadata": {},
   "outputs": [],
   "source": [
    "class VAE(keras.Model):\n",
    "  def __init__(self, encoder, decoder, **kwargs):\n",
    "    super(VAE, self).__init__(**kwargs)\n",
    "    self.encoder = encoder\n",
    "    self.decoder = decoder\n",
    "\n",
    "    self.totalLossTracker = keras.metrics.Mean(name=\"total_loss\")\n",
    "    self.ceLossTracker = keras.metrics.Mean(name=\"ce_loss\")\n",
    "    self.klLossTracker = keras.metrics.Mean(name=\"kl_loss\")\n",
    "    \n",
    "  @property\n",
    "  def metrics(self):\n",
    "    return [\n",
    "        self.totalLossTracker,\n",
    "        self.ceLossTracker,\n",
    "        self.klLossTracker\n",
    "    ]\n",
    "\n",
    "  def train_step(self, data):\n",
    "\n",
    "    x, y = data[0]\n",
    "\n",
    "    with tf.GradientTape() as tape:\n",
    "        \n",
    "        zMean, zLogVar, z = self.encoder(x)\n",
    "        reconstruction = self.decoder(z)\n",
    "\n",
    "        ceLoss, klLoss, totalLoss = calcTotalLoss(y, reconstruction, zMean, zLogVar)\n",
    "\n",
    "    grads = tape.gradient(totalLoss, self.trainable_weights)\n",
    "    self.optimizer.apply_gradients(zip(grads, self.trainable_weights))\n",
    "\n",
    "    self.totalLossTracker.update_state(totalLoss)\n",
    "    self.ceLossTracker.update_state(ceLoss)\n",
    "    self.klLossTracker.update_state(klLoss)\n",
    "\n",
    "    return {\n",
    "        \"total_loss\": self.totalLossTracker.result(),\n",
    "        \"ce_loss\": self.ceLossTracker.result(),\n",
    "        \"kl_loss\": self.klLossTracker.result()\n",
    "    }"
   ]
  },
  {
   "cell_type": "code",
   "execution_count": 35,
   "metadata": {},
   "outputs": [],
   "source": [
    "data = [xTrain, yTrain]"
   ]
  },
  {
   "cell_type": "code",
   "execution_count": 36,
   "metadata": {},
   "outputs": [
    {
     "name": "stdout",
     "output_type": "stream",
     "text": [
      "Epoch 1/10\n",
      "396/396 [==============================] - 25s 55ms/step - total_loss: 0.2900 - ce_loss: 0.2880 - kl_loss: 6.4146e-04\n",
      "Epoch 2/10\n",
      "396/396 [==============================] - 22s 54ms/step - total_loss: 0.2586 - ce_loss: 0.2586 - kl_loss: 5.3995e-06\n",
      "Epoch 3/10\n",
      "396/396 [==============================] - 21s 54ms/step - total_loss: 0.2493 - ce_loss: 0.2493 - kl_loss: 6.5374e-06\n",
      "Epoch 4/10\n",
      "396/396 [==============================] - 22s 55ms/step - total_loss: 0.2432 - ce_loss: 0.2432 - kl_loss: 5.1578e-06\n",
      "Epoch 5/10\n",
      "396/396 [==============================] - 22s 55ms/step - total_loss: 0.2404 - ce_loss: 0.2404 - kl_loss: 4.0062e-06\n",
      "Epoch 6/10\n",
      "396/396 [==============================] - 22s 55ms/step - total_loss: 0.2398 - ce_loss: 0.2398 - kl_loss: 1.8973e-06\n",
      "Epoch 7/10\n",
      "396/396 [==============================] - 22s 55ms/step - total_loss: 0.2398 - ce_loss: 0.2398 - kl_loss: 1.4659e-06\n",
      "Epoch 8/10\n",
      "396/396 [==============================] - 22s 55ms/step - total_loss: 0.2395 - ce_loss: 0.2395 - kl_loss: 1.5913e-06\n",
      "Epoch 9/10\n",
      "396/396 [==============================] - 22s 55ms/step - total_loss: 0.2394 - ce_loss: 0.2394 - kl_loss: 1.0178e-06\n",
      "Epoch 10/10\n",
      "396/396 [==============================] - 22s 56ms/step - total_loss: 0.2387 - ce_loss: 0.2387 - kl_loss: 4.0760e-07\n"
     ]
    }
   ],
   "source": [
    "vae = VAE(encoder, decoder)\n",
    "vae.compile(optimizer=keras.optimizers.Adam(learning_rate=0.001))\n",
    "history = vae.fit(data, epochs=10, batch_size=1)"
   ]
  },
  {
   "cell_type": "code",
   "execution_count": 37,
   "metadata": {},
   "outputs": [
    {
     "data": {
      "image/png": "[encoded data removed]",
      "text/plain": [
       "<Figure size 800x400 with 1 Axes>"
      ]
     },
     "metadata": {},
     "output_type": "display_data"
    }
   ],
   "source": [
    "plt.figure(figsize=(8, 4))\n",
    "plt.plot(history.history.get('total_loss'), label=\"total loss\")\n",
    "plt.plot(history.history.get('ce_loss'), label=\"reconstruction loss\")\n",
    "#plt.plot(history.history.get('kl_loss'), label=\"KL loss\")\n",
    "plt.legend();"
   ]
  },
  {
   "cell_type": "code",
   "execution_count": 38,
   "metadata": {},
   "outputs": [
    {
     "data": {
      "image/png": "[encoded data removed]",
      "text/plain": [
       "<Figure size 800x400 with 1 Axes>"
      ]
     },
     "metadata": {},
     "output_type": "display_data"
    }
   ],
   "source": [
    "plt.figure(figsize=(8, 4))\n",
    "plt.plot(history.history.get('kl_loss'), label=\"KL loss\")\n",
    "plt.legend();"
   ]
  },
  {
   "cell_type": "code",
   "execution_count": 86,
   "metadata": {},
   "outputs": [],
   "source": [
    "idx = 12\n",
    "inputPredict = xTest[idx]\n",
    "inputPredict = inputPredict.reshape(1, maxContent)"
   ]
  },
  {
   "cell_type": "code",
   "execution_count": 87,
   "metadata": {},
   "outputs": [
    {
     "name": "stdout",
     "output_type": "stream",
     "text": [
      "1/1 [==============================] - 0s 43ms/step\n"
     ]
    }
   ],
   "source": [
    "z = vae.encoder.predict([inputPredict])[2]"
   ]
  },
  {
   "cell_type": "code",
   "execution_count": 88,
   "metadata": {},
   "outputs": [],
   "source": [
    "z = np.random.normal(loc=0, scale=4, size=(1,2))"
   ]
  },
  {
   "cell_type": "code",
   "execution_count": 89,
   "metadata": {},
   "outputs": [
    {
     "data": {
      "text/plain": [
       "array([[-0.55905514,  1.85130848]])"
      ]
     },
     "execution_count": 89,
     "metadata": {},
     "output_type": "execute_result"
    }
   ],
   "source": [
    "z"
   ]
  },
  {
   "cell_type": "code",
   "execution_count": 90,
   "metadata": {},
   "outputs": [
    {
     "name": "stdout",
     "output_type": "stream",
     "text": [
      "1/1 [==============================] - 0s 40ms/step\n"
     ]
    }
   ],
   "source": [
    "teste = vae.decoder.predict(z)"
   ]
  },
  {
   "cell_type": "code",
   "execution_count": 91,
   "metadata": {},
   "outputs": [],
   "source": [
    "teste = teste.reshape(maxTitle)"
   ]
  },
  {
   "cell_type": "code",
   "execution_count": 92,
   "metadata": {},
   "outputs": [
    {
     "data": {
      "text/plain": [
       "array([2.1964922e+03, 2.7310046e+03, 2.0453079e+03, 2.0159630e+03,\n",
       "       1.9638931e+03, 1.9492404e+03, 1.9565215e+03, 2.0515554e+03,\n",
       "       1.9111146e+03, 1.8694054e+03, 1.6002944e+03, 8.7766876e+02,\n",
       "       2.1293613e+02, 3.9782616e+01, 3.8720627e+00, 1.6666834e-01,\n",
       "       2.6004527e-02, 1.7093260e+00], dtype=float32)"
      ]
     },
     "execution_count": 92,
     "metadata": {},
     "output_type": "execute_result"
    }
   ],
   "source": [
    "teste*vocab"
   ]
  },
  {
   "cell_type": "code",
   "execution_count": 93,
   "metadata": {},
   "outputs": [],
   "source": [
    "prediction = (teste*vocab).tolist()\n",
    "for x in range(maxTitle):\n",
    "    prediction[x] = round(prediction[x])\n",
    "\n",
    "predictionsText = tokenizer.sequences_to_texts([prediction])"
   ]
  },
  {
   "cell_type": "code",
   "execution_count": 94,
   "metadata": {},
   "outputs": [],
   "source": [
    "content = xTest[idx].reshape(maxContent)\n",
    "content = (content*vocab).tolist()\n",
    "\n",
    "for x in range(maxContent):\n",
    "    content[x] = round(content[x])\n",
    "\n",
    "content = tokenizer.sequences_to_texts([content])"
   ]
  },
  {
   "cell_type": "code",
   "execution_count": 95,
   "metadata": {},
   "outputs": [],
   "source": [
    "tittle = yTest[idx].reshape(maxTitle)\n",
    "tittle = (tittle*vocab).tolist()\n",
    "\n",
    "for x in range(maxTitle):\n",
    "    tittle[x] = round(tittle[x])\n",
    "\n",
    "tittle = tokenizer.sequences_to_texts([tittle])"
   ]
  },
  {
   "cell_type": "code",
   "execution_count": 96,
   "metadata": {},
   "outputs": [
    {
     "data": {
      "text/plain": [
       "['junior assunção encara alejandro solano no xfci 5 brasil em junho']"
      ]
     },
     "execution_count": 96,
     "metadata": {},
     "output_type": "execute_result"
    }
   ],
   "source": [
    "tittle"
   ]
  },
  {
   "cell_type": "code",
   "execution_count": 97,
   "metadata": {},
   "outputs": [
    {
     "data": {
      "text/plain": [
       "['o lutador pernambucano junior assunção que é radicado no espírito santo foi confirmado na luta principal do evento xfci 5 brasil marcado para o dia 7 de junho em são paulo a organização norte americana divulgou o card completo e junior que é irmão do lutador do ufc raphael assunção encara o costa riquenho alejandro mandarina solano o duelo acontece na categoria peso pena até 65 7 kg e aparece com status de super luta da noite que tem mais seis combates confirmados e mais dois ainda em fase de definição dos atletas com 32 anos e um cartel de 14 vitórias e cinco derrotas junior assunção já teve duas passagens pelo ufc entre os anos de 2006 e 2007 retornando em 2011 esta também é a segunda passagem do lutador pelo xtreme fighting championships xfc onde lutou em 2010 já alejandro solano 19 9 e 1nc no mma é mais velho e tem 36 anos o lutador de costa rica atuou em eventos brasileiros como jungle fight e shotoo brasil ambos em 2012 o evento xfci 5 brasil também terá as finais dos torneios de várias categorias com destaque para os brasileiros thiago rela e alberto uda que disputam a final do peso médio a final da categoria peso palha feminina com o duelo entre vanessa melo e vanessa guimarães e o confronto brasil x argentina na final do peso meio médio entre o brasileiro will galvão diante do argentino kevin medinilla o show de lutas internacional acontece no dia 7 de junho em são paulo confira o card parcial do evento xfci 5 brasil 7 de junho de 2014 em são paulo sp card do evento peso pena junior assunção bra x alejandro mandarina solano crc super luta main event peso meio médio kevin medinilla arg x will galvão bra final do torneio co main event peso palha feminino vanessa guimarães bra x vanessa melo bra final do torneio peso pena alejandro villalobos crc x felipe douglas bra final do torneio peso leve nathan schulte bra x glaucio eliziario bra final do torneio peso médio alberto uda bra x thiago rela bra final do torneio peso mosca feminino mayerlin rivas ven x silvana gomez arg final do torneio para ler mais notícias do globo esporte espírito santo clique em globoesporte globo com es siga também o ge es no twitter e por rss']"
      ]
     },
     "execution_count": 97,
     "metadata": {},
     "output_type": "execute_result"
    }
   ],
   "source": [
    "content"
   ]
  },
  {
   "cell_type": "code",
   "execution_count": 98,
   "metadata": {},
   "outputs": [
    {
     "data": {
      "text/plain": [
       "['encerrou avançar lances parciais filha negativo regras categorias united retirada clima ermírio semana contra e de']"
      ]
     },
     "execution_count": 98,
     "metadata": {},
     "output_type": "execute_result"
    }
   ],
   "source": [
    "predictionsText"
   ]
  }
 ],
 "metadata": {
  "kernelspec": {
   "display_name": "Python 3",
   "language": "python",
   "name": "python3"
  },
  "language_info": {
   "codemirror_mode": {
    "name": "ipython",
    "version": 3
   },
   "file_extension": ".py",
   "mimetype": "text/x-python",
   "name": "python",
   "nbconvert_exporter": "python",
   "pygments_lexer": "ipython3",
   "version": "3.11.7"
  }
 },
 "nbformat": 4,
 "nbformat_minor": 2
}
