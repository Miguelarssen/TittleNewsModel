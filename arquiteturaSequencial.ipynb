{
 "cells": [
  {
   "cell_type": "code",
   "execution_count": 277,
   "metadata": {},
   "outputs": [],
   "source": [
    "import pandas as pd\n",
    "import matplotlib.pyplot as plt \n",
    "import numpy as np\n",
    "import json"
   ]
  },
  {
   "cell_type": "code",
   "execution_count": 278,
   "metadata": {},
   "outputs": [],
   "source": [
    "import tensorflow as tf\n",
    "\n",
    "from tensorflow.keras.layers import Embedding, Dense, Conv1D, GlobalMaxPooling1D\n",
    "from tensorflow.keras.preprocessing.text import Tokenizer\n",
    "from tensorflow.keras.preprocessing.sequence import pad_sequences\n",
    "from tensorflow.keras.models import Sequential\n",
    "from tensorflow.keras.optimizers import Adam\n"
   ]
  },
  {
   "cell_type": "code",
   "execution_count": 279,
   "metadata": {},
   "outputs": [],
   "source": [
    "with open(\"tokenizer.json\", \"r\") as jsonfile:\n",
    "    tokenizer = json.load(jsonfile)\n",
    "\n",
    "tokenizer = tf.keras.preprocessing.text.tokenizer_from_json(tokenizer)"
   ]
  },
  {
   "cell_type": "code",
   "execution_count": 280,
   "metadata": {},
   "outputs": [],
   "source": [
    "with open(\"tituloTratado.csv\", \"r\") as csvfile:\n",
    "    titulos = np.genfromtxt(csvfile, delimiter=\",\")\n",
    "    titulos = titulos.astype(np.int32)"
   ]
  },
  {
   "cell_type": "code",
   "execution_count": 281,
   "metadata": {},
   "outputs": [],
   "source": [
    "with open(\"conteudoTratado.csv\", \"r\") as csvfile:\n",
    "    conteudos = np.genfromtxt(csvfile, delimiter=\",\")\n",
    "    conteudos = conteudos.astype(np.int32)"
   ]
  },
  {
   "cell_type": "code",
   "execution_count": 282,
   "metadata": {},
   "outputs": [],
   "source": [
    "size = len(conteudos)\n",
    "\n",
    "xTrain = conteudos[0:int(size*0.8)]\n",
    "xTest = conteudos[int(size*0.8):]\n",
    "\n",
    "yTrain = titulos[0:int(size*0.8)]\n",
    "yTest = titulos[int(size*0.8):]"
   ]
  },
  {
   "cell_type": "code",
   "execution_count": 283,
   "metadata": {},
   "outputs": [],
   "source": [
    "vocab = len(tokenizer.word_index)"
   ]
  },
  {
   "cell_type": "code",
   "execution_count": 284,
   "metadata": {},
   "outputs": [],
   "source": [
    "maxTitle = max(len(tokens) for tokens in titulos)\n",
    "maxContent = max(len(tokens) for tokens in conteudos)"
   ]
  },
  {
   "cell_type": "code",
   "execution_count": null,
   "metadata": {},
   "outputs": [],
   "source": []
  },
  {
   "cell_type": "code",
   "execution_count": 285,
   "metadata": {},
   "outputs": [],
   "source": [
    "model = Sequential()\n",
    "\n",
    "model.add(Embedding(vocab, 128, input_length = maxContent))\n",
    "model.add(Conv1D(32, 3, activation = 'relu'))\n",
    "model.add(GlobalMaxPooling1D(data_format=\"channels_first\"))\n",
    "model.add(Dense(maxTitle, activation = \"softmax\"))\n"
   ]
  },
  {
   "cell_type": "code",
   "execution_count": 286,
   "metadata": {},
   "outputs": [],
   "source": [
    "model.compile(optimizer=\"adam\", loss = \"categorical_crossentropy\", metrics=[\"accuracy\"])"
   ]
  },
  {
   "cell_type": "code",
   "execution_count": 288,
   "metadata": {},
   "outputs": [
    {
     "name": "stdout",
     "output_type": "stream",
     "text": [
      "Epoch 1/100\n",
      "78/78 [==============================] - 2s 11ms/step - loss: 218278.8750 - accuracy: 0.1154 - val_loss: 1799235.2500 - val_accuracy: 0.0000e+00\n",
      "Epoch 2/100\n",
      "78/78 [==============================] - 1s 10ms/step - loss: 6060115.0000 - accuracy: 0.0897 - val_loss: 29516388.0000 - val_accuracy: 0.0000e+00\n",
      "Epoch 3/100\n",
      "78/78 [==============================] - 1s 10ms/step - loss: 28230948.0000 - accuracy: 0.0897 - val_loss: 108073320.0000 - val_accuracy: 0.0000e+00\n",
      "Epoch 4/100\n",
      "78/78 [==============================] - 1s 10ms/step - loss: 71254656.0000 - accuracy: 0.0897 - val_loss: 232589728.0000 - val_accuracy: 0.0000e+00\n",
      "Epoch 5/100\n",
      "78/78 [==============================] - 1s 10ms/step - loss: 156351616.0000 - accuracy: 0.0897 - val_loss: 470119520.0000 - val_accuracy: 0.0000e+00\n",
      "Epoch 6/100\n",
      "78/78 [==============================] - 1s 10ms/step - loss: 285161632.0000 - accuracy: 0.0897 - val_loss: 869710976.0000 - val_accuracy: 0.0000e+00\n",
      "Epoch 7/100\n",
      "78/78 [==============================] - 1s 11ms/step - loss: 497313632.0000 - accuracy: 0.0897 - val_loss: 1365938048.0000 - val_accuracy: 0.0000e+00\n",
      "Epoch 8/100\n",
      "78/78 [==============================] - 1s 12ms/step - loss: 749286016.0000 - accuracy: 0.0897 - val_loss: 2029163776.0000 - val_accuracy: 0.0000e+00\n",
      "Epoch 9/100\n",
      "78/78 [==============================] - 1s 10ms/step - loss: 1101170048.0000 - accuracy: 0.0897 - val_loss: 2922704128.0000 - val_accuracy: 0.0000e+00\n",
      "Epoch 10/100\n",
      "78/78 [==============================] - 1s 10ms/step - loss: 1535635072.0000 - accuracy: 0.0897 - val_loss: 3981794048.0000 - val_accuracy: 0.0000e+00\n",
      "Epoch 11/100\n",
      "78/78 [==============================] - 1s 10ms/step - loss: 2060734336.0000 - accuracy: 0.0897 - val_loss: 5329628672.0000 - val_accuracy: 0.0000e+00\n",
      "Epoch 12/100\n",
      "78/78 [==============================] - 1s 10ms/step - loss: 2712343552.0000 - accuracy: 0.0897 - val_loss: 6869941760.0000 - val_accuracy: 0.0000e+00\n",
      "Epoch 13/100\n",
      "78/78 [==============================] - 1s 10ms/step - loss: 3346592512.0000 - accuracy: 0.0897 - val_loss: 8421272064.0000 - val_accuracy: 0.0000e+00\n",
      "Epoch 14/100\n",
      "78/78 [==============================] - 1s 10ms/step - loss: 4293083904.0000 - accuracy: 0.0897 - val_loss: 10697365504.0000 - val_accuracy: 0.0000e+00\n",
      "Epoch 15/100\n",
      "78/78 [==============================] - 1s 10ms/step - loss: 5136713216.0000 - accuracy: 0.0897 - val_loss: 12559799296.0000 - val_accuracy: 0.0000e+00\n",
      "Epoch 16/100\n",
      "78/78 [==============================] - 1s 11ms/step - loss: 6296006144.0000 - accuracy: 0.0897 - val_loss: 15586555904.0000 - val_accuracy: 0.0000e+00\n",
      "Epoch 17/100\n",
      "78/78 [==============================] - 1s 11ms/step - loss: 7508511744.0000 - accuracy: 0.0897 - val_loss: 18205116416.0000 - val_accuracy: 0.0000e+00\n",
      "Epoch 18/100\n",
      "78/78 [==============================] - 1s 10ms/step - loss: 8678522880.0000 - accuracy: 0.0897 - val_loss: 21049192448.0000 - val_accuracy: 0.0000e+00\n",
      "Epoch 19/100\n",
      "78/78 [==============================] - 1s 10ms/step - loss: 10013149184.0000 - accuracy: 0.0897 - val_loss: 24577814528.0000 - val_accuracy: 0.0000e+00\n",
      "Epoch 20/100\n",
      "78/78 [==============================] - 1s 10ms/step - loss: 11715841024.0000 - accuracy: 0.0897 - val_loss: 28168509440.0000 - val_accuracy: 0.0000e+00\n",
      "Epoch 21/100\n",
      "78/78 [==============================] - 1s 10ms/step - loss: 13643979776.0000 - accuracy: 0.0897 - val_loss: 32484235264.0000 - val_accuracy: 0.0000e+00\n",
      "Epoch 22/100\n",
      "78/78 [==============================] - 1s 11ms/step - loss: 15337746432.0000 - accuracy: 0.0897 - val_loss: 36500746240.0000 - val_accuracy: 0.0000e+00\n",
      "Epoch 23/100\n",
      "78/78 [==============================] - 1s 10ms/step - loss: 17303818240.0000 - accuracy: 0.0897 - val_loss: 40710946816.0000 - val_accuracy: 0.0000e+00\n",
      "Epoch 24/100\n",
      "78/78 [==============================] - 1s 10ms/step - loss: 19369768960.0000 - accuracy: 0.0897 - val_loss: 45759684608.0000 - val_accuracy: 0.0000e+00\n",
      "Epoch 25/100\n",
      "78/78 [==============================] - 1s 10ms/step - loss: 21518909440.0000 - accuracy: 0.0897 - val_loss: 50973278208.0000 - val_accuracy: 0.0000e+00\n",
      "Epoch 26/100\n",
      "78/78 [==============================] - 1s 11ms/step - loss: 23994320896.0000 - accuracy: 0.0897 - val_loss: 56197013504.0000 - val_accuracy: 0.0000e+00\n",
      "Epoch 27/100\n",
      "78/78 [==============================] - 1s 10ms/step - loss: 26476070912.0000 - accuracy: 0.0897 - val_loss: 62357757952.0000 - val_accuracy: 0.0000e+00\n",
      "Epoch 28/100\n",
      "78/78 [==============================] - 1s 14ms/step - loss: 29392828416.0000 - accuracy: 0.0897 - val_loss: 68567162880.0000 - val_accuracy: 0.0000e+00\n",
      "Epoch 29/100\n",
      "78/78 [==============================] - 1s 15ms/step - loss: 31810203648.0000 - accuracy: 0.0897 - val_loss: 75298267136.0000 - val_accuracy: 0.0000e+00\n",
      "Epoch 30/100\n",
      "78/78 [==============================] - 1s 14ms/step - loss: 34820030464.0000 - accuracy: 0.0897 - val_loss: 82210865152.0000 - val_accuracy: 0.0000e+00\n",
      "Epoch 31/100\n",
      "78/78 [==============================] - 1s 15ms/step - loss: 38158299136.0000 - accuracy: 0.0897 - val_loss: 89777192960.0000 - val_accuracy: 0.0000e+00\n",
      "Epoch 32/100\n",
      "78/78 [==============================] - 1s 14ms/step - loss: 41637126144.0000 - accuracy: 0.0897 - val_loss: 97786331136.0000 - val_accuracy: 0.0000e+00\n",
      "Epoch 33/100\n",
      "78/78 [==============================] - 1s 15ms/step - loss: 45430902784.0000 - accuracy: 0.0897 - val_loss: 105210880000.0000 - val_accuracy: 0.0000e+00\n",
      "Epoch 34/100\n",
      "78/78 [==============================] - 1s 14ms/step - loss: 48801263616.0000 - accuracy: 0.0897 - val_loss: 113760927744.0000 - val_accuracy: 0.0000e+00\n",
      "Epoch 35/100\n",
      "78/78 [==============================] - 1s 13ms/step - loss: 51820851200.0000 - accuracy: 0.0897 - val_loss: 122776698880.0000 - val_accuracy: 0.0000e+00\n",
      "Epoch 36/100\n",
      "78/78 [==============================] - 1s 14ms/step - loss: 56449085440.0000 - accuracy: 0.0897 - val_loss: 131840344064.0000 - val_accuracy: 0.0000e+00\n",
      "Epoch 37/100\n",
      "78/78 [==============================] - 1s 13ms/step - loss: 60555927552.0000 - accuracy: 0.0897 - val_loss: 140729221120.0000 - val_accuracy: 0.0000e+00\n",
      "Epoch 38/100\n",
      "78/78 [==============================] - 1s 13ms/step - loss: 64845983744.0000 - accuracy: 0.0897 - val_loss: 150768222208.0000 - val_accuracy: 0.0000e+00\n",
      "Epoch 39/100\n",
      "78/78 [==============================] - 1s 14ms/step - loss: 69407784960.0000 - accuracy: 0.0897 - val_loss: 161402372096.0000 - val_accuracy: 0.0000e+00\n",
      "Epoch 40/100\n",
      "78/78 [==============================] - 1s 15ms/step - loss: 73839124480.0000 - accuracy: 0.0897 - val_loss: 171665227776.0000 - val_accuracy: 0.0000e+00\n",
      "Epoch 41/100\n",
      "78/78 [==============================] - 1s 13ms/step - loss: 79057412096.0000 - accuracy: 0.0897 - val_loss: 184224595968.0000 - val_accuracy: 0.0000e+00\n",
      "Epoch 42/100\n",
      "78/78 [==============================] - 1s 14ms/step - loss: 83702718464.0000 - accuracy: 0.0897 - val_loss: 194556166144.0000 - val_accuracy: 0.0000e+00\n",
      "Epoch 43/100\n",
      "78/78 [==============================] - 1s 13ms/step - loss: 88984911872.0000 - accuracy: 0.0897 - val_loss: 207093776384.0000 - val_accuracy: 0.0000e+00\n",
      "Epoch 44/100\n",
      "78/78 [==============================] - 1s 14ms/step - loss: 94924955648.0000 - accuracy: 0.0897 - val_loss: 219687976960.0000 - val_accuracy: 0.0000e+00\n",
      "Epoch 45/100\n",
      "78/78 [==============================] - 1s 14ms/step - loss: 99898957824.0000 - accuracy: 0.0897 - val_loss: 231425474560.0000 - val_accuracy: 0.0000e+00\n",
      "Epoch 46/100\n",
      "78/78 [==============================] - 1s 14ms/step - loss: 104845000704.0000 - accuracy: 0.0897 - val_loss: 243398164480.0000 - val_accuracy: 0.0000e+00\n",
      "Epoch 47/100\n",
      "78/78 [==============================] - 1s 15ms/step - loss: 112186974208.0000 - accuracy: 0.0897 - val_loss: 259522428928.0000 - val_accuracy: 0.0000e+00\n",
      "Epoch 48/100\n",
      "78/78 [==============================] - 1s 13ms/step - loss: 117340061696.0000 - accuracy: 0.0897 - val_loss: 272481992704.0000 - val_accuracy: 0.0000e+00\n",
      "Epoch 49/100\n",
      "78/78 [==============================] - 1s 13ms/step - loss: 124383698944.0000 - accuracy: 0.0897 - val_loss: 286438096896.0000 - val_accuracy: 0.0000e+00\n",
      "Epoch 50/100\n",
      "78/78 [==============================] - 1s 13ms/step - loss: 130765357056.0000 - accuracy: 0.0897 - val_loss: 301596475392.0000 - val_accuracy: 0.0000e+00\n",
      "Epoch 51/100\n",
      "78/78 [==============================] - 1s 13ms/step - loss: 136781537280.0000 - accuracy: 0.0897 - val_loss: 316723265536.0000 - val_accuracy: 0.0000e+00\n",
      "Epoch 52/100\n",
      "78/78 [==============================] - 1s 13ms/step - loss: 142852210688.0000 - accuracy: 0.0897 - val_loss: 329714434048.0000 - val_accuracy: 0.0000e+00\n",
      "Epoch 53/100\n",
      "78/78 [==============================] - 1s 14ms/step - loss: 150840967168.0000 - accuracy: 0.0897 - val_loss: 348774334464.0000 - val_accuracy: 0.0000e+00\n",
      "Epoch 54/100\n",
      "78/78 [==============================] - 1s 13ms/step - loss: 158035148800.0000 - accuracy: 0.0897 - val_loss: 364483903488.0000 - val_accuracy: 0.0000e+00\n",
      "Epoch 55/100\n",
      "78/78 [==============================] - 1s 13ms/step - loss: 165784322048.0000 - accuracy: 0.0897 - val_loss: 381136896000.0000 - val_accuracy: 0.0000e+00\n",
      "Epoch 56/100\n",
      "78/78 [==============================] - 1s 14ms/step - loss: 172722290688.0000 - accuracy: 0.0897 - val_loss: 398934999040.0000 - val_accuracy: 0.0000e+00\n",
      "Epoch 57/100\n",
      "78/78 [==============================] - 1s 13ms/step - loss: 179558776832.0000 - accuracy: 0.0897 - val_loss: 415151128576.0000 - val_accuracy: 0.0000e+00\n",
      "Epoch 58/100\n",
      "78/78 [==============================] - 1s 13ms/step - loss: 188432072704.0000 - accuracy: 0.0897 - val_loss: 434850660352.0000 - val_accuracy: 0.0000e+00\n",
      "Epoch 59/100\n",
      "78/78 [==============================] - 1s 14ms/step - loss: 197446074368.0000 - accuracy: 0.0897 - val_loss: 454690963456.0000 - val_accuracy: 0.0000e+00\n",
      "Epoch 60/100\n",
      "78/78 [==============================] - 1s 13ms/step - loss: 205089964032.0000 - accuracy: 0.0897 - val_loss: 473391366144.0000 - val_accuracy: 0.0000e+00\n",
      "Epoch 61/100\n",
      "78/78 [==============================] - 1s 14ms/step - loss: 213438038016.0000 - accuracy: 0.0897 - val_loss: 490530144256.0000 - val_accuracy: 0.0000e+00\n",
      "Epoch 62/100\n",
      "78/78 [==============================] - 1s 13ms/step - loss: 223534678016.0000 - accuracy: 0.0897 - val_loss: 512181141504.0000 - val_accuracy: 0.0000e+00\n",
      "Epoch 63/100\n",
      "78/78 [==============================] - 1s 14ms/step - loss: 231760510976.0000 - accuracy: 0.0897 - val_loss: 533108621312.0000 - val_accuracy: 0.0000e+00\n",
      "Epoch 64/100\n",
      "78/78 [==============================] - 1s 13ms/step - loss: 240866181120.0000 - accuracy: 0.0897 - val_loss: 554130079744.0000 - val_accuracy: 0.0000e+00\n",
      "Epoch 65/100\n",
      "78/78 [==============================] - 1s 14ms/step - loss: 251197243392.0000 - accuracy: 0.0897 - val_loss: 575232671744.0000 - val_accuracy: 0.0000e+00\n",
      "Epoch 66/100\n",
      "78/78 [==============================] - 1s 13ms/step - loss: 259638951936.0000 - accuracy: 0.0897 - val_loss: 597010022400.0000 - val_accuracy: 0.0000e+00\n",
      "Epoch 67/100\n",
      "78/78 [==============================] - 1s 13ms/step - loss: 267319721984.0000 - accuracy: 0.0897 - val_loss: 614121209856.0000 - val_accuracy: 0.0000e+00\n",
      "Epoch 68/100\n",
      "78/78 [==============================] - 1s 13ms/step - loss: 278450962432.0000 - accuracy: 0.0897 - val_loss: 641348796416.0000 - val_accuracy: 0.0000e+00\n",
      "Epoch 69/100\n",
      "78/78 [==============================] - 1s 13ms/step - loss: 289946501120.0000 - accuracy: 0.0897 - val_loss: 664662573056.0000 - val_accuracy: 0.0000e+00\n",
      "Epoch 70/100\n",
      "78/78 [==============================] - 1s 13ms/step - loss: 299221352448.0000 - accuracy: 0.0897 - val_loss: 686364950528.0000 - val_accuracy: 0.0000e+00\n",
      "Epoch 71/100\n",
      "78/78 [==============================] - 1s 15ms/step - loss: 310583132160.0000 - accuracy: 0.0897 - val_loss: 713503342592.0000 - val_accuracy: 0.0000e+00\n",
      "Epoch 72/100\n",
      "78/78 [==============================] - 1s 13ms/step - loss: 321639940096.0000 - accuracy: 0.0897 - val_loss: 739154984960.0000 - val_accuracy: 0.0000e+00\n",
      "Epoch 73/100\n",
      "78/78 [==============================] - 1s 13ms/step - loss: 334388625408.0000 - accuracy: 0.0897 - val_loss: 765334192128.0000 - val_accuracy: 0.0000e+00\n",
      "Epoch 74/100\n",
      "78/78 [==============================] - 1s 13ms/step - loss: 344593399808.0000 - accuracy: 0.0897 - val_loss: 788920926208.0000 - val_accuracy: 0.0000e+00\n",
      "Epoch 75/100\n",
      "78/78 [==============================] - 1s 13ms/step - loss: 355099967488.0000 - accuracy: 0.0897 - val_loss: 814659010560.0000 - val_accuracy: 0.0000e+00\n",
      "Epoch 76/100\n",
      "78/78 [==============================] - 1s 13ms/step - loss: 368137273344.0000 - accuracy: 0.0897 - val_loss: 843210620928.0000 - val_accuracy: 0.0000e+00\n",
      "Epoch 77/100\n",
      "78/78 [==============================] - 1s 14ms/step - loss: 378640105472.0000 - accuracy: 0.0897 - val_loss: 867833872384.0000 - val_accuracy: 0.0000e+00\n",
      "Epoch 78/100\n",
      "78/78 [==============================] - 1s 13ms/step - loss: 391505412096.0000 - accuracy: 0.0897 - val_loss: 897615265792.0000 - val_accuracy: 0.0000e+00\n",
      "Epoch 79/100\n",
      "78/78 [==============================] - 1s 14ms/step - loss: 403278036992.0000 - accuracy: 0.0897 - val_loss: 925288955904.0000 - val_accuracy: 0.0000e+00\n",
      "Epoch 80/100\n",
      "78/78 [==============================] - 1s 13ms/step - loss: 416437862400.0000 - accuracy: 0.0897 - val_loss: 953732300800.0000 - val_accuracy: 0.0000e+00\n",
      "Epoch 81/100\n",
      "78/78 [==============================] - 1s 13ms/step - loss: 428215009280.0000 - accuracy: 0.0897 - val_loss: 981659025408.0000 - val_accuracy: 0.0000e+00\n",
      "Epoch 82/100\n",
      "78/78 [==============================] - 1s 14ms/step - loss: 441264996352.0000 - accuracy: 0.0897 - val_loss: 1011896811520.0000 - val_accuracy: 0.0000e+00\n",
      "Epoch 83/100\n",
      "78/78 [==============================] - 1s 13ms/step - loss: 455339868160.0000 - accuracy: 0.0897 - val_loss: 1042773049344.0000 - val_accuracy: 0.0000e+00\n",
      "Epoch 84/100\n",
      "78/78 [==============================] - 1s 13ms/step - loss: 470110994432.0000 - accuracy: 0.0897 - val_loss: 1074972852224.0000 - val_accuracy: 0.0000e+00\n",
      "Epoch 85/100\n",
      "78/78 [==============================] - 1s 15ms/step - loss: 483316695040.0000 - accuracy: 0.0897 - val_loss: 1106846679040.0000 - val_accuracy: 0.0000e+00\n",
      "Epoch 86/100\n",
      "78/78 [==============================] - 1s 14ms/step - loss: 496863641600.0000 - accuracy: 0.0897 - val_loss: 1136025534464.0000 - val_accuracy: 0.0000e+00\n",
      "Epoch 87/100\n",
      "78/78 [==============================] - 1s 15ms/step - loss: 511114805248.0000 - accuracy: 0.0897 - val_loss: 1168282746880.0000 - val_accuracy: 0.0000e+00\n",
      "Epoch 88/100\n",
      "78/78 [==============================] - 1s 14ms/step - loss: 526703919104.0000 - accuracy: 0.0897 - val_loss: 1201940987904.0000 - val_accuracy: 0.0000e+00\n",
      "Epoch 89/100\n",
      "78/78 [==============================] - 1s 14ms/step - loss: 540557803520.0000 - accuracy: 0.0897 - val_loss: 1237278523392.0000 - val_accuracy: 0.0000e+00\n",
      "Epoch 90/100\n",
      "78/78 [==============================] - 1s 13ms/step - loss: 556541607936.0000 - accuracy: 0.0897 - val_loss: 1270327541760.0000 - val_accuracy: 0.0000e+00\n",
      "Epoch 91/100\n",
      "78/78 [==============================] - 1s 13ms/step - loss: 572281126912.0000 - accuracy: 0.0897 - val_loss: 1305912016896.0000 - val_accuracy: 0.0000e+00\n",
      "Epoch 92/100\n",
      "78/78 [==============================] - 1s 16ms/step - loss: 587143512064.0000 - accuracy: 0.0897 - val_loss: 1341394386944.0000 - val_accuracy: 0.0000e+00\n",
      "Epoch 93/100\n",
      "78/78 [==============================] - 1s 14ms/step - loss: 602228129792.0000 - accuracy: 0.0897 - val_loss: 1376387203072.0000 - val_accuracy: 0.0000e+00\n",
      "Epoch 94/100\n",
      "78/78 [==============================] - 1s 13ms/step - loss: 618218455040.0000 - accuracy: 0.0897 - val_loss: 1412820238336.0000 - val_accuracy: 0.0000e+00\n",
      "Epoch 95/100\n",
      "78/78 [==============================] - 1s 13ms/step - loss: 635122155520.0000 - accuracy: 0.0897 - val_loss: 1448336424960.0000 - val_accuracy: 0.0000e+00\n",
      "Epoch 96/100\n",
      "78/78 [==============================] - 1s 13ms/step - loss: 648405975040.0000 - accuracy: 0.0897 - val_loss: 1484665126912.0000 - val_accuracy: 0.0000e+00\n",
      "Epoch 97/100\n",
      "78/78 [==============================] - 1s 15ms/step - loss: 665432817664.0000 - accuracy: 0.0897 - val_loss: 1525814788096.0000 - val_accuracy: 0.0000e+00\n",
      "Epoch 98/100\n",
      "78/78 [==============================] - 1s 13ms/step - loss: 682381475840.0000 - accuracy: 0.0897 - val_loss: 1561833635840.0000 - val_accuracy: 0.0000e+00\n",
      "Epoch 99/100\n",
      "78/78 [==============================] - 1s 13ms/step - loss: 702241374208.0000 - accuracy: 0.0897 - val_loss: 1603197992960.0000 - val_accuracy: 0.0000e+00\n",
      "Epoch 100/100\n",
      "78/78 [==============================] - 1s 14ms/step - loss: 719884124160.0000 - accuracy: 0.0897 - val_loss: 1643548246016.0000 - val_accuracy: 0.0000e+00\n"
     ]
    }
   ],
   "source": [
    "neuralNetwork = model.fit(xTrain, yTrain, validation_data=(xTest, yTest), epochs=100, batch_size=1)"
   ]
  },
  {
   "cell_type": "code",
   "execution_count": 293,
   "metadata": {},
   "outputs": [
    {
     "data": {
      "text/plain": [
       "<matplotlib.legend.Legend at 0x1a686a8ee50>"
      ]
     },
     "execution_count": 293,
     "metadata": {},
     "output_type": "execute_result"
    },
    {
     "data": {
      "image/png": "[encoded data removed]",
      "text/plain": [
       "<Figure size 640x480 with 1 Axes>"
      ]
     },
     "metadata": {},
     "output_type": "display_data"
    }
   ],
   "source": [
    "plt.plot(neuralNetwork.history['loss'], label = 'loss')\n",
    "plt.plot(neuralNetwork.history['val_loss'], label = 'val_loss')\n",
    "plt.legend()"
   ]
  },
  {
   "cell_type": "code",
   "execution_count": 294,
   "metadata": {},
   "outputs": [
    {
     "data": {
      "text/plain": [
       "<matplotlib.legend.Legend at 0x1a686b06350>"
      ]
     },
     "execution_count": 294,
     "metadata": {},
     "output_type": "execute_result"
    },
    {
     "data": {
      "image/png": "[encoded data removed]",
      "text/plain": [
       "<Figure size 640x480 with 1 Axes>"
      ]
     },
     "metadata": {},
     "output_type": "display_data"
    }
   ],
   "source": [
    "plt.plot(neuralNetwork.history[\"accuracy\"], label = 'acc')\n",
    "plt.plot(neuralNetwork.history[\"val_accuracy\"], label = 'val_acc')\n",
    "plt.legend()"
   ]
  },
  {
   "cell_type": "code",
   "execution_count": 295,
   "metadata": {},
   "outputs": [
    {
     "data": {
      "text/plain": [
       "array([   3, 2313, 6363, ...,    0,    0,    0])"
      ]
     },
     "execution_count": 295,
     "metadata": {},
     "output_type": "execute_result"
    }
   ],
   "source": [
    "xTest[1]"
   ]
  },
  {
   "cell_type": "code",
   "execution_count": 299,
   "metadata": {},
   "outputs": [
    {
     "name": "stdout",
     "output_type": "stream",
     "text": [
      "1/1 [==============================] - 0s 56ms/step\n"
     ]
    },
    {
     "data": {
      "text/plain": [
       "array([[1., 0., 0., 0., 0., 0., 0., 0., 0., 0., 0., 0., 0., 0., 0.],\n",
       "       [1., 0., 0., 0., 0., 0., 0., 0., 0., 0., 0., 0., 0., 0., 0.],\n",
       "       [1., 0., 0., 0., 0., 0., 0., 0., 0., 0., 0., 0., 0., 0., 0.],\n",
       "       [1., 0., 0., 0., 0., 0., 0., 0., 0., 0., 0., 0., 0., 0., 0.],\n",
       "       [1., 0., 0., 0., 0., 0., 0., 0., 0., 0., 0., 0., 0., 0., 0.],\n",
       "       [1., 0., 0., 0., 0., 0., 0., 0., 0., 0., 0., 0., 0., 0., 0.],\n",
       "       [1., 0., 0., 0., 0., 0., 0., 0., 0., 0., 0., 0., 0., 0., 0.],\n",
       "       [1., 0., 0., 0., 0., 0., 0., 0., 0., 0., 0., 0., 0., 0., 0.],\n",
       "       [1., 0., 0., 0., 0., 0., 0., 0., 0., 0., 0., 0., 0., 0., 0.],\n",
       "       [1., 0., 0., 0., 0., 0., 0., 0., 0., 0., 0., 0., 0., 0., 0.],\n",
       "       [1., 0., 0., 0., 0., 0., 0., 0., 0., 0., 0., 0., 0., 0., 0.],\n",
       "       [1., 0., 0., 0., 0., 0., 0., 0., 0., 0., 0., 0., 0., 0., 0.],\n",
       "       [1., 0., 0., 0., 0., 0., 0., 0., 0., 0., 0., 0., 0., 0., 0.],\n",
       "       [1., 0., 0., 0., 0., 0., 0., 0., 0., 0., 0., 0., 0., 0., 0.],\n",
       "       [1., 0., 0., 0., 0., 0., 0., 0., 0., 0., 0., 0., 0., 0., 0.],\n",
       "       [1., 0., 0., 0., 0., 0., 0., 0., 0., 0., 0., 0., 0., 0., 0.],\n",
       "       [1., 0., 0., 0., 0., 0., 0., 0., 0., 0., 0., 0., 0., 0., 0.],\n",
       "       [1., 0., 0., 0., 0., 0., 0., 0., 0., 0., 0., 0., 0., 0., 0.],\n",
       "       [1., 0., 0., 0., 0., 0., 0., 0., 0., 0., 0., 0., 0., 0., 0.],\n",
       "       [1., 0., 0., 0., 0., 0., 0., 0., 0., 0., 0., 0., 0., 0., 0.]],\n",
       "      dtype=float32)"
      ]
     },
     "execution_count": 299,
     "metadata": {},
     "output_type": "execute_result"
    }
   ],
   "source": [
    "model.predict(xTest[0:20])"
   ]
  },
  {
   "cell_type": "code",
   "execution_count": 276,
   "metadata": {},
   "outputs": [
    {
     "data": {
      "text/plain": [
       "array([[1743,  226, 1753, 2310,  676, 1754,    5,  534,    7,  993,    0,\n",
       "           0,    0,    0,    0],\n",
       "       [1396, 7352,    2, 1320,    1,  867,  131, 3412,    9,  816,    3,\n",
       "        1388,    0,    0,    0],\n",
       "       [2270,   11, 1647, 1398,    4,  603,  677,  530, 7354,    4, 2296,\n",
       "           0,    0,    0,    0],\n",
       "       [ 419, 1399,  811, 3438,   12, 1759,  109,  860,    1, 2329,    0,\n",
       "           0,    0,    0,    0],\n",
       "       [  11,  960, 1323,  226, 1753, 7357,    3,  676,    7,  993, 3399,\n",
       "           0,    0,    0,    0],\n",
       "       [3214,    1, 3446,  619, 1912,    5,  530, 1761,   53, 3448,    7,\n",
       "         678,    0,    0,    0],\n",
       "       [3451,  600,   21,  301,    9, 7360, 1764, 1184,    1, 6635,    0,\n",
       "           0,    0,    0,    0],\n",
       "       [1918, 1173, 1765, 7364,    9, 1898, 7365,    9,    2, 1355, 3468,\n",
       "           0,    0,    0,    0],\n",
       "       [6701,   22, 1768, 7367,    4, 3334,  811,  106,    4, 3469,    0,\n",
       "           0,    0,    0,    0],\n",
       "       [ 754, 1771, 1404,  195, 7369,    1, 7370,    8, 1299,    4,  249,\n",
       "           0,    0,    0,    0],\n",
       "       [ 115,    4,   88, 3488, 2204, 1008,   21,  999, 3493, 7372,    4,\n",
       "        6809,    0,    0,    0],\n",
       "       [2347, 1143,  165,  533,   12,  866,    5, 1009, 7374,    2, 1776,\n",
       "          17,   61,    3,   29],\n",
       "       [ 128,   74, 2355, 3513,    5, 2354,   15, 1739,   34, 2358,    0,\n",
       "           0,    0,    0,    0],\n",
       "       [ 178,  496, 7376, 1183, 1282,  199,    4,  176,    5,   40,  642,\n",
       "           7,  563,    0,    0],\n",
       "       [ 753, 1779,  414, 7378,    6,  988,  673,   20,   25, 1031,    0,\n",
       "           0,    0,    0,    0],\n",
       "       [  51,  107, 7380, 1407,  675,    5, 3572, 1601,    4,  134, 7008,\n",
       "           0,    0,    0,    0],\n",
       "       [  11, 7382,    1, 1782,  532, 2603, 3544,    5, 7383, 7072,    0,\n",
       "           0,    0,    0,    0],\n",
       "       [3553,    1, 7385, 1172, 7386, 7387, 7388,    1, 1409,    6,    0,\n",
       "           0,    0,    0,    0],\n",
       "       [1773, 2366, 3563,    1,   36, 1113,  136,   17,  497,   10, 1405,\n",
       "          30, 1403, 1774,    0],\n",
       "       [ 127, 3566,    1, 3567, 7391,  458,    4, 2367,   69, 7392,    1,\n",
       "        3568,    0,    0,    0]])"
      ]
     },
     "execution_count": 276,
     "metadata": {},
     "output_type": "execute_result"
    }
   ],
   "source": [
    "yTest[0:20]"
   ]
  }
 ],
 "metadata": {
  "kernelspec": {
   "display_name": "Python 3",
   "language": "python",
   "name": "python3"
  },
  "language_info": {
   "codemirror_mode": {
    "name": "ipython",
    "version": 3
   },
   "file_extension": ".py",
   "mimetype": "text/x-python",
   "name": "python",
   "nbconvert_exporter": "python",
   "pygments_lexer": "ipython3",
   "version": "3.11.7"
  }
 },
 "nbformat": 4,
 "nbformat_minor": 2
}
