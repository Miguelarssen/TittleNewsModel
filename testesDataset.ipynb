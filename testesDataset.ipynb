{
 "cells": [
  {
   "cell_type": "code",
   "execution_count": 379,
   "metadata": {},
   "outputs": [],
   "source": [
    "import pandas as pd\n",
    "import matplotlib.pyplot as plt \n",
    "import numpy as np\n",
    "from tensorflow.keras.preprocessing.text import Tokenizer\n",
    "from tensorflow.keras.preprocessing.sequence import pad_sequences\n"
   ]
  },
  {
   "cell_type": "code",
   "execution_count": 380,
   "metadata": {},
   "outputs": [],
   "source": [
    "dataset = pd.read_csv(\"historicoMaterias.csv\")"
   ]
  },
  {
   "cell_type": "code",
   "execution_count": 381,
   "metadata": {},
   "outputs": [
    {
     "data": {
      "text/html": [
       "<div>\n",
       "<style scoped>\n",
       "    .dataframe tbody tr th:only-of-type {\n",
       "        vertical-align: middle;\n",
       "    }\n",
       "\n",
       "    .dataframe tbody tr th {\n",
       "        vertical-align: top;\n",
       "    }\n",
       "\n",
       "    .dataframe thead th {\n",
       "        text-align: right;\n",
       "    }\n",
       "</style>\n",
       "<table border=\"1\" class=\"dataframe\">\n",
       "  <thead>\n",
       "    <tr style=\"text-align: right;\">\n",
       "      <th></th>\n",
       "      <th>data</th>\n",
       "      <th>url_noticia</th>\n",
       "      <th>url_noticia_curto</th>\n",
       "      <th>titulo</th>\n",
       "      <th>conteudo_noticia</th>\n",
       "      <th>assunto</th>\n",
       "    </tr>\n",
       "  </thead>\n",
       "  <tbody>\n",
       "    <tr>\n",
       "      <th>0</th>\n",
       "      <td>2014-01-25</td>\n",
       "      <td>https://web.archive.org/web/20140125123631/htt...</td>\n",
       "      <td>http://g1.globo.com/economia/noticia/2014/01/m...</td>\n",
       "      <td>Mesmo com alta do dólar, gastos de brasileiros...</td>\n",
       "      <td>\\n\\tA alta de 15% no dólar em 2013, a maior do...</td>\n",
       "      <td>economia</td>\n",
       "    </tr>\n",
       "    <tr>\n",
       "      <th>1</th>\n",
       "      <td>2014-01-25</td>\n",
       "      <td>https://web.archive.org/web/20140125123631/htt...</td>\n",
       "      <td>http://g1.globo.com/economia/noticia/2014/01/p...</td>\n",
       "      <td>Para Dilma, é 'apressada' a tese de que emerge...</td>\n",
       "      <td>\\n\\tA presidente Dilma Rousseff afirmou nesta ...</td>\n",
       "      <td>economia</td>\n",
       "    </tr>\n",
       "    <tr>\n",
       "      <th>2</th>\n",
       "      <td>2014-01-25</td>\n",
       "      <td>https://web.archive.org/web/20140125123631/htt...</td>\n",
       "      <td>http://g1.globo.com/economia/noticia/2014/01/t...</td>\n",
       "      <td>Temos sido capazes de reduzir a inflação', diz...</td>\n",
       "      <td>\\n\\tO presidente do Banco Central, Alexandre T...</td>\n",
       "      <td>economia</td>\n",
       "    </tr>\n",
       "    <tr>\n",
       "      <th>3</th>\n",
       "      <td>2014-01-25</td>\n",
       "      <td>https://web.archive.org/web/20140125123631/htt...</td>\n",
       "      <td>http://g1.globo.com/economia/noticia/2014/01/g...</td>\n",
       "      <td>Governo argentino autoriza compra de dólares a...</td>\n",
       "      <td>\\n\\tO governo argentino anunciou nesta sexta-f...</td>\n",
       "      <td>economia</td>\n",
       "    </tr>\n",
       "    <tr>\n",
       "      <th>4</th>\n",
       "      <td>2014-01-25</td>\n",
       "      <td>https://web.archive.org/web/20140125123631/htt...</td>\n",
       "      <td>http://g1.globo.com/economia/noticia/2014/01/p...</td>\n",
       "      <td>Petrobras desiste de parte da área de Bem-te-v...</td>\n",
       "      <td>\\n\\tA Petrobras afirmou que propôs à Agência N...</td>\n",
       "      <td>economia</td>\n",
       "    </tr>\n",
       "    <tr>\n",
       "      <th>...</th>\n",
       "      <td>...</td>\n",
       "      <td>...</td>\n",
       "      <td>...</td>\n",
       "      <td>...</td>\n",
       "      <td>...</td>\n",
       "      <td>...</td>\n",
       "    </tr>\n",
       "    <tr>\n",
       "      <th>10104</th>\n",
       "      <td>2018-12-22</td>\n",
       "      <td>https://web.archive.org/web/20181222014135/htt...</td>\n",
       "      <td>https://g1.globo.com/economia/tecnologia/notic...</td>\n",
       "      <td>Brasil ganha 10 milhões de internautas em 1 an...</td>\n",
       "      <td>Em apenas 1 ano, o número de internautas no B...</td>\n",
       "      <td>tecnologia</td>\n",
       "    </tr>\n",
       "    <tr>\n",
       "      <th>10105</th>\n",
       "      <td>2018-12-27</td>\n",
       "      <td>https://web.archive.org/web/20181227111959/htt...</td>\n",
       "      <td>https://g1.globo.com/economia/tecnologia/notic...</td>\n",
       "      <td>Como a Coreia do Norte quer usar alta tecnolog...</td>\n",
       "      <td>A Coreia do Norte costuma ostentar seu aparat...</td>\n",
       "      <td>tecnologia</td>\n",
       "    </tr>\n",
       "    <tr>\n",
       "      <th>10106</th>\n",
       "      <td>2018-12-27</td>\n",
       "      <td>https://web.archive.org/web/20181227111959/htt...</td>\n",
       "      <td>https://g1.globo.com/economia/tecnologia/notic...</td>\n",
       "      <td>Venda de computadores desacelera por eleições ...</td>\n",
       "      <td>As vendas de computadores no Brasil desaceler...</td>\n",
       "      <td>tecnologia</td>\n",
       "    </tr>\n",
       "    <tr>\n",
       "      <th>10107</th>\n",
       "      <td>2018-12-28</td>\n",
       "      <td>https://web.archive.org/web/20181228065113/htt...</td>\n",
       "      <td>https://g1.globo.com/economia/tecnologia/notic...</td>\n",
       "      <td>Instagram passa a mostrar posts na horizontal,...</td>\n",
       "      <td>O Instagram liberou na tarde desta quinta-fei...</td>\n",
       "      <td>tecnologia</td>\n",
       "    </tr>\n",
       "    <tr>\n",
       "      <th>10108</th>\n",
       "      <td>2018-12-28</td>\n",
       "      <td>https://web.archive.org/web/20181228065113/htt...</td>\n",
       "      <td>https://g1.globo.com/economia/tecnologia/blog/...</td>\n",
       "      <td>Instagram: como adicionar uma contagem regress...</td>\n",
       "      <td>O ano está terminando, e com ele começa a tem...</td>\n",
       "      <td>tecnologia</td>\n",
       "    </tr>\n",
       "  </tbody>\n",
       "</table>\n",
       "<p>10109 rows × 6 columns</p>\n",
       "</div>"
      ],
      "text/plain": [
       "             data                                        url_noticia  \\\n",
       "0      2014-01-25  https://web.archive.org/web/20140125123631/htt...   \n",
       "1      2014-01-25  https://web.archive.org/web/20140125123631/htt...   \n",
       "2      2014-01-25  https://web.archive.org/web/20140125123631/htt...   \n",
       "3      2014-01-25  https://web.archive.org/web/20140125123631/htt...   \n",
       "4      2014-01-25  https://web.archive.org/web/20140125123631/htt...   \n",
       "...           ...                                                ...   \n",
       "10104  2018-12-22  https://web.archive.org/web/20181222014135/htt...   \n",
       "10105  2018-12-27  https://web.archive.org/web/20181227111959/htt...   \n",
       "10106  2018-12-27  https://web.archive.org/web/20181227111959/htt...   \n",
       "10107  2018-12-28  https://web.archive.org/web/20181228065113/htt...   \n",
       "10108  2018-12-28  https://web.archive.org/web/20181228065113/htt...   \n",
       "\n",
       "                                       url_noticia_curto  \\\n",
       "0      http://g1.globo.com/economia/noticia/2014/01/m...   \n",
       "1      http://g1.globo.com/economia/noticia/2014/01/p...   \n",
       "2      http://g1.globo.com/economia/noticia/2014/01/t...   \n",
       "3      http://g1.globo.com/economia/noticia/2014/01/g...   \n",
       "4      http://g1.globo.com/economia/noticia/2014/01/p...   \n",
       "...                                                  ...   \n",
       "10104  https://g1.globo.com/economia/tecnologia/notic...   \n",
       "10105  https://g1.globo.com/economia/tecnologia/notic...   \n",
       "10106  https://g1.globo.com/economia/tecnologia/notic...   \n",
       "10107  https://g1.globo.com/economia/tecnologia/notic...   \n",
       "10108  https://g1.globo.com/economia/tecnologia/blog/...   \n",
       "\n",
       "                                                  titulo  \\\n",
       "0      Mesmo com alta do dólar, gastos de brasileiros...   \n",
       "1      Para Dilma, é 'apressada' a tese de que emerge...   \n",
       "2      Temos sido capazes de reduzir a inflação', diz...   \n",
       "3      Governo argentino autoriza compra de dólares a...   \n",
       "4      Petrobras desiste de parte da área de Bem-te-v...   \n",
       "...                                                  ...   \n",
       "10104  Brasil ganha 10 milhões de internautas em 1 an...   \n",
       "10105  Como a Coreia do Norte quer usar alta tecnolog...   \n",
       "10106  Venda de computadores desacelera por eleições ...   \n",
       "10107  Instagram passa a mostrar posts na horizontal,...   \n",
       "10108  Instagram: como adicionar uma contagem regress...   \n",
       "\n",
       "                                        conteudo_noticia     assunto  \n",
       "0      \\n\\tA alta de 15% no dólar em 2013, a maior do...    economia  \n",
       "1      \\n\\tA presidente Dilma Rousseff afirmou nesta ...    economia  \n",
       "2      \\n\\tO presidente do Banco Central, Alexandre T...    economia  \n",
       "3      \\n\\tO governo argentino anunciou nesta sexta-f...    economia  \n",
       "4      \\n\\tA Petrobras afirmou que propôs à Agência N...    economia  \n",
       "...                                                  ...         ...  \n",
       "10104   Em apenas 1 ano, o número de internautas no B...  tecnologia  \n",
       "10105   A Coreia do Norte costuma ostentar seu aparat...  tecnologia  \n",
       "10106   As vendas de computadores no Brasil desaceler...  tecnologia  \n",
       "10107   O Instagram liberou na tarde desta quinta-fei...  tecnologia  \n",
       "10108   O ano está terminando, e com ele começa a tem...  tecnologia  \n",
       "\n",
       "[10109 rows x 6 columns]"
      ]
     },
     "execution_count": 381,
     "metadata": {},
     "output_type": "execute_result"
    }
   ],
   "source": [
    "dataset"
   ]
  },
  {
   "cell_type": "markdown",
   "metadata": {},
   "source": [
    "Dropando colunas desncessárias para o objetivo da rede neural"
   ]
  },
  {
   "cell_type": "code",
   "execution_count": 382,
   "metadata": {},
   "outputs": [],
   "source": [
    "dataset = dataset.drop([\"url_noticia\", \"url_noticia_curto\", \"assunto\", \"data\"], axis=1)"
   ]
  },
  {
   "cell_type": "code",
   "execution_count": 383,
   "metadata": {},
   "outputs": [
    {
     "data": {
      "text/html": [
       "<div>\n",
       "<style scoped>\n",
       "    .dataframe tbody tr th:only-of-type {\n",
       "        vertical-align: middle;\n",
       "    }\n",
       "\n",
       "    .dataframe tbody tr th {\n",
       "        vertical-align: top;\n",
       "    }\n",
       "\n",
       "    .dataframe thead th {\n",
       "        text-align: right;\n",
       "    }\n",
       "</style>\n",
       "<table border=\"1\" class=\"dataframe\">\n",
       "  <thead>\n",
       "    <tr style=\"text-align: right;\">\n",
       "      <th></th>\n",
       "      <th>titulo</th>\n",
       "      <th>conteudo_noticia</th>\n",
       "    </tr>\n",
       "  </thead>\n",
       "  <tbody>\n",
       "    <tr>\n",
       "      <th>0</th>\n",
       "      <td>Mesmo com alta do dólar, gastos de brasileiros...</td>\n",
       "      <td>\\n\\tA alta de 15% no dólar em 2013, a maior do...</td>\n",
       "    </tr>\n",
       "    <tr>\n",
       "      <th>1</th>\n",
       "      <td>Para Dilma, é 'apressada' a tese de que emerge...</td>\n",
       "      <td>\\n\\tA presidente Dilma Rousseff afirmou nesta ...</td>\n",
       "    </tr>\n",
       "    <tr>\n",
       "      <th>2</th>\n",
       "      <td>Temos sido capazes de reduzir a inflação', diz...</td>\n",
       "      <td>\\n\\tO presidente do Banco Central, Alexandre T...</td>\n",
       "    </tr>\n",
       "    <tr>\n",
       "      <th>3</th>\n",
       "      <td>Governo argentino autoriza compra de dólares a...</td>\n",
       "      <td>\\n\\tO governo argentino anunciou nesta sexta-f...</td>\n",
       "    </tr>\n",
       "    <tr>\n",
       "      <th>4</th>\n",
       "      <td>Petrobras desiste de parte da área de Bem-te-v...</td>\n",
       "      <td>\\n\\tA Petrobras afirmou que propôs à Agência N...</td>\n",
       "    </tr>\n",
       "    <tr>\n",
       "      <th>...</th>\n",
       "      <td>...</td>\n",
       "      <td>...</td>\n",
       "    </tr>\n",
       "    <tr>\n",
       "      <th>10104</th>\n",
       "      <td>Brasil ganha 10 milhões de internautas em 1 an...</td>\n",
       "      <td>Em apenas 1 ano, o número de internautas no B...</td>\n",
       "    </tr>\n",
       "    <tr>\n",
       "      <th>10105</th>\n",
       "      <td>Como a Coreia do Norte quer usar alta tecnolog...</td>\n",
       "      <td>A Coreia do Norte costuma ostentar seu aparat...</td>\n",
       "    </tr>\n",
       "    <tr>\n",
       "      <th>10106</th>\n",
       "      <td>Venda de computadores desacelera por eleições ...</td>\n",
       "      <td>As vendas de computadores no Brasil desaceler...</td>\n",
       "    </tr>\n",
       "    <tr>\n",
       "      <th>10107</th>\n",
       "      <td>Instagram passa a mostrar posts na horizontal,...</td>\n",
       "      <td>O Instagram liberou na tarde desta quinta-fei...</td>\n",
       "    </tr>\n",
       "    <tr>\n",
       "      <th>10108</th>\n",
       "      <td>Instagram: como adicionar uma contagem regress...</td>\n",
       "      <td>O ano está terminando, e com ele começa a tem...</td>\n",
       "    </tr>\n",
       "  </tbody>\n",
       "</table>\n",
       "<p>10109 rows × 2 columns</p>\n",
       "</div>"
      ],
      "text/plain": [
       "                                                  titulo  \\\n",
       "0      Mesmo com alta do dólar, gastos de brasileiros...   \n",
       "1      Para Dilma, é 'apressada' a tese de que emerge...   \n",
       "2      Temos sido capazes de reduzir a inflação', diz...   \n",
       "3      Governo argentino autoriza compra de dólares a...   \n",
       "4      Petrobras desiste de parte da área de Bem-te-v...   \n",
       "...                                                  ...   \n",
       "10104  Brasil ganha 10 milhões de internautas em 1 an...   \n",
       "10105  Como a Coreia do Norte quer usar alta tecnolog...   \n",
       "10106  Venda de computadores desacelera por eleições ...   \n",
       "10107  Instagram passa a mostrar posts na horizontal,...   \n",
       "10108  Instagram: como adicionar uma contagem regress...   \n",
       "\n",
       "                                        conteudo_noticia  \n",
       "0      \\n\\tA alta de 15% no dólar em 2013, a maior do...  \n",
       "1      \\n\\tA presidente Dilma Rousseff afirmou nesta ...  \n",
       "2      \\n\\tO presidente do Banco Central, Alexandre T...  \n",
       "3      \\n\\tO governo argentino anunciou nesta sexta-f...  \n",
       "4      \\n\\tA Petrobras afirmou que propôs à Agência N...  \n",
       "...                                                  ...  \n",
       "10104   Em apenas 1 ano, o número de internautas no B...  \n",
       "10105   A Coreia do Norte costuma ostentar seu aparat...  \n",
       "10106   As vendas de computadores no Brasil desaceler...  \n",
       "10107   O Instagram liberou na tarde desta quinta-fei...  \n",
       "10108   O ano está terminando, e com ele começa a tem...  \n",
       "\n",
       "[10109 rows x 2 columns]"
      ]
     },
     "execution_count": 383,
     "metadata": {},
     "output_type": "execute_result"
    }
   ],
   "source": [
    "dataset"
   ]
  },
  {
   "cell_type": "markdown",
   "metadata": {},
   "source": [
    "Como é possível observar na tabela acima, o banco de dados dos textos, ainda possuem alguns caracteres restritos, como /n, /t, /xa0 e etc. Neste caso, estarei tratando para que estes sejam removidos todos do banco de dados"
   ]
  },
  {
   "cell_type": "code",
   "execution_count": 384,
   "metadata": {},
   "outputs": [],
   "source": [
    "x = 0\n",
    "\n",
    "for string in dataset[\"conteudo_noticia\"]:\n",
    "    string = str(string).replace(\"\\n\", \" \")\n",
    "    string = str(string).replace(\"\\t\", \" \")\n",
    "    string = str(string).replace(\"\\xa0\", \" \")\n",
    "    dataset.iloc[x][\"conteudo_noticia\"] = string\n",
    "    x+=1\n"
   ]
  },
  {
   "cell_type": "markdown",
   "metadata": {},
   "source": [
    "Encurtamento prático"
   ]
  },
  {
   "cell_type": "code",
   "execution_count": 385,
   "metadata": {},
   "outputs": [],
   "source": [
    "dataset = dataset.iloc[1:100]"
   ]
  },
  {
   "cell_type": "code",
   "execution_count": 386,
   "metadata": {},
   "outputs": [
    {
     "data": {
      "text/html": [
       "<div>\n",
       "<style scoped>\n",
       "    .dataframe tbody tr th:only-of-type {\n",
       "        vertical-align: middle;\n",
       "    }\n",
       "\n",
       "    .dataframe tbody tr th {\n",
       "        vertical-align: top;\n",
       "    }\n",
       "\n",
       "    .dataframe thead th {\n",
       "        text-align: right;\n",
       "    }\n",
       "</style>\n",
       "<table border=\"1\" class=\"dataframe\">\n",
       "  <thead>\n",
       "    <tr style=\"text-align: right;\">\n",
       "      <th></th>\n",
       "      <th>titulo</th>\n",
       "      <th>conteudo_noticia</th>\n",
       "    </tr>\n",
       "  </thead>\n",
       "  <tbody>\n",
       "    <tr>\n",
       "      <th>1</th>\n",
       "      <td>Para Dilma, é 'apressada' a tese de que emerge...</td>\n",
       "      <td>A presidente Dilma Rousseff afirmou nesta se...</td>\n",
       "    </tr>\n",
       "    <tr>\n",
       "      <th>2</th>\n",
       "      <td>Temos sido capazes de reduzir a inflação', diz...</td>\n",
       "      <td>O presidente do Banco Central, Alexandre Tom...</td>\n",
       "    </tr>\n",
       "    <tr>\n",
       "      <th>3</th>\n",
       "      <td>Governo argentino autoriza compra de dólares a...</td>\n",
       "      <td>O governo argentino anunciou nesta sexta-fei...</td>\n",
       "    </tr>\n",
       "    <tr>\n",
       "      <th>4</th>\n",
       "      <td>Petrobras desiste de parte da área de Bem-te-v...</td>\n",
       "      <td>A Petrobras afirmou que propôs à Agência Nac...</td>\n",
       "    </tr>\n",
       "    <tr>\n",
       "      <th>5</th>\n",
       "      <td>Consórcio deverá investir R$ 5,1 bilhões em li...</td>\n",
       "      <td>Vencedor do leilão da linha de transmissão d...</td>\n",
       "    </tr>\n",
       "    <tr>\n",
       "      <th>...</th>\n",
       "      <td>...</td>\n",
       "      <td>...</td>\n",
       "    </tr>\n",
       "    <tr>\n",
       "      <th>95</th>\n",
       "      <td>São Paulo goleia Auto Esporte e assume lideran...</td>\n",
       "      <td>O São Paulo se redimiu da estreia decepcionant...</td>\n",
       "    </tr>\n",
       "    <tr>\n",
       "      <th>96</th>\n",
       "      <td>Com 'portunhol' de Dinamite, Vasco apresenta g...</td>\n",
       "      <td>Em alto astral no primeiro dia da reapresentaç...</td>\n",
       "    </tr>\n",
       "    <tr>\n",
       "      <th>97</th>\n",
       "      <td>Irmãos de tatuagem': Neymar imita 'Tudo passa'...</td>\n",
       "      <td>Antes do Natal, o atacante Neymar, do Barcelon...</td>\n",
       "    </tr>\n",
       "    <tr>\n",
       "      <th>98</th>\n",
       "      <td>R10 receberia bônus de R$ 65 mil por jogo no B...</td>\n",
       "      <td>A proposta final do Besiktas já está nas mãos ...</td>\n",
       "    </tr>\n",
       "    <tr>\n",
       "      <th>99</th>\n",
       "      <td>Sem pulo de Klose decide vitória do Lazio sobr...</td>\n",
       "      <td>Um sem pulo de Miroslav Klose foi decisivo par...</td>\n",
       "    </tr>\n",
       "  </tbody>\n",
       "</table>\n",
       "<p>99 rows × 2 columns</p>\n",
       "</div>"
      ],
      "text/plain": [
       "                                               titulo  \\\n",
       "1   Para Dilma, é 'apressada' a tese de que emerge...   \n",
       "2   Temos sido capazes de reduzir a inflação', diz...   \n",
       "3   Governo argentino autoriza compra de dólares a...   \n",
       "4   Petrobras desiste de parte da área de Bem-te-v...   \n",
       "5   Consórcio deverá investir R$ 5,1 bilhões em li...   \n",
       "..                                                ...   \n",
       "95  São Paulo goleia Auto Esporte e assume lideran...   \n",
       "96  Com 'portunhol' de Dinamite, Vasco apresenta g...   \n",
       "97  Irmãos de tatuagem': Neymar imita 'Tudo passa'...   \n",
       "98  R10 receberia bônus de R$ 65 mil por jogo no B...   \n",
       "99  Sem pulo de Klose decide vitória do Lazio sobr...   \n",
       "\n",
       "                                     conteudo_noticia  \n",
       "1     A presidente Dilma Rousseff afirmou nesta se...  \n",
       "2     O presidente do Banco Central, Alexandre Tom...  \n",
       "3     O governo argentino anunciou nesta sexta-fei...  \n",
       "4     A Petrobras afirmou que propôs à Agência Nac...  \n",
       "5     Vencedor do leilão da linha de transmissão d...  \n",
       "..                                                ...  \n",
       "95  O São Paulo se redimiu da estreia decepcionant...  \n",
       "96  Em alto astral no primeiro dia da reapresentaç...  \n",
       "97  Antes do Natal, o atacante Neymar, do Barcelon...  \n",
       "98  A proposta final do Besiktas já está nas mãos ...  \n",
       "99  Um sem pulo de Miroslav Klose foi decisivo par...  \n",
       "\n",
       "[99 rows x 2 columns]"
      ]
     },
     "execution_count": 386,
     "metadata": {},
     "output_type": "execute_result"
    }
   ],
   "source": [
    "dataset"
   ]
  },
  {
   "cell_type": "markdown",
   "metadata": {},
   "source": [
    "Para que a tokenization seja efetiva, preciso tokenizar o texto todo existente no meu dataset. Este banco de dados possuí blocos de texto, ao invés de ser um texto corrido completo, neste caso, é por esta razão que eu somo o texto todo para então passar o tokenizador. Se eu passar ele individualmente em cada bloco de texto, cada linha do meu dataset teria uma tokenização diferente, ou seja, a mesma palavra em diferentes blocos de texto teria 2 tokens"
   ]
  },
  {
   "cell_type": "code",
   "execution_count": 387,
   "metadata": {},
   "outputs": [],
   "source": [
    "corpus = ''\n",
    "\n",
    "for string in dataset[\"conteudo_noticia\"]:\n",
    "    corpus += string"
   ]
  },
  {
   "cell_type": "code",
   "execution_count": 388,
   "metadata": {},
   "outputs": [],
   "source": [
    "for string in dataset[\"titulo\"]:\n",
    "    corpus += string"
   ]
  },
  {
   "cell_type": "code",
   "execution_count": 389,
   "metadata": {},
   "outputs": [],
   "source": [
    "corpus = corpus.lower().split(\"\\n\")"
   ]
  },
  {
   "cell_type": "code",
   "execution_count": 390,
   "metadata": {},
   "outputs": [],
   "source": [
    "tokenizer = Tokenizer()\n",
    "tokenizer.fit_on_texts(corpus)"
   ]
  },
  {
   "cell_type": "markdown",
   "metadata": {},
   "source": [
    "Quantidade total de palavras detectadas no texto"
   ]
  },
  {
   "cell_type": "code",
   "execution_count": 391,
   "metadata": {},
   "outputs": [
    {
     "data": {
      "text/plain": [
       "7392"
      ]
     },
     "execution_count": 391,
     "metadata": {},
     "output_type": "execute_result"
    }
   ],
   "source": [
    "len(tokenizer.word_index)"
   ]
  },
  {
   "cell_type": "markdown",
   "metadata": {},
   "source": [
    "Nesta parte, eu pego o dataset original, e vou converte-lo para tokens"
   ]
  },
  {
   "cell_type": "code",
   "execution_count": 392,
   "metadata": {},
   "outputs": [
    {
     "name": "stderr",
     "output_type": "stream",
     "text": [
      "C:\\Users\\migue\\AppData\\Local\\Temp\\ipykernel_10052\\1525063593.py:2: SettingWithCopyWarning: \n",
      "A value is trying to be set on a copy of a slice from a DataFrame\n",
      "\n",
      "See the caveats in the documentation: https://pandas.pydata.org/pandas-docs/stable/user_guide/indexing.html#returning-a-view-versus-a-copy\n",
      "  dataset[\"conteudo_noticia\"].iloc[x] = tokenizer.texts_to_sequences([dataset[\"conteudo_noticia\"].iloc[x]])[0]\n"
     ]
    }
   ],
   "source": [
    "for x in range(len(dataset[\"conteudo_noticia\"])):\n",
    "    dataset[\"conteudo_noticia\"].iloc[x] = tokenizer.texts_to_sequences([dataset[\"conteudo_noticia\"].iloc[x]])[0]"
   ]
  },
  {
   "cell_type": "code",
   "execution_count": 393,
   "metadata": {},
   "outputs": [
    {
     "name": "stderr",
     "output_type": "stream",
     "text": [
      "C:\\Users\\migue\\AppData\\Local\\Temp\\ipykernel_10052\\2710351441.py:2: SettingWithCopyWarning: \n",
      "A value is trying to be set on a copy of a slice from a DataFrame\n",
      "\n",
      "See the caveats in the documentation: https://pandas.pydata.org/pandas-docs/stable/user_guide/indexing.html#returning-a-view-versus-a-copy\n",
      "  dataset[\"titulo\"].iloc[x] = tokenizer.texts_to_sequences([dataset[\"titulo\"].iloc[x]])[0]\n"
     ]
    }
   ],
   "source": [
    "for x in range(len(dataset[\"titulo\"])):\n",
    "    dataset[\"titulo\"].iloc[x] = tokenizer.texts_to_sequences([dataset[\"titulo\"].iloc[x]])[0]"
   ]
  },
  {
   "cell_type": "code",
   "execution_count": 394,
   "metadata": {},
   "outputs": [
    {
     "data": {
      "text/html": [
       "<div>\n",
       "<style scoped>\n",
       "    .dataframe tbody tr th:only-of-type {\n",
       "        vertical-align: middle;\n",
       "    }\n",
       "\n",
       "    .dataframe tbody tr th {\n",
       "        vertical-align: top;\n",
       "    }\n",
       "\n",
       "    .dataframe thead th {\n",
       "        text-align: right;\n",
       "    }\n",
       "</style>\n",
       "<table border=\"1\" class=\"dataframe\">\n",
       "  <thead>\n",
       "    <tr style=\"text-align: right;\">\n",
       "      <th></th>\n",
       "      <th>titulo</th>\n",
       "      <th>conteudo_noticia</th>\n",
       "    </tr>\n",
       "  </thead>\n",
       "  <tbody>\n",
       "    <tr>\n",
       "      <th>1</th>\n",
       "      <td>[9, 175, 15, 7235, 3, 1412, 1, 6, 498, 7236, 1...</td>\n",
       "      <td>[3, 54, 175, 459, 119, 55, 154, 42, 272, 241, ...</td>\n",
       "    </tr>\n",
       "    <tr>\n",
       "      <th>2</th>\n",
       "      <td>[248, 245, 2412, 1, 770, 3, 7238, 93, 616, 7, ...</td>\n",
       "      <td>[2, 54, 4, 85, 115, 1194, 616, 68, 55, 154, 42...</td>\n",
       "    </tr>\n",
       "    <tr>\n",
       "      <th>3</th>\n",
       "      <td>[45, 700, 7240, 431, 1, 779, 109, 94, 4, 327]</td>\n",
       "      <td>[2, 45, 700, 557, 55, 154, 42, 272, 6, 3677, 3...</td>\n",
       "    </tr>\n",
       "    <tr>\n",
       "      <th>4</th>\n",
       "      <td>[189, 7242, 1, 124, 8, 251, 1, 207, 1034, 894,...</td>\n",
       "      <td>[3, 189, 119, 6, 2448, 37, 232, 102, 4, 460, 1...</td>\n",
       "    </tr>\n",
       "    <tr>\n",
       "      <th>5</th>\n",
       "      <td>[1040, 562, 790, 36, 32, 26, 33, 7, 504, 1, 71...</td>\n",
       "      <td>[1838, 4, 710, 8, 504, 1, 623, 1, 711, 901, 14...</td>\n",
       "    </tr>\n",
       "    <tr>\n",
       "      <th>...</th>\n",
       "      <td>...</td>\n",
       "      <td>...</td>\n",
       "    </tr>\n",
       "    <tr>\n",
       "      <th>95</th>\n",
       "      <td>[51, 107, 7380, 1407, 675, 5, 3572, 1601, 4, 1...</td>\n",
       "      <td>[2, 51, 107, 25, 7004, 8, 866, 7005, 12, 195, ...</td>\n",
       "    </tr>\n",
       "    <tr>\n",
       "      <th>96</th>\n",
       "      <td>[11, 7382, 1, 1782, 532, 2603, 3544, 5, 7383, ...</td>\n",
       "      <td>[7, 477, 7059, 10, 111, 117, 8, 7060, 4, 7061,...</td>\n",
       "    </tr>\n",
       "    <tr>\n",
       "      <th>97</th>\n",
       "      <td>[3553, 1, 7385, 1172, 7386, 7387, 7388, 1, 140...</td>\n",
       "      <td>[220, 4, 2324, 2, 318, 1172, 4, 995, 1016, 10,...</td>\n",
       "    </tr>\n",
       "    <tr>\n",
       "      <th>98</th>\n",
       "      <td>[1773, 2366, 3563, 1, 36, 1113, 136, 17, 497, ...</td>\n",
       "      <td>[3, 472, 187, 4, 1405, 50, 63, 83, 2983, 1, 57...</td>\n",
       "    </tr>\n",
       "    <tr>\n",
       "      <th>99</th>\n",
       "      <td>[127, 3566, 1, 3567, 7391, 458, 4, 2367, 69, 7...</td>\n",
       "      <td>[13, 127, 3566, 1, 7207, 3567, 24, 3391, 9, 3,...</td>\n",
       "    </tr>\n",
       "  </tbody>\n",
       "</table>\n",
       "<p>99 rows × 2 columns</p>\n",
       "</div>"
      ],
      "text/plain": [
       "                                               titulo  \\\n",
       "1   [9, 175, 15, 7235, 3, 1412, 1, 6, 498, 7236, 1...   \n",
       "2   [248, 245, 2412, 1, 770, 3, 7238, 93, 616, 7, ...   \n",
       "3       [45, 700, 7240, 431, 1, 779, 109, 94, 4, 327]   \n",
       "4   [189, 7242, 1, 124, 8, 251, 1, 207, 1034, 894,...   \n",
       "5   [1040, 562, 790, 36, 32, 26, 33, 7, 504, 1, 71...   \n",
       "..                                                ...   \n",
       "95  [51, 107, 7380, 1407, 675, 5, 3572, 1601, 4, 1...   \n",
       "96  [11, 7382, 1, 1782, 532, 2603, 3544, 5, 7383, ...   \n",
       "97  [3553, 1, 7385, 1172, 7386, 7387, 7388, 1, 140...   \n",
       "98  [1773, 2366, 3563, 1, 36, 1113, 136, 17, 497, ...   \n",
       "99  [127, 3566, 1, 3567, 7391, 458, 4, 2367, 69, 7...   \n",
       "\n",
       "                                     conteudo_noticia  \n",
       "1   [3, 54, 175, 459, 119, 55, 154, 42, 272, 241, ...  \n",
       "2   [2, 54, 4, 85, 115, 1194, 616, 68, 55, 154, 42...  \n",
       "3   [2, 45, 700, 557, 55, 154, 42, 272, 6, 3677, 3...  \n",
       "4   [3, 189, 119, 6, 2448, 37, 232, 102, 4, 460, 1...  \n",
       "5   [1838, 4, 710, 8, 504, 1, 623, 1, 711, 901, 14...  \n",
       "..                                                ...  \n",
       "95  [2, 51, 107, 25, 7004, 8, 866, 7005, 12, 195, ...  \n",
       "96  [7, 477, 7059, 10, 111, 117, 8, 7060, 4, 7061,...  \n",
       "97  [220, 4, 2324, 2, 318, 1172, 4, 995, 1016, 10,...  \n",
       "98  [3, 472, 187, 4, 1405, 50, 63, 83, 2983, 1, 57...  \n",
       "99  [13, 127, 3566, 1, 7207, 3567, 24, 3391, 9, 3,...  \n",
       "\n",
       "[99 rows x 2 columns]"
      ]
     },
     "execution_count": 394,
     "metadata": {},
     "output_type": "execute_result"
    }
   ],
   "source": [
    "dataset"
   ]
  },
  {
   "cell_type": "code",
   "execution_count": 395,
   "metadata": {},
   "outputs": [],
   "source": [
    "maxTitle = max(len(tokens) for tokens in dataset[\"titulo\"])\n",
    "maxContent = max(len(tokens) for tokens in dataset[\"conteudo_noticia\"])"
   ]
  },
  {
   "cell_type": "code",
   "execution_count": 396,
   "metadata": {},
   "outputs": [],
   "source": [
    "for titulo in dataset[\"titulo\"]:\n",
    "    if len(titulo) > 0:\n",
    "        for x in range(maxTitle - len(titulo)): \n",
    "            titulo.append(0)"
   ]
  },
  {
   "cell_type": "code",
   "execution_count": 397,
   "metadata": {},
   "outputs": [],
   "source": [
    "for conteudo in dataset[\"conteudo_noticia\"]:\n",
    "    if len(conteudo) > 0:\n",
    "        for x in range(maxContent - len(conteudo)): \n",
    "            conteudo.append(0)"
   ]
  },
  {
   "cell_type": "markdown",
   "metadata": {},
   "source": [
    "Escrevo o novo dataset após tokenizado, por questões de segurança"
   ]
  },
  {
   "cell_type": "code",
   "execution_count": 398,
   "metadata": {},
   "outputs": [],
   "source": [
    "import csv \n",
    "with open('historicoMateriasTratado.csv', 'w', newline='') as csvfile:\n",
    "\n",
    "    header = [\"titulo\", \"conteudo_noticia\"]\n",
    "    writer = csv.writer(csvfile, delimiter=',')\n",
    "    writer.writerow(header)\n",
    "\n",
    "    for x in range (len(dataset)):       \n",
    "        # Verifico se existem células vazias, e se sim elas não são inseridas na versão tratada dos dados, pois\n",
    "        # se fossem poderiam poluir a compreensão da rede neural\n",
    "        if(len(dataset[\"conteudo_noticia\"].iloc[x]) != 0 and len(dataset[\"titulo\"].iloc[x]) != 0):           \n",
    "            writer.writerow(dataset.iloc[x])"
   ]
  },
  {
   "cell_type": "code",
   "execution_count": 399,
   "metadata": {},
   "outputs": [],
   "source": [
    "import csv \n",
    "with open('tituloTratado.csv', 'w', newline='') as csvfile:\n",
    "\n",
    "    writer = csv.writer(csvfile, delimiter=',')\n",
    "\n",
    "    for x in range (len(dataset)):       \n",
    "        # Verifico se existem células vazias, e se sim elas não são inseridas na versão tratada dos dados, pois\n",
    "        # se fossem poderiam poluir a compreensão da rede neural\n",
    "        if(len(dataset[\"conteudo_noticia\"].iloc[x]) != 0 and len(dataset[\"titulo\"].iloc[x]) != 0):           \n",
    "            writer.writerow(dataset[\"titulo\"].iloc[x])"
   ]
  },
  {
   "cell_type": "code",
   "execution_count": 400,
   "metadata": {},
   "outputs": [],
   "source": [
    "import csv \n",
    "with open('conteudoTratado.csv', 'w', newline='') as csvfile:\n",
    "\n",
    "    writer = csv.writer(csvfile, delimiter=',')\n",
    "\n",
    "    for x in range (len(dataset)):       \n",
    "        # Verifico se existem células vazias, e se sim elas não são inseridas na versão tratada dos dados, pois\n",
    "        # se fossem poderiam poluir a compreensão da rede neural\n",
    "        if(len(dataset[\"conteudo_noticia\"].iloc[x]) != 0 and len(dataset[\"titulo\"].iloc[x]) != 0):           \n",
    "            writer.writerow(dataset[\"conteudo_noticia\"].iloc[x])"
   ]
  },
  {
   "cell_type": "code",
   "execution_count": 371,
   "metadata": {},
   "outputs": [],
   "source": [
    "import json\n",
    "\n",
    "with open(\"tokenizer.json\", \"w\") as jsonfile:\n",
    "    json.dump(tokenizer.to_json(), jsonfile)"
   ]
  }
 ],
 "metadata": {
  "kernelspec": {
   "display_name": "Python 3",
   "language": "python",
   "name": "python3"
  },
  "language_info": {
   "codemirror_mode": {
    "name": "ipython",
    "version": 3
   },
   "file_extension": ".py",
   "mimetype": "text/x-python",
   "name": "python",
   "nbconvert_exporter": "python",
   "pygments_lexer": "ipython3",
   "version": "3.11.7"
  }
 },
 "nbformat": 4,
 "nbformat_minor": 2
}
